{
 "cells": [
  {
   "cell_type": "code",
   "execution_count": 3,
   "metadata": {
    "collapsed": true
   },
   "outputs": [
    {
     "name": "stderr",
     "output_type": "stream",
     "text": [
      "c:\\users\\a.vivek\\appdata\\local\\programs\\python\\python36\\lib\\site-packages\\gensim\\utils.py:1197: UserWarning: detected Windows; aliasing chunkize to chunkize_serial\n  warnings.warn(\"detected Windows; aliasing chunkize to chunkize_serial\")\n"
     ]
    }
   ],
   "source": [
    "# Run in terminal or command prompt\n",
    "# python3 -m spacy download en\n",
    "\n",
    "import numpy as np\n",
    "import pandas as pd\n",
    "import re, nltk, spacy, gensim\n",
    "\n",
    "# Sklearn\n",
    "from sklearn.decomposition import LatentDirichletAllocation, TruncatedSVD\n",
    "from sklearn.feature_extraction.text import CountVectorizer, TfidfVectorizer\n",
    "from sklearn.model_selection import GridSearchCV\n",
    "from pprint import pprint\n",
    "\n",
    "# Plotting tools\n",
    "import pyLDAvis\n",
    "import pyLDAvis.sklearn\n",
    "import matplotlib.pyplot as plt\n",
    "%matplotlib inline"
   ]
  },
  {
   "cell_type": "code",
   "execution_count": 4,
   "metadata": {},
   "outputs": [
    {
     "name": "stdout",
     "output_type": "stream",
     "text": [
      "['rec.autos' 'comp.sys.mac.hardware' 'rec.motorcycles' 'misc.forsale'\n 'comp.os.ms-windows.misc' 'alt.atheism' 'comp.graphics'\n 'rec.sport.baseball' 'rec.sport.hockey' 'sci.electronics' 'sci.space'\n 'talk.politics.misc' 'sci.med' 'talk.politics.mideast'\n 'soc.religion.christian' 'comp.windows.x' 'comp.sys.ibm.pc.hardware'\n 'talk.politics.guns' 'talk.religion.misc' 'sci.crypt']"
     ]
    },
    {
     "name": "stdout",
     "output_type": "stream",
     "text": [
      "\n"
     ]
    }
   ],
   "source": [
    "# Import Dataset\n",
    "df = pd.read_json('https://raw.githubusercontent.com/selva86/datasets/master/newsgroups.json')\n",
    "print(df.target_names.unique())"
   ]
  },
  {
   "cell_type": "code",
   "execution_count": 5,
   "metadata": {},
   "outputs": [
    {
     "data": {
      "text/html": [
       "<div>\n",
       "<style scoped>\n",
       "    .dataframe tbody tr th:only-of-type {\n",
       "        vertical-align: middle;\n",
       "    }\n",
       "\n",
       "    .dataframe tbody tr th {\n",
       "        vertical-align: top;\n",
       "    }\n",
       "\n",
       "    .dataframe thead th {\n",
       "        text-align: right;\n",
       "    }\n",
       "</style>\n",
       "<table border=\"1\" class=\"dataframe\">\n",
       "  <thead>\n",
       "    <tr style=\"text-align: right;\">\n",
       "      <th></th>\n",
       "      <th>content</th>\n",
       "      <th>target</th>\n",
       "      <th>target_names</th>\n",
       "    </tr>\n",
       "  </thead>\n",
       "  <tbody>\n",
       "    <tr>\n",
       "      <th>0</th>\n",
       "      <td>From: lerxst@wam.umd.edu (where's my thing)\\nS...</td>\n",
       "      <td>7</td>\n",
       "      <td>rec.autos</td>\n",
       "    </tr>\n",
       "    <tr>\n",
       "      <th>1</th>\n",
       "      <td>From: guykuo@carson.u.washington.edu (Guy Kuo)...</td>\n",
       "      <td>4</td>\n",
       "      <td>comp.sys.mac.hardware</td>\n",
       "    </tr>\n",
       "    <tr>\n",
       "      <th>10</th>\n",
       "      <td>From: irwin@cmptrc.lonestar.org (Irwin Arnstei...</td>\n",
       "      <td>8</td>\n",
       "      <td>rec.motorcycles</td>\n",
       "    </tr>\n",
       "    <tr>\n",
       "      <th>100</th>\n",
       "      <td>From: tchen@magnus.acs.ohio-state.edu (Tsung-K...</td>\n",
       "      <td>6</td>\n",
       "      <td>misc.forsale</td>\n",
       "    </tr>\n",
       "    <tr>\n",
       "      <th>1000</th>\n",
       "      <td>From: dabl2@nlm.nih.gov (Don A.B. Lindbergh)\\n...</td>\n",
       "      <td>2</td>\n",
       "      <td>comp.os.ms-windows.misc</td>\n",
       "    </tr>\n",
       "    <tr>\n",
       "      <th>10000</th>\n",
       "      <td>From: a207706@moe.dseg.ti.com (Robert Loper)\\n...</td>\n",
       "      <td>7</td>\n",
       "      <td>rec.autos</td>\n",
       "    </tr>\n",
       "    <tr>\n",
       "      <th>10001</th>\n",
       "      <td>From: kimman@magnus.acs.ohio-state.edu (Kim Ri...</td>\n",
       "      <td>6</td>\n",
       "      <td>misc.forsale</td>\n",
       "    </tr>\n",
       "    <tr>\n",
       "      <th>10002</th>\n",
       "      <td>From: kwilson@casbah.acns.nwu.edu (Kirtley Wil...</td>\n",
       "      <td>2</td>\n",
       "      <td>comp.os.ms-windows.misc</td>\n",
       "    </tr>\n",
       "    <tr>\n",
       "      <th>10003</th>\n",
       "      <td>Subject: Re: Don't more innocents die without ...</td>\n",
       "      <td>0</td>\n",
       "      <td>alt.atheism</td>\n",
       "    </tr>\n",
       "    <tr>\n",
       "      <th>10004</th>\n",
       "      <td>From: livesey@solntze.wpd.sgi.com (Jon Livesey...</td>\n",
       "      <td>0</td>\n",
       "      <td>alt.atheism</td>\n",
       "    </tr>\n",
       "    <tr>\n",
       "      <th>10005</th>\n",
       "      <td>From: dls@aeg.dsto.gov.au (David Silver)\\nSubj...</td>\n",
       "      <td>1</td>\n",
       "      <td>comp.graphics</td>\n",
       "    </tr>\n",
       "    <tr>\n",
       "      <th>10006</th>\n",
       "      <td>Subject: Re: Mike Francesa's 1993 Predictions\\...</td>\n",
       "      <td>9</td>\n",
       "      <td>rec.sport.baseball</td>\n",
       "    </tr>\n",
       "    <tr>\n",
       "      <th>10007</th>\n",
       "      <td>From: jet@netcom.Netcom.COM (J. Eric Townsend)...</td>\n",
       "      <td>8</td>\n",
       "      <td>rec.motorcycles</td>\n",
       "    </tr>\n",
       "    <tr>\n",
       "      <th>10008</th>\n",
       "      <td>From: gld@cunixb.cc.columbia.edu (Gary L Dare)...</td>\n",
       "      <td>10</td>\n",
       "      <td>rec.sport.hockey</td>\n",
       "    </tr>\n",
       "    <tr>\n",
       "      <th>10009</th>\n",
       "      <td>From: sehari@iastate.edu (Babak Sehari)\\nSubje...</td>\n",
       "      <td>12</td>\n",
       "      <td>sci.electronics</td>\n",
       "    </tr>\n",
       "  </tbody>\n",
       "</table>\n",
       "</div>"
      ],
      "text/plain": [
       "<div>\n",
       "<style scoped>\n",
       "    .dataframe tbody tr th:only-of-type {\n",
       "        vertical-align: middle;\n",
       "    }\n",
       "\n",
       "    .dataframe tbody tr th {\n",
       "        vertical-align: top;\n",
       "    }\n",
       "\n",
       "    .dataframe thead th {\n",
       "        text-align: right;\n",
       "    }\n",
       "</style>\n",
       "<table border=\"1\" class=\"dataframe\">\n",
       "  <thead>\n",
       "    <tr style=\"text-align: right;\">\n",
       "      <th></th>\n",
       "      <th>content</th>\n",
       "      <th>target</th>\n",
       "      <th>target_names</th>\n",
       "    </tr>\n",
       "  </thead>\n",
       "  <tbody>\n",
       "    <tr>\n",
       "      <th>0</th>\n",
       "      <td>From: lerxst@wam.umd.edu (where's my thing)\\nS...</td>\n",
       "      <td>7</td>\n",
       "      <td>rec.autos</td>\n",
       "    </tr>\n",
       "    <tr>\n",
       "      <th>1</th>\n",
       "      <td>From: guykuo@carson.u.washington.edu (Guy Kuo)...</td>\n",
       "      <td>4</td>\n",
       "      <td>comp.sys.mac.hardware</td>\n",
       "    </tr>\n",
       "    <tr>\n",
       "      <th>10</th>\n",
       "      <td>From: irwin@cmptrc.lonestar.org (Irwin Arnstei...</td>\n",
       "      <td>8</td>\n",
       "      <td>rec.motorcycles</td>\n",
       "    </tr>\n",
       "    <tr>\n",
       "      <th>100</th>\n",
       "      <td>From: tchen@magnus.acs.ohio-state.edu (Tsung-K...</td>\n",
       "      <td>6</td>\n",
       "      <td>misc.forsale</td>\n",
       "    </tr>\n",
       "    <tr>\n",
       "      <th>1000</th>\n",
       "      <td>From: dabl2@nlm.nih.gov (Don A.B. Lindbergh)\\n...</td>\n",
       "      <td>2</td>\n",
       "      <td>comp.os.ms-windows.misc</td>\n",
       "    </tr>\n",
       "    <tr>\n",
       "      <th>10000</th>\n",
       "      <td>From: a207706@moe.dseg.ti.com (Robert Loper)\\n...</td>\n",
       "      <td>7</td>\n",
       "      <td>rec.autos</td>\n",
       "    </tr>\n",
       "    <tr>\n",
       "      <th>10001</th>\n",
       "      <td>From: kimman@magnus.acs.ohio-state.edu (Kim Ri...</td>\n",
       "      <td>6</td>\n",
       "      <td>misc.forsale</td>\n",
       "    </tr>\n",
       "    <tr>\n",
       "      <th>10002</th>\n",
       "      <td>From: kwilson@casbah.acns.nwu.edu (Kirtley Wil...</td>\n",
       "      <td>2</td>\n",
       "      <td>comp.os.ms-windows.misc</td>\n",
       "    </tr>\n",
       "    <tr>\n",
       "      <th>10003</th>\n",
       "      <td>Subject: Re: Don't more innocents die without ...</td>\n",
       "      <td>0</td>\n",
       "      <td>alt.atheism</td>\n",
       "    </tr>\n",
       "    <tr>\n",
       "      <th>10004</th>\n",
       "      <td>From: livesey@solntze.wpd.sgi.com (Jon Livesey...</td>\n",
       "      <td>0</td>\n",
       "      <td>alt.atheism</td>\n",
       "    </tr>\n",
       "    <tr>\n",
       "      <th>10005</th>\n",
       "      <td>From: dls@aeg.dsto.gov.au (David Silver)\\nSubj...</td>\n",
       "      <td>1</td>\n",
       "      <td>comp.graphics</td>\n",
       "    </tr>\n",
       "    <tr>\n",
       "      <th>10006</th>\n",
       "      <td>Subject: Re: Mike Francesa's 1993 Predictions\\...</td>\n",
       "      <td>9</td>\n",
       "      <td>rec.sport.baseball</td>\n",
       "    </tr>\n",
       "    <tr>\n",
       "      <th>10007</th>\n",
       "      <td>From: jet@netcom.Netcom.COM (J. Eric Townsend)...</td>\n",
       "      <td>8</td>\n",
       "      <td>rec.motorcycles</td>\n",
       "    </tr>\n",
       "    <tr>\n",
       "      <th>10008</th>\n",
       "      <td>From: gld@cunixb.cc.columbia.edu (Gary L Dare)...</td>\n",
       "      <td>10</td>\n",
       "      <td>rec.sport.hockey</td>\n",
       "    </tr>\n",
       "    <tr>\n",
       "      <th>10009</th>\n",
       "      <td>From: sehari@iastate.edu (Babak Sehari)\\nSubje...</td>\n",
       "      <td>12</td>\n",
       "      <td>sci.electronics</td>\n",
       "    </tr>\n",
       "  </tbody>\n",
       "</table>\n",
       "</div>"
      ]
     },
     "execution_count": 5,
     "metadata": {},
     "output_type": "execute_result"
    }
   ],
   "source": [
    "df.head(15)"
   ]
  },
  {
   "cell_type": "code",
   "execution_count": 6,
   "metadata": {},
   "outputs": [
    {
     "name": "stderr",
     "output_type": "stream",
     "text": [
      "<input>:5: DeprecationWarning: invalid escape sequence \\S\n"
     ]
    },
    {
     "name": "stderr",
     "output_type": "stream",
     "text": [
      "<input>:8: DeprecationWarning: invalid escape sequence \\s\n"
     ]
    },
    {
     "name": "stderr",
     "output_type": "stream",
     "text": [
      "<input>:5: DeprecationWarning: invalid escape sequence \\S\n"
     ]
    },
    {
     "name": "stderr",
     "output_type": "stream",
     "text": [
      "<input>:8: DeprecationWarning: invalid escape sequence \\s\n"
     ]
    },
    {
     "name": "stderr",
     "output_type": "stream",
     "text": [
      "<input>:5: DeprecationWarning: invalid escape sequence \\S\n"
     ]
    },
    {
     "name": "stderr",
     "output_type": "stream",
     "text": [
      "<input>:8: DeprecationWarning: invalid escape sequence \\s\n"
     ]
    },
    {
     "name": "stderr",
     "output_type": "stream",
     "text": [
      "<ipython-input-6-10af9153bd18>:5: DeprecationWarning: invalid escape sequence \\S\n  data = [re.sub('\\S*@\\S*\\s?', '', sent) for sent in data]\n"
     ]
    },
    {
     "name": "stderr",
     "output_type": "stream",
     "text": [
      "<ipython-input-6-10af9153bd18>:8: DeprecationWarning: invalid escape sequence \\s\n  data = [re.sub('\\s+', ' ', sent) for sent in data]\n"
     ]
    },
    {
     "name": "stdout",
     "output_type": "stream",
     "text": [
      "["
     ]
    },
    {
     "name": "stdout",
     "output_type": "stream",
     "text": [
      "'From: (wheres my thing) Subject: WHAT car is this!? Nntp-Posting-Host: '"
     ]
    },
    {
     "name": "stdout",
     "output_type": "stream",
     "text": [
      "\n "
     ]
    },
    {
     "name": "stdout",
     "output_type": "stream",
     "text": [
      "'rac3.wam.umd.edu Organization: University of Maryland, College Park Lines: '"
     ]
    },
    {
     "name": "stdout",
     "output_type": "stream",
     "text": [
      "\n "
     ]
    },
    {
     "name": "stdout",
     "output_type": "stream",
     "text": [
      "'15 I was wondering if anyone out there could enlighten me on this car I saw '"
     ]
    },
    {
     "name": "stdout",
     "output_type": "stream",
     "text": [
      "\n "
     ]
    },
    {
     "name": "stdout",
     "output_type": "stream",
     "text": [
      "'the other day. It was a 2-door sports car, looked to be from the late 60s/ '"
     ]
    },
    {
     "name": "stdout",
     "output_type": "stream",
     "text": [
      "\n "
     ]
    },
    {
     "name": "stdout",
     "output_type": "stream",
     "text": [
      "'early 70s. It was called a Bricklin. The doors were really small. In '"
     ]
    },
    {
     "name": "stdout",
     "output_type": "stream",
     "text": [
      "\n "
     ]
    },
    {
     "name": "stdout",
     "output_type": "stream",
     "text": [
      "'addition, the front bumper was separate from the rest of the body. This is '"
     ]
    },
    {
     "name": "stdout",
     "output_type": "stream",
     "text": [
      "\n "
     ]
    },
    {
     "name": "stdout",
     "output_type": "stream",
     "text": [
      "'all I know. If anyone can tellme a model name, engine specs, years of '"
     ]
    },
    {
     "name": "stdout",
     "output_type": "stream",
     "text": [
      "\n "
     ]
    },
    {
     "name": "stdout",
     "output_type": "stream",
     "text": [
      "'production, where this car is made, history, or whatever info you have on '"
     ]
    },
    {
     "name": "stdout",
     "output_type": "stream",
     "text": [
      "\n "
     ]
    },
    {
     "name": "stdout",
     "output_type": "stream",
     "text": [
      "'this funky looking car, please e-mail. Thanks, - IL ---- brought to you by '"
     ]
    },
    {
     "name": "stdout",
     "output_type": "stream",
     "text": [
      "\n "
     ]
    },
    {
     "name": "stdout",
     "output_type": "stream",
     "text": [
      "'your neighborhood Lerxst ---- '"
     ]
    },
    {
     "name": "stdout",
     "output_type": "stream",
     "text": [
      "]"
     ]
    }
   ],
   "source": [
    "# Convert to list\n",
    "data = df.content.values.tolist()\n",
    "\n",
    "# Remove Emails\n",
    "data = [re.sub('\\S*@\\S*\\s?', '', sent) for sent in data]\n",
    "\n",
    "# Remove new line characters\n",
    "data = [re.sub('\\s+', ' ', sent) for sent in data]\n",
    "\n",
    "# Remove distracting single quotes\n",
    "data = [re.sub(\"\\'\", \"\", sent) for sent in data]\n",
    "\n",
    "pprint(data[:1])"
   ]
  },
  {
   "cell_type": "code",
   "execution_count": 7,
   "metadata": {},
   "outputs": [
    {
     "name": "stdout",
     "output_type": "stream",
     "text": [
      "[['from', 'wheres', 'my', 'thing', 'subject', 'what', 'car', 'is', 'this', 'nntp', 'posting', 'host', 'rac', 'wam', 'umd', 'edu', 'organization', 'university', 'of', 'maryland', 'college', 'park', 'lines', 'was', 'wondering', 'if', 'anyone', 'out', 'there', 'could', 'enlighten', 'me', 'on', 'this', 'car', 'saw', 'the', 'other', 'day', 'it', 'was', 'door', 'sports', 'car', 'looked', 'to', 'be', 'from', 'the', 'late', 'early', 'it', 'was', 'called', 'bricklin', 'the', 'doors', 'were', 'really', 'small', 'in', 'addition', 'the', 'front', 'bumper', 'was', 'separate', 'from', 'the', 'rest', 'of', 'the', 'body', 'this', 'is', 'all', 'know', 'if', 'anyone', 'can', 'tellme', 'model', 'name', 'engine', 'specs', 'years', 'of', 'production', 'where', 'this', 'car', 'is', 'made', 'history', 'or', 'whatever', 'info', 'you', 'have', 'on', 'this', 'funky', 'looking', 'car', 'please', 'mail', 'thanks', 'il', 'brought', 'to', 'you', 'by', 'your', 'neighborhood', 'lerxst']]"
     ]
    },
    {
     "name": "stdout",
     "output_type": "stream",
     "text": [
      "\n"
     ]
    }
   ],
   "source": [
    "def sent_to_words(sentences):\n",
    "    for sentence in sentences:\n",
    "        yield(gensim.utils.simple_preprocess(str(sentence), deacc=True))  # deacc=True removes punctuations\n",
    "\n",
    "data_words = list(sent_to_words(data))\n",
    "\n",
    "print(data_words[:1])"
   ]
  },
  {
   "cell_type": "code",
   "execution_count": 9,
   "metadata": {},
   "outputs": [
    {
     "name": "stderr",
     "output_type": "stream",
     "text": [
      "c:\\users\\a.vivek\\appdata\\local\\programs\\python\\python36\\lib\\site-packages\\msgpack_numpy.py:84: DeprecationWarning: The binary mode of fromstring is deprecated, as it behaves surprisingly on unicode inputs. Use frombuffer instead\n  dtype=np.dtype(descr)).reshape(obj[b'shape'])\n"
     ]
    },
    {
     "name": "stderr",
     "output_type": "stream",
     "text": [
      "c:\\users\\a.vivek\\appdata\\local\\programs\\python\\python36\\lib\\site-packages\\msgpack_numpy.py:88: DeprecationWarning: The binary mode of fromstring is deprecated, as it behaves surprisingly on unicode inputs. Use frombuffer instead\n  dtype=np.dtype(descr))[0]\n"
     ]
    },
    {
     "name": "stderr",
     "output_type": "stream",
     "text": [
      "c:\\users\\a.vivek\\appdata\\local\\programs\\python\\python36\\lib\\site-packages\\msgpack_numpy.py:84: DeprecationWarning: The binary mode of fromstring is deprecated, as it behaves surprisingly on unicode inputs. Use frombuffer instead\n  dtype=np.dtype(descr)).reshape(obj[b'shape'])\n"
     ]
    },
    {
     "name": "stderr",
     "output_type": "stream",
     "text": [
      "c:\\users\\a.vivek\\appdata\\local\\programs\\python\\python36\\lib\\site-packages\\msgpack_numpy.py:84: DeprecationWarning: The binary mode of fromstring is deprecated, as it behaves surprisingly on unicode inputs. Use frombuffer instead\n  dtype=np.dtype(descr)).reshape(obj[b'shape'])\n"
     ]
    },
    {
     "name": "stderr",
     "output_type": "stream",
     "text": [
      "c:\\users\\a.vivek\\appdata\\local\\programs\\python\\python36\\lib\\site-packages\\msgpack_numpy.py:88: DeprecationWarning: The binary mode of fromstring is deprecated, as it behaves surprisingly on unicode inputs. Use frombuffer instead\n  dtype=np.dtype(descr))[0]\n"
     ]
    },
    {
     "name": "stderr",
     "output_type": "stream",
     "text": [
      "c:\\users\\a.vivek\\appdata\\local\\programs\\python\\python36\\lib\\site-packages\\msgpack_numpy.py:84: DeprecationWarning: The binary mode of fromstring is deprecated, as it behaves surprisingly on unicode inputs. Use frombuffer instead\n  dtype=np.dtype(descr)).reshape(obj[b'shape'])\n"
     ]
    },
    {
     "name": "stderr",
     "output_type": "stream",
     "text": [
      "c:\\users\\a.vivek\\appdata\\local\\programs\\python\\python36\\lib\\site-packages\\msgpack_numpy.py:84: DeprecationWarning: The binary mode of fromstring is deprecated, as it behaves surprisingly on unicode inputs. Use frombuffer instead\n  dtype=np.dtype(descr)).reshape(obj[b'shape'])\n"
     ]
    },
    {
     "name": "stderr",
     "output_type": "stream",
     "text": [
      "c:\\users\\a.vivek\\appdata\\local\\programs\\python\\python36\\lib\\site-packages\\msgpack_numpy.py:88: DeprecationWarning: The binary mode of fromstring is deprecated, as it behaves surprisingly on unicode inputs. Use frombuffer instead\n  dtype=np.dtype(descr))[0]\n"
     ]
    },
    {
     "name": "stderr",
     "output_type": "stream",
     "text": [
      "c:\\users\\a.vivek\\appdata\\local\\programs\\python\\python36\\lib\\site-packages\\msgpack_numpy.py:84: DeprecationWarning: The binary mode of fromstring is deprecated, as it behaves surprisingly on unicode inputs. Use frombuffer instead\n  dtype=np.dtype(descr)).reshape(obj[b'shape'])\n"
     ]
    },
    {
     "name": "stderr",
     "output_type": "stream",
     "text": [
      "c:\\users\\a.vivek\\appdata\\local\\programs\\python\\python36\\lib\\site-packages\\msgpack_numpy.py:84: DeprecationWarning: The binary mode of fromstring is deprecated, as it behaves surprisingly on unicode inputs. Use frombuffer instead\n  dtype=np.dtype(descr)).reshape(obj[b'shape'])\n"
     ]
    },
    {
     "name": "stderr",
     "output_type": "stream",
     "text": [
      "c:\\users\\a.vivek\\appdata\\local\\programs\\python\\python36\\lib\\site-packages\\msgpack_numpy.py:88: DeprecationWarning: The binary mode of fromstring is deprecated, as it behaves surprisingly on unicode inputs. Use frombuffer instead\n  dtype=np.dtype(descr))[0]\n"
     ]
    },
    {
     "name": "stderr",
     "output_type": "stream",
     "text": [
      "c:\\users\\a.vivek\\appdata\\local\\programs\\python\\python36\\lib\\site-packages\\msgpack_numpy.py:84: DeprecationWarning: The binary mode of fromstring is deprecated, as it behaves surprisingly on unicode inputs. Use frombuffer instead\n  dtype=np.dtype(descr)).reshape(obj[b'shape'])\n"
     ]
    },
    {
     "name": "stderr",
     "output_type": "stream",
     "text": [
      "c:\\users\\a.vivek\\appdata\\local\\programs\\python\\python36\\lib\\site-packages\\msgpack_numpy.py:84: DeprecationWarning: The binary mode of fromstring is deprecated, as it behaves surprisingly on unicode inputs. Use frombuffer instead\n  dtype=np.dtype(descr)).reshape(obj[b'shape'])\n"
     ]
    },
    {
     "name": "stderr",
     "output_type": "stream",
     "text": [
      "c:\\users\\a.vivek\\appdata\\local\\programs\\python\\python36\\lib\\site-packages\\msgpack_numpy.py:88: DeprecationWarning: The binary mode of fromstring is deprecated, as it behaves surprisingly on unicode inputs. Use frombuffer instead\n  dtype=np.dtype(descr))[0]\n"
     ]
    },
    {
     "name": "stderr",
     "output_type": "stream",
     "text": [
      "c:\\users\\a.vivek\\appdata\\local\\programs\\python\\python36\\lib\\site-packages\\msgpack_numpy.py:84: DeprecationWarning: The binary mode of fromstring is deprecated, as it behaves surprisingly on unicode inputs. Use frombuffer instead\n  dtype=np.dtype(descr)).reshape(obj[b'shape'])\n"
     ]
    },
    {
     "name": "stderr",
     "output_type": "stream",
     "text": [
      "c:\\users\\a.vivek\\appdata\\local\\programs\\python\\python36\\lib\\site-packages\\msgpack_numpy.py:84: DeprecationWarning: The binary mode of fromstring is deprecated, as it behaves surprisingly on unicode inputs. Use frombuffer instead\n  dtype=np.dtype(descr)).reshape(obj[b'shape'])\n"
     ]
    },
    {
     "name": "stderr",
     "output_type": "stream",
     "text": [
      "c:\\users\\a.vivek\\appdata\\local\\programs\\python\\python36\\lib\\site-packages\\msgpack_numpy.py:88: DeprecationWarning: The binary mode of fromstring is deprecated, as it behaves surprisingly on unicode inputs. Use frombuffer instead\n  dtype=np.dtype(descr))[0]\n"
     ]
    },
    {
     "name": "stderr",
     "output_type": "stream",
     "text": [
      "c:\\users\\a.vivek\\appdata\\local\\programs\\python\\python36\\lib\\site-packages\\msgpack_numpy.py:84: DeprecationWarning: The binary mode of fromstring is deprecated, as it behaves surprisingly on unicode inputs. Use frombuffer instead\n  dtype=np.dtype(descr)).reshape(obj[b'shape'])\n"
     ]
    },
    {
     "name": "stderr",
     "output_type": "stream",
     "text": [
      "c:\\users\\a.vivek\\appdata\\local\\programs\\python\\python36\\lib\\site-packages\\msgpack_numpy.py:84: DeprecationWarning: The binary mode of fromstring is deprecated, as it behaves surprisingly on unicode inputs. Use frombuffer instead\n  dtype=np.dtype(descr)).reshape(obj[b'shape'])\n"
     ]
    },
    {
     "name": "stderr",
     "output_type": "stream",
     "text": [
      "c:\\users\\a.vivek\\appdata\\local\\programs\\python\\python36\\lib\\site-packages\\msgpack_numpy.py:84: DeprecationWarning: The binary mode of fromstring is deprecated, as it behaves surprisingly on unicode inputs. Use frombuffer instead\n  dtype=np.dtype(descr)).reshape(obj[b'shape'])\n"
     ]
    },
    {
     "name": "stderr",
     "output_type": "stream",
     "text": [
      "c:\\users\\a.vivek\\appdata\\local\\programs\\python\\python36\\lib\\site-packages\\msgpack_numpy.py:88: DeprecationWarning: The binary mode of fromstring is deprecated, as it behaves surprisingly on unicode inputs. Use frombuffer instead\n  dtype=np.dtype(descr))[0]\n"
     ]
    },
    {
     "name": "stderr",
     "output_type": "stream",
     "text": [
      "c:\\users\\a.vivek\\appdata\\local\\programs\\python\\python36\\lib\\site-packages\\msgpack_numpy.py:84: DeprecationWarning: The binary mode of fromstring is deprecated, as it behaves surprisingly on unicode inputs. Use frombuffer instead\n  dtype=np.dtype(descr)).reshape(obj[b'shape'])\n"
     ]
    },
    {
     "name": "stderr",
     "output_type": "stream",
     "text": [
      "c:\\users\\a.vivek\\appdata\\local\\programs\\python\\python36\\lib\\site-packages\\msgpack_numpy.py:84: DeprecationWarning: The binary mode of fromstring is deprecated, as it behaves surprisingly on unicode inputs. Use frombuffer instead\n  dtype=np.dtype(descr)).reshape(obj[b'shape'])\n"
     ]
    },
    {
     "name": "stderr",
     "output_type": "stream",
     "text": [
      "c:\\users\\a.vivek\\appdata\\local\\programs\\python\\python36\\lib\\site-packages\\msgpack_numpy.py:88: DeprecationWarning: The binary mode of fromstring is deprecated, as it behaves surprisingly on unicode inputs. Use frombuffer instead\n  dtype=np.dtype(descr))[0]\n"
     ]
    },
    {
     "name": "stderr",
     "output_type": "stream",
     "text": [
      "c:\\users\\a.vivek\\appdata\\local\\programs\\python\\python36\\lib\\site-packages\\msgpack_numpy.py:84: DeprecationWarning: The binary mode of fromstring is deprecated, as it behaves surprisingly on unicode inputs. Use frombuffer instead\n  dtype=np.dtype(descr)).reshape(obj[b'shape'])\n"
     ]
    },
    {
     "name": "stderr",
     "output_type": "stream",
     "text": [
      "c:\\users\\a.vivek\\appdata\\local\\programs\\python\\python36\\lib\\site-packages\\msgpack_numpy.py:84: DeprecationWarning: The binary mode of fromstring is deprecated, as it behaves surprisingly on unicode inputs. Use frombuffer instead\n  dtype=np.dtype(descr)).reshape(obj[b'shape'])\n"
     ]
    },
    {
     "name": "stderr",
     "output_type": "stream",
     "text": [
      "c:\\users\\a.vivek\\appdata\\local\\programs\\python\\python36\\lib\\site-packages\\msgpack_numpy.py:88: DeprecationWarning: The binary mode of fromstring is deprecated, as it behaves surprisingly on unicode inputs. Use frombuffer instead\n  dtype=np.dtype(descr))[0]\n"
     ]
    },
    {
     "name": "stderr",
     "output_type": "stream",
     "text": [
      "c:\\users\\a.vivek\\appdata\\local\\programs\\python\\python36\\lib\\site-packages\\msgpack_numpy.py:84: DeprecationWarning: The binary mode of fromstring is deprecated, as it behaves surprisingly on unicode inputs. Use frombuffer instead\n  dtype=np.dtype(descr)).reshape(obj[b'shape'])\n"
     ]
    },
    {
     "name": "stderr",
     "output_type": "stream",
     "text": [
      "c:\\users\\a.vivek\\appdata\\local\\programs\\python\\python36\\lib\\site-packages\\msgpack_numpy.py:84: DeprecationWarning: The binary mode of fromstring is deprecated, as it behaves surprisingly on unicode inputs. Use frombuffer instead\n  dtype=np.dtype(descr)).reshape(obj[b'shape'])\n"
     ]
    },
    {
     "name": "stderr",
     "output_type": "stream",
     "text": [
      "c:\\users\\a.vivek\\appdata\\local\\programs\\python\\python36\\lib\\site-packages\\msgpack_numpy.py:88: DeprecationWarning: The binary mode of fromstring is deprecated, as it behaves surprisingly on unicode inputs. Use frombuffer instead\n  dtype=np.dtype(descr))[0]\n"
     ]
    },
    {
     "name": "stderr",
     "output_type": "stream",
     "text": [
      "c:\\users\\a.vivek\\appdata\\local\\programs\\python\\python36\\lib\\site-packages\\msgpack_numpy.py:84: DeprecationWarning: The binary mode of fromstring is deprecated, as it behaves surprisingly on unicode inputs. Use frombuffer instead\n  dtype=np.dtype(descr)).reshape(obj[b'shape'])\n"
     ]
    },
    {
     "name": "stderr",
     "output_type": "stream",
     "text": [
      "c:\\users\\a.vivek\\appdata\\local\\programs\\python\\python36\\lib\\site-packages\\msgpack_numpy.py:84: DeprecationWarning: The binary mode of fromstring is deprecated, as it behaves surprisingly on unicode inputs. Use frombuffer instead\n  dtype=np.dtype(descr)).reshape(obj[b'shape'])\n"
     ]
    },
    {
     "name": "stderr",
     "output_type": "stream",
     "text": [
      "c:\\users\\a.vivek\\appdata\\local\\programs\\python\\python36\\lib\\site-packages\\msgpack_numpy.py:88: DeprecationWarning: The binary mode of fromstring is deprecated, as it behaves surprisingly on unicode inputs. Use frombuffer instead\n  dtype=np.dtype(descr))[0]\n"
     ]
    },
    {
     "name": "stderr",
     "output_type": "stream",
     "text": [
      "c:\\users\\a.vivek\\appdata\\local\\programs\\python\\python36\\lib\\site-packages\\msgpack_numpy.py:84: DeprecationWarning: The binary mode of fromstring is deprecated, as it behaves surprisingly on unicode inputs. Use frombuffer instead\n  dtype=np.dtype(descr)).reshape(obj[b'shape'])\n"
     ]
    },
    {
     "name": "stderr",
     "output_type": "stream",
     "text": [
      "c:\\users\\a.vivek\\appdata\\local\\programs\\python\\python36\\lib\\site-packages\\msgpack_numpy.py:84: DeprecationWarning: The binary mode of fromstring is deprecated, as it behaves surprisingly on unicode inputs. Use frombuffer instead\n  dtype=np.dtype(descr)).reshape(obj[b'shape'])\n"
     ]
    },
    {
     "name": "stderr",
     "output_type": "stream",
     "text": [
      "c:\\users\\a.vivek\\appdata\\local\\programs\\python\\python36\\lib\\site-packages\\msgpack_numpy.py:84: DeprecationWarning: The binary mode of fromstring is deprecated, as it behaves surprisingly on unicode inputs. Use frombuffer instead\n  dtype=np.dtype(descr)).reshape(obj[b'shape'])\n"
     ]
    },
    {
     "name": "stderr",
     "output_type": "stream",
     "text": [
      "c:\\users\\a.vivek\\appdata\\local\\programs\\python\\python36\\lib\\site-packages\\msgpack_numpy.py:84: DeprecationWarning: The binary mode of fromstring is deprecated, as it behaves surprisingly on unicode inputs. Use frombuffer instead\n  dtype=np.dtype(descr)).reshape(obj[b'shape'])\n"
     ]
    },
    {
     "name": "stdout",
     "output_type": "stream",
     "text": [
      "['where s  thing subject what car be nntp post host rac wam umd edu organization university maryland college park line be wonder anyone out there could enlighten car see other day be door sport car look be late early be call bricklin door be really small addition front bumper be separate rest body be know anyone can tellme model name engine spec year production where car be make history whatev info have funky look car mail thank bring  neighborhood lerxst', 'guy subject clock poll final call summary final call si clock report keyword acceleration clock upgrade article shelley qvfo innc organization university washington line nntp post host carson washington edu fair number brave soul who upgrade  si clock oscillator have share  experience poll send brief message detail  experience procedure top speed attain cpu rat speed add card adapter heat sink hour usage day floppy disk functionality floppy be especially request will be summarize next day so add network knowledge base have do clock upgrade have not answer poll thank guy kuo']"
     ]
    },
    {
     "name": "stdout",
     "output_type": "stream",
     "text": [
      "\n"
     ]
    }
   ],
   "source": [
    "def lemmatization(texts, allowed_postags=['NOUN', 'ADJ', 'VERB', 'ADV']):\n",
    "    \"\"\"https://spacy.io/api/annotation\"\"\"\n",
    "    texts_out = []\n",
    "    for sent in texts:\n",
    "        doc = nlp(\" \".join(sent)) \n",
    "        texts_out.append(\" \".join([token.lemma_ if token.lemma_ not in ['-PRON-'] else '' for token in doc if token.pos_ in allowed_postags]))\n",
    "    return texts_out\n",
    "\n",
    "# Initialize spacy 'en' model, keeping only tagger component (for efficiency)\n",
    "# Run in terminal: python3 -m spacy download en\n",
    "nlp = spacy.load('en_core_web_sm', disable=['parser', 'ner'])\n",
    "\n",
    "# Do lemmatization keeping only Noun, Adj, Verb, Adverb\n",
    "data_lemmatized = lemmatization(data_words, allowed_postags=['NOUN', 'ADJ', 'VERB', 'ADV'])\n",
    "\n",
    "print(data_lemmatized[:2])"
   ]
  },
  {
   "cell_type": "code",
   "execution_count": 10,
   "metadata": {},
   "outputs": [],
   "source": [
    "vectorizer = CountVectorizer(analyzer='word',       \n",
    "                             min_df=10,                        # minimum reqd occurences of a word \n",
    "                             stop_words='english',             # remove stop words\n",
    "                             lowercase=True,                   # convert all words to lowercase\n",
    "                             token_pattern='[a-zA-Z0-9]{3,}',  # num chars > 3\n",
    "                             # max_features=50000,             # max number of uniq words\n",
    "                            )\n",
    "\n",
    "data_vectorized = vectorizer.fit_transform(data_lemmatized)"
   ]
  },
  {
   "cell_type": "code",
   "execution_count": 11,
   "metadata": {},
   "outputs": [
    {
     "name": "stdout",
     "output_type": "stream",
     "text": [
      "Sparsicity: "
     ]
    },
    {
     "name": "stdout",
     "output_type": "stream",
     "text": [
      " "
     ]
    },
    {
     "name": "stdout",
     "output_type": "stream",
     "text": [
      "0.7758875693652992"
     ]
    },
    {
     "name": "stdout",
     "output_type": "stream",
     "text": [
      " "
     ]
    },
    {
     "name": "stdout",
     "output_type": "stream",
     "text": [
      "%"
     ]
    },
    {
     "name": "stdout",
     "output_type": "stream",
     "text": [
      "\n"
     ]
    }
   ],
   "source": [
    "# Materialize the sparse data\n",
    "data_dense = data_vectorized.todense()\n",
    "\n",
    "# Compute Sparsicity = Percentage of Non-Zero cells\n",
    "print(\"Sparsicity: \", ((data_dense > 0).sum()/data_dense.size)*100, \"%\")"
   ]
  },
  {
   "cell_type": "code",
   "execution_count": 12,
   "metadata": {},
   "outputs": [
    {
     "name": "stderr",
     "output_type": "stream",
     "text": [
      "c:\\users\\a.vivek\\appdata\\local\\programs\\python\\python36\\lib\\site-packages\\sklearn\\decomposition\\online_lda.py:294: DeprecationWarning: n_topics has been renamed to n_components in version 0.19 and will be removed in 0.21\n  DeprecationWarning)\n"
     ]
    },
    {
     "name": "stdout",
     "output_type": "stream",
     "text": [
      "LatentDirichletAllocation(batch_size=128, doc_topic_prior=None,\n             evaluate_every=-1, learning_decay=0.7,\n             learning_method='online', learning_offset=10.0,\n             max_doc_update_iter=100, max_iter=10, mean_change_tol=0.001,\n             n_components=10, n_jobs=-1, n_topics=20, perp_tol=0.1,\n             random_state=100, topic_word_prior=None,\n             total_samples=1000000.0, verbose=0)"
     ]
    },
    {
     "name": "stdout",
     "output_type": "stream",
     "text": [
      "\n"
     ]
    }
   ],
   "source": [
    "# Build LDA Model\n",
    "lda_model = LatentDirichletAllocation(n_topics=20,               # Number of topics\n",
    "                                      max_iter=10,               # Max learning iterations\n",
    "                                      learning_method='online',   \n",
    "                                      random_state=100,          # Random state\n",
    "                                      batch_size=128,            # n docs in each learning iter\n",
    "                                      evaluate_every = -1,       # compute perplexity every n iters, default: Don't\n",
    "                                      n_jobs = -1,               # Use all available CPUs\n",
    "                                     )\n",
    "lda_output = lda_model.fit_transform(data_vectorized)\n",
    "\n",
    "print(lda_model)  # Model attributes"
   ]
  },
  {
   "cell_type": "code",
   "execution_count": 13,
   "metadata": {},
   "outputs": [
    {
     "name": "stdout",
     "output_type": "stream",
     "text": [
      "Log Likelihood: "
     ]
    },
    {
     "name": "stdout",
     "output_type": "stream",
     "text": [
      " "
     ]
    },
    {
     "name": "stdout",
     "output_type": "stream",
     "text": [
      "-9942489.380726868"
     ]
    },
    {
     "name": "stdout",
     "output_type": "stream",
     "text": [
      "\n"
     ]
    },
    {
     "name": "stdout",
     "output_type": "stream",
     "text": [
      "Perplexity: "
     ]
    },
    {
     "name": "stdout",
     "output_type": "stream",
     "text": [
      " "
     ]
    },
    {
     "name": "stdout",
     "output_type": "stream",
     "text": [
      "2025.6448495323496"
     ]
    },
    {
     "name": "stdout",
     "output_type": "stream",
     "text": [
      "\n"
     ]
    },
    {
     "name": "stdout",
     "output_type": "stream",
     "text": [
      "{"
     ]
    },
    {
     "name": "stdout",
     "output_type": "stream",
     "text": [
      "'batch_size'"
     ]
    },
    {
     "name": "stdout",
     "output_type": "stream",
     "text": [
      ": "
     ]
    },
    {
     "name": "stdout",
     "output_type": "stream",
     "text": [
      "128"
     ]
    },
    {
     "name": "stdout",
     "output_type": "stream",
     "text": [
      ",\n "
     ]
    },
    {
     "name": "stdout",
     "output_type": "stream",
     "text": [
      "'doc_topic_prior'"
     ]
    },
    {
     "name": "stdout",
     "output_type": "stream",
     "text": [
      ": "
     ]
    },
    {
     "name": "stdout",
     "output_type": "stream",
     "text": [
      "None"
     ]
    },
    {
     "name": "stdout",
     "output_type": "stream",
     "text": [
      ",\n "
     ]
    },
    {
     "name": "stdout",
     "output_type": "stream",
     "text": [
      "'evaluate_every'"
     ]
    },
    {
     "name": "stdout",
     "output_type": "stream",
     "text": [
      ": "
     ]
    },
    {
     "name": "stdout",
     "output_type": "stream",
     "text": [
      "-1"
     ]
    },
    {
     "name": "stdout",
     "output_type": "stream",
     "text": [
      ",\n "
     ]
    },
    {
     "name": "stdout",
     "output_type": "stream",
     "text": [
      "'learning_decay'"
     ]
    },
    {
     "name": "stdout",
     "output_type": "stream",
     "text": [
      ": "
     ]
    },
    {
     "name": "stdout",
     "output_type": "stream",
     "text": [
      "0.7"
     ]
    },
    {
     "name": "stdout",
     "output_type": "stream",
     "text": [
      ",\n "
     ]
    },
    {
     "name": "stdout",
     "output_type": "stream",
     "text": [
      "'learning_method'"
     ]
    },
    {
     "name": "stdout",
     "output_type": "stream",
     "text": [
      ": "
     ]
    },
    {
     "name": "stdout",
     "output_type": "stream",
     "text": [
      "'online'"
     ]
    },
    {
     "name": "stdout",
     "output_type": "stream",
     "text": [
      ",\n "
     ]
    },
    {
     "name": "stdout",
     "output_type": "stream",
     "text": [
      "'learning_offset'"
     ]
    },
    {
     "name": "stdout",
     "output_type": "stream",
     "text": [
      ": "
     ]
    },
    {
     "name": "stdout",
     "output_type": "stream",
     "text": [
      "10.0"
     ]
    },
    {
     "name": "stdout",
     "output_type": "stream",
     "text": [
      ",\n "
     ]
    },
    {
     "name": "stdout",
     "output_type": "stream",
     "text": [
      "'max_doc_update_iter'"
     ]
    },
    {
     "name": "stdout",
     "output_type": "stream",
     "text": [
      ": "
     ]
    },
    {
     "name": "stdout",
     "output_type": "stream",
     "text": [
      "100"
     ]
    }
   ],
   "source": [
    "# Log Likelyhood: Higher the better\n",
    "print(\"Log Likelihood: \", lda_model.score(data_vectorized))\n",
    "\n",
    "# Perplexity: Lower the better. Perplexity = exp(-1. * log-likelihood per word)\n",
    "print(\"Perplexity: \", lda_model.perplexity(data_vectorized))\n",
    "\n",
    "# See model parameters\n",
    "pprint(lda_model.get_params())"
   ]
  },
  {
   "cell_type": "code",
   "execution_count": 14,
   "metadata": {},
   "outputs": [
    {
     "name": "stderr",
     "output_type": "stream",
     "text": [
      "c:\\users\\a.vivek\\appdata\\local\\programs\\python\\python36\\lib\\site-packages\\sklearn\\decomposition\\online_lda.py:536: DeprecationWarning: The default value for 'learning_method' will be changed from 'online' to 'batch' in the release 0.20. This warning was introduced in 0.18.\n  DeprecationWarning)\n"
     ]
    },
    {
     "name": "stderr",
     "output_type": "stream",
     "text": [
      "c:\\users\\a.vivek\\appdata\\local\\programs\\python\\python36\\lib\\site-packages\\sklearn\\decomposition\\online_lda.py:536: DeprecationWarning: The default value for 'learning_method' will be changed from 'online' to 'batch' in the release 0.20. This warning was introduced in 0.18.\n  DeprecationWarning)\n"
     ]
    },
    {
     "name": "stderr",
     "output_type": "stream",
     "text": [
      "c:\\users\\a.vivek\\appdata\\local\\programs\\python\\python36\\lib\\site-packages\\sklearn\\decomposition\\online_lda.py:536: DeprecationWarning: The default value for 'learning_method' will be changed from 'online' to 'batch' in the release 0.20. This warning was introduced in 0.18.\n  DeprecationWarning)\n"
     ]
    },
    {
     "name": "stderr",
     "output_type": "stream",
     "text": [
      "c:\\users\\a.vivek\\appdata\\local\\programs\\python\\python36\\lib\\site-packages\\sklearn\\decomposition\\online_lda.py:536: DeprecationWarning: The default value for 'learning_method' will be changed from 'online' to 'batch' in the release 0.20. This warning was introduced in 0.18.\n  DeprecationWarning)\n"
     ]
    },
    {
     "name": "stderr",
     "output_type": "stream",
     "text": [
      "c:\\users\\a.vivek\\appdata\\local\\programs\\python\\python36\\lib\\site-packages\\sklearn\\decomposition\\online_lda.py:536: DeprecationWarning: The default value for 'learning_method' will be changed from 'online' to 'batch' in the release 0.20. This warning was introduced in 0.18.\n  DeprecationWarning)\n"
     ]
    },
    {
     "name": "stderr",
     "output_type": "stream",
     "text": [
      "c:\\users\\a.vivek\\appdata\\local\\programs\\python\\python36\\lib\\site-packages\\sklearn\\decomposition\\online_lda.py:536: DeprecationWarning: The default value for 'learning_method' will be changed from 'online' to 'batch' in the release 0.20. This warning was introduced in 0.18.\n  DeprecationWarning)\n"
     ]
    },
    {
     "name": "stderr",
     "output_type": "stream",
     "text": [
      "c:\\users\\a.vivek\\appdata\\local\\programs\\python\\python36\\lib\\site-packages\\sklearn\\decomposition\\online_lda.py:536: DeprecationWarning: The default value for 'learning_method' will be changed from 'online' to 'batch' in the release 0.20. This warning was introduced in 0.18.\n  DeprecationWarning)\n"
     ]
    },
    {
     "name": "stderr",
     "output_type": "stream",
     "text": [
      "c:\\users\\a.vivek\\appdata\\local\\programs\\python\\python36\\lib\\site-packages\\sklearn\\decomposition\\online_lda.py:536: DeprecationWarning: The default value for 'learning_method' will be changed from 'online' to 'batch' in the release 0.20. This warning was introduced in 0.18.\n  DeprecationWarning)\n"
     ]
    },
    {
     "name": "stderr",
     "output_type": "stream",
     "text": [
      "c:\\users\\a.vivek\\appdata\\local\\programs\\python\\python36\\lib\\site-packages\\sklearn\\decomposition\\online_lda.py:536: DeprecationWarning: The default value for 'learning_method' will be changed from 'online' to 'batch' in the release 0.20. This warning was introduced in 0.18.\n  DeprecationWarning)\n"
     ]
    },
    {
     "name": "stderr",
     "output_type": "stream",
     "text": [
      "c:\\users\\a.vivek\\appdata\\local\\programs\\python\\python36\\lib\\site-packages\\sklearn\\decomposition\\online_lda.py:536: DeprecationWarning: The default value for 'learning_method' will be changed from 'online' to 'batch' in the release 0.20. This warning was introduced in 0.18.\n  DeprecationWarning)\n"
     ]
    },
    {
     "name": "stderr",
     "output_type": "stream",
     "text": [
      "c:\\users\\a.vivek\\appdata\\local\\programs\\python\\python36\\lib\\site-packages\\sklearn\\decomposition\\online_lda.py:536: DeprecationWarning: The default value for 'learning_method' will be changed from 'online' to 'batch' in the release 0.20. This warning was introduced in 0.18.\n  DeprecationWarning)\n"
     ]
    },
    {
     "name": "stderr",
     "output_type": "stream",
     "text": [
      "c:\\users\\a.vivek\\appdata\\local\\programs\\python\\python36\\lib\\site-packages\\sklearn\\decomposition\\online_lda.py:536: DeprecationWarning: The default value for 'learning_method' will be changed from 'online' to 'batch' in the release 0.20. This warning was introduced in 0.18.\n  DeprecationWarning)\n"
     ]
    },
    {
     "name": "stderr",
     "output_type": "stream",
     "text": [
      "c:\\users\\a.vivek\\appdata\\local\\programs\\python\\python36\\lib\\site-packages\\sklearn\\decomposition\\online_lda.py:536: DeprecationWarning: The default value for 'learning_method' will be changed from 'online' to 'batch' in the release 0.20. This warning was introduced in 0.18.\n  DeprecationWarning)\n"
     ]
    },
    {
     "name": "stderr",
     "output_type": "stream",
     "text": [
      "c:\\users\\a.vivek\\appdata\\local\\programs\\python\\python36\\lib\\site-packages\\sklearn\\decomposition\\online_lda.py:536: DeprecationWarning: The default value for 'learning_method' will be changed from 'online' to 'batch' in the release 0.20. This warning was introduced in 0.18.\n  DeprecationWarning)\n"
     ]
    },
    {
     "name": "stderr",
     "output_type": "stream",
     "text": [
      "c:\\users\\a.vivek\\appdata\\local\\programs\\python\\python36\\lib\\site-packages\\sklearn\\decomposition\\online_lda.py:536: DeprecationWarning: The default value for 'learning_method' will be changed from 'online' to 'batch' in the release 0.20. This warning was introduced in 0.18.\n  DeprecationWarning)\n"
     ]
    },
    {
     "name": "stderr",
     "output_type": "stream",
     "text": [
      "c:\\users\\a.vivek\\appdata\\local\\programs\\python\\python36\\lib\\site-packages\\sklearn\\decomposition\\online_lda.py:536: DeprecationWarning: The default value for 'learning_method' will be changed from 'online' to 'batch' in the release 0.20. This warning was introduced in 0.18.\n  DeprecationWarning)\n"
     ]
    },
    {
     "name": "stderr",
     "output_type": "stream",
     "text": [
      "c:\\users\\a.vivek\\appdata\\local\\programs\\python\\python36\\lib\\site-packages\\sklearn\\decomposition\\online_lda.py:536: DeprecationWarning: The default value for 'learning_method' will be changed from 'online' to 'batch' in the release 0.20. This warning was introduced in 0.18.\n  DeprecationWarning)\n"
     ]
    },
    {
     "name": "stderr",
     "output_type": "stream",
     "text": [
      "c:\\users\\a.vivek\\appdata\\local\\programs\\python\\python36\\lib\\site-packages\\sklearn\\decomposition\\online_lda.py:536: DeprecationWarning: The default value for 'learning_method' will be changed from 'online' to 'batch' in the release 0.20. This warning was introduced in 0.18.\n  DeprecationWarning)\n"
     ]
    },
    {
     "name": "stderr",
     "output_type": "stream",
     "text": [
      "c:\\users\\a.vivek\\appdata\\local\\programs\\python\\python36\\lib\\site-packages\\sklearn\\decomposition\\online_lda.py:536: DeprecationWarning: The default value for 'learning_method' will be changed from 'online' to 'batch' in the release 0.20. This warning was introduced in 0.18.\n  DeprecationWarning)\n"
     ]
    },
    {
     "name": "stderr",
     "output_type": "stream",
     "text": [
      "c:\\users\\a.vivek\\appdata\\local\\programs\\python\\python36\\lib\\site-packages\\sklearn\\decomposition\\online_lda.py:536: DeprecationWarning: The default value for 'learning_method' will be changed from 'online' to 'batch' in the release 0.20. This warning was introduced in 0.18.\n  DeprecationWarning)\n"
     ]
    },
    {
     "name": "stderr",
     "output_type": "stream",
     "text": [
      "c:\\users\\a.vivek\\appdata\\local\\programs\\python\\python36\\lib\\site-packages\\sklearn\\decomposition\\online_lda.py:536: DeprecationWarning: The default value for 'learning_method' will be changed from 'online' to 'batch' in the release 0.20. This warning was introduced in 0.18.\n  DeprecationWarning)\n"
     ]
    },
    {
     "name": "stderr",
     "output_type": "stream",
     "text": [
      "c:\\users\\a.vivek\\appdata\\local\\programs\\python\\python36\\lib\\site-packages\\sklearn\\decomposition\\online_lda.py:536: DeprecationWarning: The default value for 'learning_method' will be changed from 'online' to 'batch' in the release 0.20. This warning was introduced in 0.18.\n  DeprecationWarning)\n"
     ]
    },
    {
     "name": "stderr",
     "output_type": "stream",
     "text": [
      "c:\\users\\a.vivek\\appdata\\local\\programs\\python\\python36\\lib\\site-packages\\sklearn\\decomposition\\online_lda.py:536: DeprecationWarning: The default value for 'learning_method' will be changed from 'online' to 'batch' in the release 0.20. This warning was introduced in 0.18.\n  DeprecationWarning)\n"
     ]
    },
    {
     "name": "stderr",
     "output_type": "stream",
     "text": [
      "c:\\users\\a.vivek\\appdata\\local\\programs\\python\\python36\\lib\\site-packages\\sklearn\\decomposition\\online_lda.py:536: DeprecationWarning: The default value for 'learning_method' will be changed from 'online' to 'batch' in the release 0.20. This warning was introduced in 0.18.\n  DeprecationWarning)\n"
     ]
    },
    {
     "name": "stderr",
     "output_type": "stream",
     "text": [
      "c:\\users\\a.vivek\\appdata\\local\\programs\\python\\python36\\lib\\site-packages\\sklearn\\decomposition\\online_lda.py:536: DeprecationWarning: The default value for 'learning_method' will be changed from 'online' to 'batch' in the release 0.20. This warning was introduced in 0.18.\n  DeprecationWarning)\n"
     ]
    },
    {
     "name": "stderr",
     "output_type": "stream",
     "text": [
      "c:\\users\\a.vivek\\appdata\\local\\programs\\python\\python36\\lib\\site-packages\\sklearn\\decomposition\\online_lda.py:536: DeprecationWarning: The default value for 'learning_method' will be changed from 'online' to 'batch' in the release 0.20. This warning was introduced in 0.18.\n  DeprecationWarning)\n"
     ]
    },
    {
     "name": "stderr",
     "output_type": "stream",
     "text": [
      "c:\\users\\a.vivek\\appdata\\local\\programs\\python\\python36\\lib\\site-packages\\sklearn\\decomposition\\online_lda.py:536: DeprecationWarning: The default value for 'learning_method' will be changed from 'online' to 'batch' in the release 0.20. This warning was introduced in 0.18.\n  DeprecationWarning)\n"
     ]
    },
    {
     "name": "stderr",
     "output_type": "stream",
     "text": [
      "c:\\users\\a.vivek\\appdata\\local\\programs\\python\\python36\\lib\\site-packages\\sklearn\\decomposition\\online_lda.py:536: DeprecationWarning: The default value for 'learning_method' will be changed from 'online' to 'batch' in the release 0.20. This warning was introduced in 0.18.\n  DeprecationWarning)\n"
     ]
    },
    {
     "name": "stderr",
     "output_type": "stream",
     "text": [
      "c:\\users\\a.vivek\\appdata\\local\\programs\\python\\python36\\lib\\site-packages\\sklearn\\decomposition\\online_lda.py:536: DeprecationWarning: The default value for 'learning_method' will be changed from 'online' to 'batch' in the release 0.20. This warning was introduced in 0.18.\n  DeprecationWarning)\n"
     ]
    },
    {
     "name": "stderr",
     "output_type": "stream",
     "text": [
      "c:\\users\\a.vivek\\appdata\\local\\programs\\python\\python36\\lib\\site-packages\\sklearn\\decomposition\\online_lda.py:536: DeprecationWarning: The default value for 'learning_method' will be changed from 'online' to 'batch' in the release 0.20. This warning was introduced in 0.18.\n  DeprecationWarning)\n"
     ]
    },
    {
     "name": "stderr",
     "output_type": "stream",
     "text": [
      "c:\\users\\a.vivek\\appdata\\local\\programs\\python\\python36\\lib\\site-packages\\sklearn\\decomposition\\online_lda.py:536: DeprecationWarning: The default value for 'learning_method' will be changed from 'online' to 'batch' in the release 0.20. This warning was introduced in 0.18.\n  DeprecationWarning)\n"
     ]
    },
    {
     "name": "stderr",
     "output_type": "stream",
     "text": [
      "c:\\users\\a.vivek\\appdata\\local\\programs\\python\\python36\\lib\\site-packages\\sklearn\\decomposition\\online_lda.py:536: DeprecationWarning: The default value for 'learning_method' will be changed from 'online' to 'batch' in the release 0.20. This warning was introduced in 0.18.\n  DeprecationWarning)\n"
     ]
    },
    {
     "name": "stderr",
     "output_type": "stream",
     "text": [
      "c:\\users\\a.vivek\\appdata\\local\\programs\\python\\python36\\lib\\site-packages\\sklearn\\decomposition\\online_lda.py:536: DeprecationWarning: The default value for 'learning_method' will be changed from 'online' to 'batch' in the release 0.20. This warning was introduced in 0.18.\n  DeprecationWarning)\n"
     ]
    },
    {
     "name": "stderr",
     "output_type": "stream",
     "text": [
      "c:\\users\\a.vivek\\appdata\\local\\programs\\python\\python36\\lib\\site-packages\\sklearn\\decomposition\\online_lda.py:536: DeprecationWarning: The default value for 'learning_method' will be changed from 'online' to 'batch' in the release 0.20. This warning was introduced in 0.18.\n  DeprecationWarning)\n"
     ]
    },
    {
     "name": "stderr",
     "output_type": "stream",
     "text": [
      "c:\\users\\a.vivek\\appdata\\local\\programs\\python\\python36\\lib\\site-packages\\sklearn\\decomposition\\online_lda.py:536: DeprecationWarning: The default value for 'learning_method' will be changed from 'online' to 'batch' in the release 0.20. This warning was introduced in 0.18.\n  DeprecationWarning)\n"
     ]
    },
    {
     "name": "stderr",
     "output_type": "stream",
     "text": [
      "c:\\users\\a.vivek\\appdata\\local\\programs\\python\\python36\\lib\\site-packages\\sklearn\\decomposition\\online_lda.py:536: DeprecationWarning: The default value for 'learning_method' will be changed from 'online' to 'batch' in the release 0.20. This warning was introduced in 0.18.\n  DeprecationWarning)\n"
     ]
    },
    {
     "name": "stderr",
     "output_type": "stream",
     "text": [
      "c:\\users\\a.vivek\\appdata\\local\\programs\\python\\python36\\lib\\site-packages\\sklearn\\decomposition\\online_lda.py:536: DeprecationWarning: The default value for 'learning_method' will be changed from 'online' to 'batch' in the release 0.20. This warning was introduced in 0.18.\n  DeprecationWarning)\n"
     ]
    },
    {
     "name": "stderr",
     "output_type": "stream",
     "text": [
      "c:\\users\\a.vivek\\appdata\\local\\programs\\python\\python36\\lib\\site-packages\\sklearn\\decomposition\\online_lda.py:536: DeprecationWarning: The default value for 'learning_method' will be changed from 'online' to 'batch' in the release 0.20. This warning was introduced in 0.18.\n  DeprecationWarning)\n"
     ]
    },
    {
     "name": "stderr",
     "output_type": "stream",
     "text": [
      "c:\\users\\a.vivek\\appdata\\local\\programs\\python\\python36\\lib\\site-packages\\sklearn\\decomposition\\online_lda.py:536: DeprecationWarning: The default value for 'learning_method' will be changed from 'online' to 'batch' in the release 0.20. This warning was introduced in 0.18.\n  DeprecationWarning)\n"
     ]
    },
    {
     "name": "stderr",
     "output_type": "stream",
     "text": [
      "c:\\users\\a.vivek\\appdata\\local\\programs\\python\\python36\\lib\\site-packages\\sklearn\\decomposition\\online_lda.py:536: DeprecationWarning: The default value for 'learning_method' will be changed from 'online' to 'batch' in the release 0.20. This warning was introduced in 0.18.\n  DeprecationWarning)\n"
     ]
    },
    {
     "name": "stderr",
     "output_type": "stream",
     "text": [
      "c:\\users\\a.vivek\\appdata\\local\\programs\\python\\python36\\lib\\site-packages\\sklearn\\decomposition\\online_lda.py:536: DeprecationWarning: The default value for 'learning_method' will be changed from 'online' to 'batch' in the release 0.20. This warning was introduced in 0.18.\n  DeprecationWarning)\n"
     ]
    },
    {
     "name": "stderr",
     "output_type": "stream",
     "text": [
      "c:\\users\\a.vivek\\appdata\\local\\programs\\python\\python36\\lib\\site-packages\\sklearn\\decomposition\\online_lda.py:536: DeprecationWarning: The default value for 'learning_method' will be changed from 'online' to 'batch' in the release 0.20. This warning was introduced in 0.18.\n  DeprecationWarning)\n"
     ]
    },
    {
     "name": "stderr",
     "output_type": "stream",
     "text": [
      "c:\\users\\a.vivek\\appdata\\local\\programs\\python\\python36\\lib\\site-packages\\sklearn\\decomposition\\online_lda.py:536: DeprecationWarning: The default value for 'learning_method' will be changed from 'online' to 'batch' in the release 0.20. This warning was introduced in 0.18.\n  DeprecationWarning)\n"
     ]
    },
    {
     "name": "stderr",
     "output_type": "stream",
     "text": [
      "c:\\users\\a.vivek\\appdata\\local\\programs\\python\\python36\\lib\\site-packages\\sklearn\\decomposition\\online_lda.py:536: DeprecationWarning: The default value for 'learning_method' will be changed from 'online' to 'batch' in the release 0.20. This warning was introduced in 0.18.\n  DeprecationWarning)\n"
     ]
    },
    {
     "name": "stderr",
     "output_type": "stream",
     "text": [
      "c:\\users\\a.vivek\\appdata\\local\\programs\\python\\python36\\lib\\site-packages\\sklearn\\decomposition\\online_lda.py:536: DeprecationWarning: The default value for 'learning_method' will be changed from 'online' to 'batch' in the release 0.20. This warning was introduced in 0.18.\n  DeprecationWarning)\n"
     ]
    },
    {
     "name": "stderr",
     "output_type": "stream",
     "text": [
      "c:\\users\\a.vivek\\appdata\\local\\programs\\python\\python36\\lib\\site-packages\\sklearn\\decomposition\\online_lda.py:536: DeprecationWarning: The default value for 'learning_method' will be changed from 'online' to 'batch' in the release 0.20. This warning was introduced in 0.18.\n  DeprecationWarning)\n"
     ]
    },
    {
     "data": {
      "text/plain": [
       "GridSearchCV(cv=None, error_score='raise',\n       estimator=LatentDirichletAllocation(batch_size=128, doc_topic_prior=None,\n             evaluate_every=-1, learning_decay=0.7, learning_method=None,\n             learning_offset=10.0, max_doc_update_iter=100, max_iter=10,\n             mean_change_tol=0.001, n_components=10, n_jobs=1,\n             n_topics=None, perp_tol=0.1, random_state=None,\n             topic_word_prior=None, total_samples=1000000.0, verbose=0),\n       fit_params=None, iid=True, n_jobs=1,\n       param_grid={'n_components': [10, 15, 20, 25, 30], 'learning_decay': [0.5, 0.7, 0.9]},\n       pre_dispatch='2*n_jobs', refit=True, return_train_score='warn',\n       scoring=None, verbose=0)"
      ]
     },
     "execution_count": 14,
     "metadata": {},
     "output_type": "execute_result"
    }
   ],
   "source": [
    "# Define Search Param\n",
    "search_params = {'n_components': [10, 15, 20, 25, 30], 'learning_decay': [.5, .7, .9]}\n",
    "\n",
    "# Init the Model\n",
    "lda = LatentDirichletAllocation()\n",
    "\n",
    "# Init Grid Search Class\n",
    "model = GridSearchCV(lda, param_grid=search_params)\n",
    "\n",
    "# Do the Grid Search\n",
    "model.fit(data_vectorized)"
   ]
  },
  {
   "cell_type": "code",
   "execution_count": 15,
   "metadata": {},
   "outputs": [
    {
     "name": "stdout",
     "output_type": "stream",
     "text": [
      "Best Model's Params: "
     ]
    },
    {
     "name": "stdout",
     "output_type": "stream",
     "text": [
      " "
     ]
    },
    {
     "name": "stdout",
     "output_type": "stream",
     "text": [
      "{'learning_decay': 0.7, 'n_components': 10}"
     ]
    },
    {
     "name": "stdout",
     "output_type": "stream",
     "text": [
      "\n"
     ]
    },
    {
     "name": "stdout",
     "output_type": "stream",
     "text": [
      "Best Log Likelihood Score: "
     ]
    },
    {
     "name": "stdout",
     "output_type": "stream",
     "text": [
      " "
     ]
    },
    {
     "name": "stdout",
     "output_type": "stream",
     "text": [
      "-3423979.647715409"
     ]
    },
    {
     "name": "stdout",
     "output_type": "stream",
     "text": [
      "\n"
     ]
    },
    {
     "name": "stdout",
     "output_type": "stream",
     "text": [
      "Model Perplexity: "
     ]
    },
    {
     "name": "stdout",
     "output_type": "stream",
     "text": [
      " "
     ]
    },
    {
     "name": "stdout",
     "output_type": "stream",
     "text": [
      "2067.399776036162"
     ]
    },
    {
     "name": "stdout",
     "output_type": "stream",
     "text": [
      "\n"
     ]
    }
   ],
   "source": [
    "# Best Model\n",
    "best_lda_model = model.best_estimator_\n",
    "\n",
    "# Model Parameters\n",
    "print(\"Best Model's Params: \", model.best_params_)\n",
    "\n",
    "# Log Likelihood Score\n",
    "print(\"Best Log Likelihood Score: \", model.best_score_)\n",
    "\n",
    "# Perplexity\n",
    "print(\"Model Perplexity: \", best_lda_model.perplexity(data_vectorized))"
   ]
  },
  {
   "cell_type": "code",
   "execution_count": 16,
   "metadata": {},
   "outputs": [
    {
     "name": "stderr",
     "output_type": "stream",
     "text": [
      "c:\\users\\a.vivek\\appdata\\local\\programs\\python\\python36\\lib\\site-packages\\sklearn\\model_selection\\_search.py:761: DeprecationWarning: The grid_scores_ attribute was deprecated in version 0.18 in favor of the more elaborate cv_results_ attribute. The grid_scores_ attribute will not be available from 0.20\n  DeprecationWarning)\n"
     ]
    },
    {
     "name": "stderr",
     "output_type": "stream",
     "text": [
      "c:\\users\\a.vivek\\appdata\\local\\programs\\python\\python36\\lib\\site-packages\\sklearn\\model_selection\\_search.py:761: DeprecationWarning: The grid_scores_ attribute was deprecated in version 0.18 in favor of the more elaborate cv_results_ attribute. The grid_scores_ attribute will not be available from 0.20\n  DeprecationWarning)\n"
     ]
    },
    {
     "name": "stderr",
     "output_type": "stream",
     "text": [
      "c:\\users\\a.vivek\\appdata\\local\\programs\\python\\python36\\lib\\site-packages\\sklearn\\model_selection\\_search.py:761: DeprecationWarning: The grid_scores_ attribute was deprecated in version 0.18 in favor of the more elaborate cv_results_ attribute. The grid_scores_ attribute will not be available from 0.20\n  DeprecationWarning)\n"
     ]
    },
    {
     "data": {
      "image/png": "[encoded data removed]",
      "text/plain": [
       "<Figure size 864x576 with 1 Axes>"
      ]
     },
     "metadata": {},
     "output_type": "display_data"
    }
   ],
   "source": [
    "# Get Log Likelyhoods from Grid Search Output\n",
    "n_topics = [10, 15, 20, 25, 30]\n",
    "log_likelyhoods_5 = [round(gscore.mean_validation_score) for gscore in model.grid_scores_ if gscore.parameters['learning_decay']==0.5]\n",
    "log_likelyhoods_7 = [round(gscore.mean_validation_score) for gscore in model.grid_scores_ if gscore.parameters['learning_decay']==0.7]\n",
    "log_likelyhoods_9 = [round(gscore.mean_validation_score) for gscore in model.grid_scores_ if gscore.parameters['learning_decay']==0.9]\n",
    "\n",
    "# Show graph\n",
    "plt.figure(figsize=(12, 8))\n",
    "plt.plot(n_topics, log_likelyhoods_5, label='0.5')\n",
    "plt.plot(n_topics, log_likelyhoods_7, label='0.7')\n",
    "plt.plot(n_topics, log_likelyhoods_9, label='0.9')\n",
    "plt.title(\"Choosing Optimal LDA Model\")\n",
    "plt.xlabel(\"Num Topics\")\n",
    "plt.ylabel(\"Log Likelyhood Scores\")\n",
    "plt.legend(title='Learning decay', loc='best')\n",
    "plt.show()"
   ]
  },
  {
   "cell_type": "code",
   "execution_count": 24,
   "metadata": {},
   "outputs": [
    {
     "data": {
      "text/html": [
       "<style  type=\"text/css\" >\n",
       "    #T_b88c5376_64f4_11e8_a209_d46d6d337b28row0_col0 {\n",
       "            color:  black;\n",
       "            font-weight:  400;\n",
       "        }    #T_b88c5376_64f4_11e8_a209_d46d6d337b28row0_col1 {\n",
       "            color:  black;\n",
       "            font-weight:  400;\n",
       "        }    #T_b88c5376_64f4_11e8_a209_d46d6d337b28row0_col2 {\n",
       "            color:  black;\n",
       "            font-weight:  400;\n",
       "        }    #T_b88c5376_64f4_11e8_a209_d46d6d337b28row0_col3 {\n",
       "            color:  black;\n",
       "            font-weight:  400;\n",
       "        }    #T_b88c5376_64f4_11e8_a209_d46d6d337b28row0_col4 {\n",
       "            color:  black;\n",
       "            font-weight:  400;\n",
       "        }    #T_b88c5376_64f4_11e8_a209_d46d6d337b28row0_col5 {\n",
       "            color:  green;\n",
       "            font-weight:  700;\n",
       "        }    #T_b88c5376_64f4_11e8_a209_d46d6d337b28row0_col6 {\n",
       "            color:  black;\n",
       "            font-weight:  400;\n",
       "        }    #T_b88c5376_64f4_11e8_a209_d46d6d337b28row0_col7 {\n",
       "            color:  green;\n",
       "            font-weight:  700;\n",
       "        }    #T_b88c5376_64f4_11e8_a209_d46d6d337b28row0_col8 {\n",
       "            color:  black;\n",
       "            font-weight:  400;\n",
       "        }    #T_b88c5376_64f4_11e8_a209_d46d6d337b28row0_col9 {\n",
       "            color:  black;\n",
       "            font-weight:  400;\n",
       "        }    #T_b88c5376_64f4_11e8_a209_d46d6d337b28row0_col10 {\n",
       "            color:  green;\n",
       "            font-weight:  700;\n",
       "        }    #T_b88c5376_64f4_11e8_a209_d46d6d337b28row1_col0 {\n",
       "            color:  black;\n",
       "            font-weight:  400;\n",
       "        }    #T_b88c5376_64f4_11e8_a209_d46d6d337b28row1_col1 {\n",
       "            color:  black;\n",
       "            font-weight:  400;\n",
       "        }    #T_b88c5376_64f4_11e8_a209_d46d6d337b28row1_col2 {\n",
       "            color:  green;\n",
       "            font-weight:  700;\n",
       "        }    #T_b88c5376_64f4_11e8_a209_d46d6d337b28row1_col3 {\n",
       "            color:  green;\n",
       "            font-weight:  700;\n",
       "        }    #T_b88c5376_64f4_11e8_a209_d46d6d337b28row1_col4 {\n",
       "            color:  black;\n",
       "            font-weight:  400;\n",
       "        }    #T_b88c5376_64f4_11e8_a209_d46d6d337b28row1_col5 {\n",
       "            color:  black;\n",
       "            font-weight:  400;\n",
       "        }    #T_b88c5376_64f4_11e8_a209_d46d6d337b28row1_col6 {\n",
       "            color:  black;\n",
       "            font-weight:  400;\n",
       "        }    #T_b88c5376_64f4_11e8_a209_d46d6d337b28row1_col7 {\n",
       "            color:  black;\n",
       "            font-weight:  400;\n",
       "        }    #T_b88c5376_64f4_11e8_a209_d46d6d337b28row1_col8 {\n",
       "            color:  black;\n",
       "            font-weight:  400;\n",
       "        }    #T_b88c5376_64f4_11e8_a209_d46d6d337b28row1_col9 {\n",
       "            color:  black;\n",
       "            font-weight:  400;\n",
       "        }    #T_b88c5376_64f4_11e8_a209_d46d6d337b28row1_col10 {\n",
       "            color:  green;\n",
       "            font-weight:  700;\n",
       "        }    #T_b88c5376_64f4_11e8_a209_d46d6d337b28row2_col0 {\n",
       "            color:  black;\n",
       "            font-weight:  400;\n",
       "        }    #T_b88c5376_64f4_11e8_a209_d46d6d337b28row2_col1 {\n",
       "            color:  black;\n",
       "            font-weight:  400;\n",
       "        }    #T_b88c5376_64f4_11e8_a209_d46d6d337b28row2_col2 {\n",
       "            color:  green;\n",
       "            font-weight:  700;\n",
       "        }    #T_b88c5376_64f4_11e8_a209_d46d6d337b28row2_col3 {\n",
       "            color:  black;\n",
       "            font-weight:  400;\n",
       "        }    #T_b88c5376_64f4_11e8_a209_d46d6d337b28row2_col4 {\n",
       "            color:  black;\n",
       "            font-weight:  400;\n",
       "        }    #T_b88c5376_64f4_11e8_a209_d46d6d337b28row2_col5 {\n",
       "            color:  black;\n",
       "            font-weight:  400;\n",
       "        }    #T_b88c5376_64f4_11e8_a209_d46d6d337b28row2_col6 {\n",
       "            color:  black;\n",
       "            font-weight:  400;\n",
       "        }    #T_b88c5376_64f4_11e8_a209_d46d6d337b28row2_col7 {\n",
       "            color:  black;\n",
       "            font-weight:  400;\n",
       "        }    #T_b88c5376_64f4_11e8_a209_d46d6d337b28row2_col8 {\n",
       "            color:  black;\n",
       "            font-weight:  400;\n",
       "        }    #T_b88c5376_64f4_11e8_a209_d46d6d337b28row2_col9 {\n",
       "            color:  black;\n",
       "            font-weight:  400;\n",
       "        }    #T_b88c5376_64f4_11e8_a209_d46d6d337b28row2_col10 {\n",
       "            color:  green;\n",
       "            font-weight:  700;\n",
       "        }    #T_b88c5376_64f4_11e8_a209_d46d6d337b28row3_col0 {\n",
       "            color:  black;\n",
       "            font-weight:  400;\n",
       "        }    #T_b88c5376_64f4_11e8_a209_d46d6d337b28row3_col1 {\n",
       "            color:  black;\n",
       "            font-weight:  400;\n",
       "        }    #T_b88c5376_64f4_11e8_a209_d46d6d337b28row3_col2 {\n",
       "            color:  green;\n",
       "            font-weight:  700;\n",
       "        }    #T_b88c5376_64f4_11e8_a209_d46d6d337b28row3_col3 {\n",
       "            color:  black;\n",
       "            font-weight:  400;\n",
       "        }    #T_b88c5376_64f4_11e8_a209_d46d6d337b28row3_col4 {\n",
       "            color:  black;\n",
       "            font-weight:  400;\n",
       "        }    #T_b88c5376_64f4_11e8_a209_d46d6d337b28row3_col5 {\n",
       "            color:  black;\n",
       "            font-weight:  400;\n",
       "        }    #T_b88c5376_64f4_11e8_a209_d46d6d337b28row3_col6 {\n",
       "            color:  black;\n",
       "            font-weight:  400;\n",
       "        }    #T_b88c5376_64f4_11e8_a209_d46d6d337b28row3_col7 {\n",
       "            color:  black;\n",
       "            font-weight:  400;\n",
       "        }    #T_b88c5376_64f4_11e8_a209_d46d6d337b28row3_col8 {\n",
       "            color:  black;\n",
       "            font-weight:  400;\n",
       "        }    #T_b88c5376_64f4_11e8_a209_d46d6d337b28row3_col9 {\n",
       "            color:  green;\n",
       "            font-weight:  700;\n",
       "        }    #T_b88c5376_64f4_11e8_a209_d46d6d337b28row3_col10 {\n",
       "            color:  green;\n",
       "            font-weight:  700;\n",
       "        }    #T_b88c5376_64f4_11e8_a209_d46d6d337b28row4_col0 {\n",
       "            color:  black;\n",
       "            font-weight:  400;\n",
       "        }    #T_b88c5376_64f4_11e8_a209_d46d6d337b28row4_col1 {\n",
       "            color:  black;\n",
       "            font-weight:  400;\n",
       "        }    #T_b88c5376_64f4_11e8_a209_d46d6d337b28row4_col2 {\n",
       "            color:  green;\n",
       "            font-weight:  700;\n",
       "        }    #T_b88c5376_64f4_11e8_a209_d46d6d337b28row4_col3 {\n",
       "            color:  black;\n",
       "            font-weight:  400;\n",
       "        }    #T_b88c5376_64f4_11e8_a209_d46d6d337b28row4_col4 {\n",
       "            color:  black;\n",
       "            font-weight:  400;\n",
       "        }    #T_b88c5376_64f4_11e8_a209_d46d6d337b28row4_col5 {\n",
       "            color:  black;\n",
       "            font-weight:  400;\n",
       "        }    #T_b88c5376_64f4_11e8_a209_d46d6d337b28row4_col6 {\n",
       "            color:  black;\n",
       "            font-weight:  400;\n",
       "        }    #T_b88c5376_64f4_11e8_a209_d46d6d337b28row4_col7 {\n",
       "            color:  black;\n",
       "            font-weight:  400;\n",
       "        }    #T_b88c5376_64f4_11e8_a209_d46d6d337b28row4_col8 {\n",
       "            color:  black;\n",
       "            font-weight:  400;\n",
       "        }    #T_b88c5376_64f4_11e8_a209_d46d6d337b28row4_col9 {\n",
       "            color:  black;\n",
       "            font-weight:  400;\n",
       "        }    #T_b88c5376_64f4_11e8_a209_d46d6d337b28row4_col10 {\n",
       "            color:  green;\n",
       "            font-weight:  700;\n",
       "        }    #T_b88c5376_64f4_11e8_a209_d46d6d337b28row5_col0 {\n",
       "            color:  black;\n",
       "            font-weight:  400;\n",
       "        }    #T_b88c5376_64f4_11e8_a209_d46d6d337b28row5_col1 {\n",
       "            color:  black;\n",
       "            font-weight:  400;\n",
       "        }    #T_b88c5376_64f4_11e8_a209_d46d6d337b28row5_col2 {\n",
       "            color:  green;\n",
       "            font-weight:  700;\n",
       "        }    #T_b88c5376_64f4_11e8_a209_d46d6d337b28row5_col3 {\n",
       "            color:  black;\n",
       "            font-weight:  400;\n",
       "        }    #T_b88c5376_64f4_11e8_a209_d46d6d337b28row5_col4 {\n",
       "            color:  black;\n",
       "            font-weight:  400;\n",
       "        }    #T_b88c5376_64f4_11e8_a209_d46d6d337b28row5_col5 {\n",
       "            color:  green;\n",
       "            font-weight:  700;\n",
       "        }    #T_b88c5376_64f4_11e8_a209_d46d6d337b28row5_col6 {\n",
       "            color:  black;\n",
       "            font-weight:  400;\n",
       "        }    #T_b88c5376_64f4_11e8_a209_d46d6d337b28row5_col7 {\n",
       "            color:  green;\n",
       "            font-weight:  700;\n",
       "        }    #T_b88c5376_64f4_11e8_a209_d46d6d337b28row5_col8 {\n",
       "            color:  black;\n",
       "            font-weight:  400;\n",
       "        }    #T_b88c5376_64f4_11e8_a209_d46d6d337b28row5_col9 {\n",
       "            color:  black;\n",
       "            font-weight:  400;\n",
       "        }    #T_b88c5376_64f4_11e8_a209_d46d6d337b28row5_col10 {\n",
       "            color:  green;\n",
       "            font-weight:  700;\n",
       "        }    #T_b88c5376_64f4_11e8_a209_d46d6d337b28row6_col0 {\n",
       "            color:  black;\n",
       "            font-weight:  400;\n",
       "        }    #T_b88c5376_64f4_11e8_a209_d46d6d337b28row6_col1 {\n",
       "            color:  black;\n",
       "            font-weight:  400;\n",
       "        }    #T_b88c5376_64f4_11e8_a209_d46d6d337b28row6_col2 {\n",
       "            color:  green;\n",
       "            font-weight:  700;\n",
       "        }    #T_b88c5376_64f4_11e8_a209_d46d6d337b28row6_col3 {\n",
       "            color:  black;\n",
       "            font-weight:  400;\n",
       "        }    #T_b88c5376_64f4_11e8_a209_d46d6d337b28row6_col4 {\n",
       "            color:  black;\n",
       "            font-weight:  400;\n",
       "        }    #T_b88c5376_64f4_11e8_a209_d46d6d337b28row6_col5 {\n",
       "            color:  black;\n",
       "            font-weight:  400;\n",
       "        }    #T_b88c5376_64f4_11e8_a209_d46d6d337b28row6_col6 {\n",
       "            color:  black;\n",
       "            font-weight:  400;\n",
       "        }    #T_b88c5376_64f4_11e8_a209_d46d6d337b28row6_col7 {\n",
       "            color:  black;\n",
       "            font-weight:  400;\n",
       "        }    #T_b88c5376_64f4_11e8_a209_d46d6d337b28row6_col8 {\n",
       "            color:  black;\n",
       "            font-weight:  400;\n",
       "        }    #T_b88c5376_64f4_11e8_a209_d46d6d337b28row6_col9 {\n",
       "            color:  black;\n",
       "            font-weight:  400;\n",
       "        }    #T_b88c5376_64f4_11e8_a209_d46d6d337b28row6_col10 {\n",
       "            color:  green;\n",
       "            font-weight:  700;\n",
       "        }    #T_b88c5376_64f4_11e8_a209_d46d6d337b28row7_col0 {\n",
       "            color:  black;\n",
       "            font-weight:  400;\n",
       "        }    #T_b88c5376_64f4_11e8_a209_d46d6d337b28row7_col1 {\n",
       "            color:  black;\n",
       "            font-weight:  400;\n",
       "        }    #T_b88c5376_64f4_11e8_a209_d46d6d337b28row7_col2 {\n",
       "            color:  green;\n",
       "            font-weight:  700;\n",
       "        }    #T_b88c5376_64f4_11e8_a209_d46d6d337b28row7_col3 {\n",
       "            color:  black;\n",
       "            font-weight:  400;\n",
       "        }    #T_b88c5376_64f4_11e8_a209_d46d6d337b28row7_col4 {\n",
       "            color:  black;\n",
       "            font-weight:  400;\n",
       "        }    #T_b88c5376_64f4_11e8_a209_d46d6d337b28row7_col5 {\n",
       "            color:  black;\n",
       "            font-weight:  400;\n",
       "        }    #T_b88c5376_64f4_11e8_a209_d46d6d337b28row7_col6 {\n",
       "            color:  black;\n",
       "            font-weight:  400;\n",
       "        }    #T_b88c5376_64f4_11e8_a209_d46d6d337b28row7_col7 {\n",
       "            color:  green;\n",
       "            font-weight:  700;\n",
       "        }    #T_b88c5376_64f4_11e8_a209_d46d6d337b28row7_col8 {\n",
       "            color:  black;\n",
       "            font-weight:  400;\n",
       "        }    #T_b88c5376_64f4_11e8_a209_d46d6d337b28row7_col9 {\n",
       "            color:  green;\n",
       "            font-weight:  700;\n",
       "        }    #T_b88c5376_64f4_11e8_a209_d46d6d337b28row7_col10 {\n",
       "            color:  green;\n",
       "            font-weight:  700;\n",
       "        }    #T_b88c5376_64f4_11e8_a209_d46d6d337b28row8_col0 {\n",
       "            color:  green;\n",
       "            font-weight:  700;\n",
       "        }    #T_b88c5376_64f4_11e8_a209_d46d6d337b28row8_col1 {\n",
       "            color:  black;\n",
       "            font-weight:  400;\n",
       "        }    #T_b88c5376_64f4_11e8_a209_d46d6d337b28row8_col2 {\n",
       "            color:  black;\n",
       "            font-weight:  400;\n",
       "        }    #T_b88c5376_64f4_11e8_a209_d46d6d337b28row8_col3 {\n",
       "            color:  black;\n",
       "            font-weight:  400;\n",
       "        }    #T_b88c5376_64f4_11e8_a209_d46d6d337b28row8_col4 {\n",
       "            color:  black;\n",
       "            font-weight:  400;\n",
       "        }    #T_b88c5376_64f4_11e8_a209_d46d6d337b28row8_col5 {\n",
       "            color:  black;\n",
       "            font-weight:  400;\n",
       "        }    #T_b88c5376_64f4_11e8_a209_d46d6d337b28row8_col6 {\n",
       "            color:  green;\n",
       "            font-weight:  700;\n",
       "        }    #T_b88c5376_64f4_11e8_a209_d46d6d337b28row8_col7 {\n",
       "            color:  green;\n",
       "            font-weight:  700;\n",
       "        }    #T_b88c5376_64f4_11e8_a209_d46d6d337b28row8_col8 {\n",
       "            color:  green;\n",
       "            font-weight:  700;\n",
       "        }    #T_b88c5376_64f4_11e8_a209_d46d6d337b28row8_col9 {\n",
       "            color:  black;\n",
       "            font-weight:  400;\n",
       "        }    #T_b88c5376_64f4_11e8_a209_d46d6d337b28row8_col10 {\n",
       "            color:  green;\n",
       "            font-weight:  700;\n",
       "        }    #T_b88c5376_64f4_11e8_a209_d46d6d337b28row9_col0 {\n",
       "            color:  black;\n",
       "            font-weight:  400;\n",
       "        }    #T_b88c5376_64f4_11e8_a209_d46d6d337b28row9_col1 {\n",
       "            color:  black;\n",
       "            font-weight:  400;\n",
       "        }    #T_b88c5376_64f4_11e8_a209_d46d6d337b28row9_col2 {\n",
       "            color:  black;\n",
       "            font-weight:  400;\n",
       "        }    #T_b88c5376_64f4_11e8_a209_d46d6d337b28row9_col3 {\n",
       "            color:  black;\n",
       "            font-weight:  400;\n",
       "        }    #T_b88c5376_64f4_11e8_a209_d46d6d337b28row9_col4 {\n",
       "            color:  black;\n",
       "            font-weight:  400;\n",
       "        }    #T_b88c5376_64f4_11e8_a209_d46d6d337b28row9_col5 {\n",
       "            color:  black;\n",
       "            font-weight:  400;\n",
       "        }    #T_b88c5376_64f4_11e8_a209_d46d6d337b28row9_col6 {\n",
       "            color:  black;\n",
       "            font-weight:  400;\n",
       "        }    #T_b88c5376_64f4_11e8_a209_d46d6d337b28row9_col7 {\n",
       "            color:  green;\n",
       "            font-weight:  700;\n",
       "        }    #T_b88c5376_64f4_11e8_a209_d46d6d337b28row9_col8 {\n",
       "            color:  green;\n",
       "            font-weight:  700;\n",
       "        }    #T_b88c5376_64f4_11e8_a209_d46d6d337b28row9_col9 {\n",
       "            color:  black;\n",
       "            font-weight:  400;\n",
       "        }    #T_b88c5376_64f4_11e8_a209_d46d6d337b28row9_col10 {\n",
       "            color:  green;\n",
       "            font-weight:  700;\n",
       "        }    #T_b88c5376_64f4_11e8_a209_d46d6d337b28row10_col0 {\n",
       "            color:  black;\n",
       "            font-weight:  400;\n",
       "        }    #T_b88c5376_64f4_11e8_a209_d46d6d337b28row10_col1 {\n",
       "            color:  green;\n",
       "            font-weight:  700;\n",
       "        }    #T_b88c5376_64f4_11e8_a209_d46d6d337b28row10_col2 {\n",
       "            color:  green;\n",
       "            font-weight:  700;\n",
       "        }    #T_b88c5376_64f4_11e8_a209_d46d6d337b28row10_col3 {\n",
       "            color:  black;\n",
       "            font-weight:  400;\n",
       "        }    #T_b88c5376_64f4_11e8_a209_d46d6d337b28row10_col4 {\n",
       "            color:  black;\n",
       "            font-weight:  400;\n",
       "        }    #T_b88c5376_64f4_11e8_a209_d46d6d337b28row10_col5 {\n",
       "            color:  green;\n",
       "            font-weight:  700;\n",
       "        }    #T_b88c5376_64f4_11e8_a209_d46d6d337b28row10_col6 {\n",
       "            color:  black;\n",
       "            font-weight:  400;\n",
       "        }    #T_b88c5376_64f4_11e8_a209_d46d6d337b28row10_col7 {\n",
       "            color:  green;\n",
       "            font-weight:  700;\n",
       "        }    #T_b88c5376_64f4_11e8_a209_d46d6d337b28row10_col8 {\n",
       "            color:  black;\n",
       "            font-weight:  400;\n",
       "        }    #T_b88c5376_64f4_11e8_a209_d46d6d337b28row10_col9 {\n",
       "            color:  black;\n",
       "            font-weight:  400;\n",
       "        }    #T_b88c5376_64f4_11e8_a209_d46d6d337b28row10_col10 {\n",
       "            color:  green;\n",
       "            font-weight:  700;\n",
       "        }    #T_b88c5376_64f4_11e8_a209_d46d6d337b28row11_col0 {\n",
       "            color:  black;\n",
       "            font-weight:  400;\n",
       "        }    #T_b88c5376_64f4_11e8_a209_d46d6d337b28row11_col1 {\n",
       "            color:  green;\n",
       "            font-weight:  700;\n",
       "        }    #T_b88c5376_64f4_11e8_a209_d46d6d337b28row11_col2 {\n",
       "            color:  black;\n",
       "            font-weight:  400;\n",
       "        }    #T_b88c5376_64f4_11e8_a209_d46d6d337b28row11_col3 {\n",
       "            color:  black;\n",
       "            font-weight:  400;\n",
       "        }    #T_b88c5376_64f4_11e8_a209_d46d6d337b28row11_col4 {\n",
       "            color:  green;\n",
       "            font-weight:  700;\n",
       "        }    #T_b88c5376_64f4_11e8_a209_d46d6d337b28row11_col5 {\n",
       "            color:  black;\n",
       "            font-weight:  400;\n",
       "        }    #T_b88c5376_64f4_11e8_a209_d46d6d337b28row11_col6 {\n",
       "            color:  black;\n",
       "            font-weight:  400;\n",
       "        }    #T_b88c5376_64f4_11e8_a209_d46d6d337b28row11_col7 {\n",
       "            color:  black;\n",
       "            font-weight:  400;\n",
       "        }    #T_b88c5376_64f4_11e8_a209_d46d6d337b28row11_col8 {\n",
       "            color:  black;\n",
       "            font-weight:  400;\n",
       "        }    #T_b88c5376_64f4_11e8_a209_d46d6d337b28row11_col9 {\n",
       "            color:  black;\n",
       "            font-weight:  400;\n",
       "        }    #T_b88c5376_64f4_11e8_a209_d46d6d337b28row11_col10 {\n",
       "            color:  green;\n",
       "            font-weight:  700;\n",
       "        }    #T_b88c5376_64f4_11e8_a209_d46d6d337b28row12_col0 {\n",
       "            color:  black;\n",
       "            font-weight:  400;\n",
       "        }    #T_b88c5376_64f4_11e8_a209_d46d6d337b28row12_col1 {\n",
       "            color:  black;\n",
       "            font-weight:  400;\n",
       "        }    #T_b88c5376_64f4_11e8_a209_d46d6d337b28row12_col2 {\n",
       "            color:  green;\n",
       "            font-weight:  700;\n",
       "        }    #T_b88c5376_64f4_11e8_a209_d46d6d337b28row12_col3 {\n",
       "            color:  black;\n",
       "            font-weight:  400;\n",
       "        }    #T_b88c5376_64f4_11e8_a209_d46d6d337b28row12_col4 {\n",
       "            color:  black;\n",
       "            font-weight:  400;\n",
       "        }    #T_b88c5376_64f4_11e8_a209_d46d6d337b28row12_col5 {\n",
       "            color:  green;\n",
       "            font-weight:  700;\n",
       "        }    #T_b88c5376_64f4_11e8_a209_d46d6d337b28row12_col6 {\n",
       "            color:  green;\n",
       "            font-weight:  700;\n",
       "        }    #T_b88c5376_64f4_11e8_a209_d46d6d337b28row12_col7 {\n",
       "            color:  green;\n",
       "            font-weight:  700;\n",
       "        }    #T_b88c5376_64f4_11e8_a209_d46d6d337b28row12_col8 {\n",
       "            color:  black;\n",
       "            font-weight:  400;\n",
       "        }    #T_b88c5376_64f4_11e8_a209_d46d6d337b28row12_col9 {\n",
       "            color:  black;\n",
       "            font-weight:  400;\n",
       "        }    #T_b88c5376_64f4_11e8_a209_d46d6d337b28row12_col10 {\n",
       "            color:  green;\n",
       "            font-weight:  700;\n",
       "        }    #T_b88c5376_64f4_11e8_a209_d46d6d337b28row13_col0 {\n",
       "            color:  black;\n",
       "            font-weight:  400;\n",
       "        }    #T_b88c5376_64f4_11e8_a209_d46d6d337b28row13_col1 {\n",
       "            color:  black;\n",
       "            font-weight:  400;\n",
       "        }    #T_b88c5376_64f4_11e8_a209_d46d6d337b28row13_col2 {\n",
       "            color:  green;\n",
       "            font-weight:  700;\n",
       "        }    #T_b88c5376_64f4_11e8_a209_d46d6d337b28row13_col3 {\n",
       "            color:  black;\n",
       "            font-weight:  400;\n",
       "        }    #T_b88c5376_64f4_11e8_a209_d46d6d337b28row13_col4 {\n",
       "            color:  green;\n",
       "            font-weight:  700;\n",
       "        }    #T_b88c5376_64f4_11e8_a209_d46d6d337b28row13_col5 {\n",
       "            color:  black;\n",
       "            font-weight:  400;\n",
       "        }    #T_b88c5376_64f4_11e8_a209_d46d6d337b28row13_col6 {\n",
       "            color:  black;\n",
       "            font-weight:  400;\n",
       "        }    #T_b88c5376_64f4_11e8_a209_d46d6d337b28row13_col7 {\n",
       "            color:  green;\n",
       "            font-weight:  700;\n",
       "        }    #T_b88c5376_64f4_11e8_a209_d46d6d337b28row13_col8 {\n",
       "            color:  black;\n",
       "            font-weight:  400;\n",
       "        }    #T_b88c5376_64f4_11e8_a209_d46d6d337b28row13_col9 {\n",
       "            color:  black;\n",
       "            font-weight:  400;\n",
       "        }    #T_b88c5376_64f4_11e8_a209_d46d6d337b28row13_col10 {\n",
       "            color:  green;\n",
       "            font-weight:  700;\n",
       "        }    #T_b88c5376_64f4_11e8_a209_d46d6d337b28row14_col0 {\n",
       "            color:  black;\n",
       "            font-weight:  400;\n",
       "        }    #T_b88c5376_64f4_11e8_a209_d46d6d337b28row14_col1 {\n",
       "            color:  green;\n",
       "            font-weight:  700;\n",
       "        }    #T_b88c5376_64f4_11e8_a209_d46d6d337b28row14_col2 {\n",
       "            color:  black;\n",
       "            font-weight:  400;\n",
       "        }    #T_b88c5376_64f4_11e8_a209_d46d6d337b28row14_col3 {\n",
       "            color:  black;\n",
       "            font-weight:  400;\n",
       "        }    #T_b88c5376_64f4_11e8_a209_d46d6d337b28row14_col4 {\n",
       "            color:  black;\n",
       "            font-weight:  400;\n",
       "        }    #T_b88c5376_64f4_11e8_a209_d46d6d337b28row14_col5 {\n",
       "            color:  green;\n",
       "            font-weight:  700;\n",
       "        }    #T_b88c5376_64f4_11e8_a209_d46d6d337b28row14_col6 {\n",
       "            color:  black;\n",
       "            font-weight:  400;\n",
       "        }    #T_b88c5376_64f4_11e8_a209_d46d6d337b28row14_col7 {\n",
       "            color:  green;\n",
       "            font-weight:  700;\n",
       "        }    #T_b88c5376_64f4_11e8_a209_d46d6d337b28row14_col8 {\n",
       "            color:  black;\n",
       "            font-weight:  400;\n",
       "        }    #T_b88c5376_64f4_11e8_a209_d46d6d337b28row14_col9 {\n",
       "            color:  black;\n",
       "            font-weight:  400;\n",
       "        }    #T_b88c5376_64f4_11e8_a209_d46d6d337b28row14_col10 {\n",
       "            color:  green;\n",
       "            font-weight:  700;\n",
       "        }</style>  \n",
       "<table id=\"T_b88c5376_64f4_11e8_a209_d46d6d337b28\" > \n",
       "<thead>    <tr> \n",
       "        <th class=\"blank level0\" ></th> \n",
       "        <th class=\"col_heading level0 col0\" >Topic0</th> \n",
       "        <th class=\"col_heading level0 col1\" >Topic1</th> \n",
       "        <th class=\"col_heading level0 col2\" >Topic2</th> \n",
       "        <th class=\"col_heading level0 col3\" >Topic3</th> \n",
       "        <th class=\"col_heading level0 col4\" >Topic4</th> \n",
       "        <th class=\"col_heading level0 col5\" >Topic5</th> \n",
       "        <th class=\"col_heading level0 col6\" >Topic6</th> \n",
       "        <th class=\"col_heading level0 col7\" >Topic7</th> \n",
       "        <th class=\"col_heading level0 col8\" >Topic8</th> \n",
       "        <th class=\"col_heading level0 col9\" >Topic9</th> \n",
       "        <th class=\"col_heading level0 col10\" >dominant_topic</th> \n",
       "    </tr></thead> \n",
       "<tbody>    <tr> \n",
       "        <th id=\"T_b88c5376_64f4_11e8_a209_d46d6d337b28level0_row0\" class=\"row_heading level0 row0\" >Doc0</th> \n",
       "        <td id=\"T_b88c5376_64f4_11e8_a209_d46d6d337b28row0_col0\" class=\"data row0 col0\" >0</td> \n",
       "        <td id=\"T_b88c5376_64f4_11e8_a209_d46d6d337b28row0_col1\" class=\"data row0 col1\" >0</td> \n",
       "        <td id=\"T_b88c5376_64f4_11e8_a209_d46d6d337b28row0_col2\" class=\"data row0 col2\" >0.09</td> \n",
       "        <td id=\"T_b88c5376_64f4_11e8_a209_d46d6d337b28row0_col3\" class=\"data row0 col3\" >0</td> \n",
       "        <td id=\"T_b88c5376_64f4_11e8_a209_d46d6d337b28row0_col4\" class=\"data row0 col4\" >0</td> \n",
       "        <td id=\"T_b88c5376_64f4_11e8_a209_d46d6d337b28row0_col5\" class=\"data row0 col5\" >0.16</td> \n",
       "        <td id=\"T_b88c5376_64f4_11e8_a209_d46d6d337b28row0_col6\" class=\"data row0 col6\" >0</td> \n",
       "        <td id=\"T_b88c5376_64f4_11e8_a209_d46d6d337b28row0_col7\" class=\"data row0 col7\" >0.74</td> \n",
       "        <td id=\"T_b88c5376_64f4_11e8_a209_d46d6d337b28row0_col8\" class=\"data row0 col8\" >0</td> \n",
       "        <td id=\"T_b88c5376_64f4_11e8_a209_d46d6d337b28row0_col9\" class=\"data row0 col9\" >0</td> \n",
       "        <td id=\"T_b88c5376_64f4_11e8_a209_d46d6d337b28row0_col10\" class=\"data row0 col10\" >7</td> \n",
       "    </tr>    <tr> \n",
       "        <th id=\"T_b88c5376_64f4_11e8_a209_d46d6d337b28level0_row1\" class=\"row_heading level0 row1\" >Doc1</th> \n",
       "        <td id=\"T_b88c5376_64f4_11e8_a209_d46d6d337b28row1_col0\" class=\"data row1 col0\" >0.02</td> \n",
       "        <td id=\"T_b88c5376_64f4_11e8_a209_d46d6d337b28row1_col1\" class=\"data row1 col1\" >0</td> \n",
       "        <td id=\"T_b88c5376_64f4_11e8_a209_d46d6d337b28row1_col2\" class=\"data row1 col2\" >0.52</td> \n",
       "        <td id=\"T_b88c5376_64f4_11e8_a209_d46d6d337b28row1_col3\" class=\"data row1 col3\" >0.32</td> \n",
       "        <td id=\"T_b88c5376_64f4_11e8_a209_d46d6d337b28row1_col4\" class=\"data row1 col4\" >0</td> \n",
       "        <td id=\"T_b88c5376_64f4_11e8_a209_d46d6d337b28row1_col5\" class=\"data row1 col5\" >0.03</td> \n",
       "        <td id=\"T_b88c5376_64f4_11e8_a209_d46d6d337b28row1_col6\" class=\"data row1 col6\" >0</td> \n",
       "        <td id=\"T_b88c5376_64f4_11e8_a209_d46d6d337b28row1_col7\" class=\"data row1 col7\" >0</td> \n",
       "        <td id=\"T_b88c5376_64f4_11e8_a209_d46d6d337b28row1_col8\" class=\"data row1 col8\" >0</td> \n",
       "        <td id=\"T_b88c5376_64f4_11e8_a209_d46d6d337b28row1_col9\" class=\"data row1 col9\" >0.1</td> \n",
       "        <td id=\"T_b88c5376_64f4_11e8_a209_d46d6d337b28row1_col10\" class=\"data row1 col10\" >2</td> \n",
       "    </tr>    <tr> \n",
       "        <th id=\"T_b88c5376_64f4_11e8_a209_d46d6d337b28level0_row2\" class=\"row_heading level0 row2\" >Doc2</th> \n",
       "        <td id=\"T_b88c5376_64f4_11e8_a209_d46d6d337b28row2_col0\" class=\"data row2 col0\" >0</td> \n",
       "        <td id=\"T_b88c5376_64f4_11e8_a209_d46d6d337b28row2_col1\" class=\"data row2 col1\" >0</td> \n",
       "        <td id=\"T_b88c5376_64f4_11e8_a209_d46d6d337b28row2_col2\" class=\"data row2 col2\" >0.8</td> \n",
       "        <td id=\"T_b88c5376_64f4_11e8_a209_d46d6d337b28row2_col3\" class=\"data row2 col3\" >0</td> \n",
       "        <td id=\"T_b88c5376_64f4_11e8_a209_d46d6d337b28row2_col4\" class=\"data row2 col4\" >0</td> \n",
       "        <td id=\"T_b88c5376_64f4_11e8_a209_d46d6d337b28row2_col5\" class=\"data row2 col5\" >0.08</td> \n",
       "        <td id=\"T_b88c5376_64f4_11e8_a209_d46d6d337b28row2_col6\" class=\"data row2 col6\" >0</td> \n",
       "        <td id=\"T_b88c5376_64f4_11e8_a209_d46d6d337b28row2_col7\" class=\"data row2 col7\" >0.1</td> \n",
       "        <td id=\"T_b88c5376_64f4_11e8_a209_d46d6d337b28row2_col8\" class=\"data row2 col8\" >0</td> \n",
       "        <td id=\"T_b88c5376_64f4_11e8_a209_d46d6d337b28row2_col9\" class=\"data row2 col9\" >0</td> \n",
       "        <td id=\"T_b88c5376_64f4_11e8_a209_d46d6d337b28row2_col10\" class=\"data row2 col10\" >2</td> \n",
       "    </tr>    <tr> \n",
       "        <th id=\"T_b88c5376_64f4_11e8_a209_d46d6d337b28level0_row3\" class=\"row_heading level0 row3\" >Doc3</th> \n",
       "        <td id=\"T_b88c5376_64f4_11e8_a209_d46d6d337b28row3_col0\" class=\"data row3 col0\" >0</td> \n",
       "        <td id=\"T_b88c5376_64f4_11e8_a209_d46d6d337b28row3_col1\" class=\"data row3 col1\" >0</td> \n",
       "        <td id=\"T_b88c5376_64f4_11e8_a209_d46d6d337b28row3_col2\" class=\"data row3 col2\" >0.28</td> \n",
       "        <td id=\"T_b88c5376_64f4_11e8_a209_d46d6d337b28row3_col3\" class=\"data row3 col3\" >0</td> \n",
       "        <td id=\"T_b88c5376_64f4_11e8_a209_d46d6d337b28row3_col4\" class=\"data row3 col4\" >0</td> \n",
       "        <td id=\"T_b88c5376_64f4_11e8_a209_d46d6d337b28row3_col5\" class=\"data row3 col5\" >0</td> \n",
       "        <td id=\"T_b88c5376_64f4_11e8_a209_d46d6d337b28row3_col6\" class=\"data row3 col6\" >0</td> \n",
       "        <td id=\"T_b88c5376_64f4_11e8_a209_d46d6d337b28row3_col7\" class=\"data row3 col7\" >0</td> \n",
       "        <td id=\"T_b88c5376_64f4_11e8_a209_d46d6d337b28row3_col8\" class=\"data row3 col8\" >0</td> \n",
       "        <td id=\"T_b88c5376_64f4_11e8_a209_d46d6d337b28row3_col9\" class=\"data row3 col9\" >0.71</td> \n",
       "        <td id=\"T_b88c5376_64f4_11e8_a209_d46d6d337b28row3_col10\" class=\"data row3 col10\" >9</td> \n",
       "    </tr>    <tr> \n",
       "        <th id=\"T_b88c5376_64f4_11e8_a209_d46d6d337b28level0_row4\" class=\"row_heading level0 row4\" >Doc4</th> \n",
       "        <td id=\"T_b88c5376_64f4_11e8_a209_d46d6d337b28row4_col0\" class=\"data row4 col0\" >0</td> \n",
       "        <td id=\"T_b88c5376_64f4_11e8_a209_d46d6d337b28row4_col1\" class=\"data row4 col1\" >0</td> \n",
       "        <td id=\"T_b88c5376_64f4_11e8_a209_d46d6d337b28row4_col2\" class=\"data row4 col2\" >0.93</td> \n",
       "        <td id=\"T_b88c5376_64f4_11e8_a209_d46d6d337b28row4_col3\" class=\"data row4 col3\" >0</td> \n",
       "        <td id=\"T_b88c5376_64f4_11e8_a209_d46d6d337b28row4_col4\" class=\"data row4 col4\" >0</td> \n",
       "        <td id=\"T_b88c5376_64f4_11e8_a209_d46d6d337b28row4_col5\" class=\"data row4 col5\" >0</td> \n",
       "        <td id=\"T_b88c5376_64f4_11e8_a209_d46d6d337b28row4_col6\" class=\"data row4 col6\" >0</td> \n",
       "        <td id=\"T_b88c5376_64f4_11e8_a209_d46d6d337b28row4_col7\" class=\"data row4 col7\" >0</td> \n",
       "        <td id=\"T_b88c5376_64f4_11e8_a209_d46d6d337b28row4_col8\" class=\"data row4 col8\" >0</td> \n",
       "        <td id=\"T_b88c5376_64f4_11e8_a209_d46d6d337b28row4_col9\" class=\"data row4 col9\" >0.05</td> \n",
       "        <td id=\"T_b88c5376_64f4_11e8_a209_d46d6d337b28row4_col10\" class=\"data row4 col10\" >2</td> \n",
       "    </tr>    <tr> \n",
       "        <th id=\"T_b88c5376_64f4_11e8_a209_d46d6d337b28level0_row5\" class=\"row_heading level0 row5\" >Doc5</th> \n",
       "        <td id=\"T_b88c5376_64f4_11e8_a209_d46d6d337b28row5_col0\" class=\"data row5 col0\" >0</td> \n",
       "        <td id=\"T_b88c5376_64f4_11e8_a209_d46d6d337b28row5_col1\" class=\"data row5 col1\" >0</td> \n",
       "        <td id=\"T_b88c5376_64f4_11e8_a209_d46d6d337b28row5_col2\" class=\"data row5 col2\" >0.12</td> \n",
       "        <td id=\"T_b88c5376_64f4_11e8_a209_d46d6d337b28row5_col3\" class=\"data row5 col3\" >0</td> \n",
       "        <td id=\"T_b88c5376_64f4_11e8_a209_d46d6d337b28row5_col4\" class=\"data row5 col4\" >0</td> \n",
       "        <td id=\"T_b88c5376_64f4_11e8_a209_d46d6d337b28row5_col5\" class=\"data row5 col5\" >0.17</td> \n",
       "        <td id=\"T_b88c5376_64f4_11e8_a209_d46d6d337b28row5_col6\" class=\"data row5 col6\" >0</td> \n",
       "        <td id=\"T_b88c5376_64f4_11e8_a209_d46d6d337b28row5_col7\" class=\"data row5 col7\" >0.71</td> \n",
       "        <td id=\"T_b88c5376_64f4_11e8_a209_d46d6d337b28row5_col8\" class=\"data row5 col8\" >0</td> \n",
       "        <td id=\"T_b88c5376_64f4_11e8_a209_d46d6d337b28row5_col9\" class=\"data row5 col9\" >0</td> \n",
       "        <td id=\"T_b88c5376_64f4_11e8_a209_d46d6d337b28row5_col10\" class=\"data row5 col10\" >7</td> \n",
       "    </tr>    <tr> \n",
       "        <th id=\"T_b88c5376_64f4_11e8_a209_d46d6d337b28level0_row6\" class=\"row_heading level0 row6\" >Doc6</th> \n",
       "        <td id=\"T_b88c5376_64f4_11e8_a209_d46d6d337b28row6_col0\" class=\"data row6 col0\" >0</td> \n",
       "        <td id=\"T_b88c5376_64f4_11e8_a209_d46d6d337b28row6_col1\" class=\"data row6 col1\" >0</td> \n",
       "        <td id=\"T_b88c5376_64f4_11e8_a209_d46d6d337b28row6_col2\" class=\"data row6 col2\" >0.79</td> \n",
       "        <td id=\"T_b88c5376_64f4_11e8_a209_d46d6d337b28row6_col3\" class=\"data row6 col3\" >0</td> \n",
       "        <td id=\"T_b88c5376_64f4_11e8_a209_d46d6d337b28row6_col4\" class=\"data row6 col4\" >0</td> \n",
       "        <td id=\"T_b88c5376_64f4_11e8_a209_d46d6d337b28row6_col5\" class=\"data row6 col5\" >0.07</td> \n",
       "        <td id=\"T_b88c5376_64f4_11e8_a209_d46d6d337b28row6_col6\" class=\"data row6 col6\" >0</td> \n",
       "        <td id=\"T_b88c5376_64f4_11e8_a209_d46d6d337b28row6_col7\" class=\"data row6 col7\" >0.07</td> \n",
       "        <td id=\"T_b88c5376_64f4_11e8_a209_d46d6d337b28row6_col8\" class=\"data row6 col8\" >0</td> \n",
       "        <td id=\"T_b88c5376_64f4_11e8_a209_d46d6d337b28row6_col9\" class=\"data row6 col9\" >0.05</td> \n",
       "        <td id=\"T_b88c5376_64f4_11e8_a209_d46d6d337b28row6_col10\" class=\"data row6 col10\" >2</td> \n",
       "    </tr>    <tr> \n",
       "        <th id=\"T_b88c5376_64f4_11e8_a209_d46d6d337b28level0_row7\" class=\"row_heading level0 row7\" >Doc7</th> \n",
       "        <td id=\"T_b88c5376_64f4_11e8_a209_d46d6d337b28row7_col0\" class=\"data row7 col0\" >0</td> \n",
       "        <td id=\"T_b88c5376_64f4_11e8_a209_d46d6d337b28row7_col1\" class=\"data row7 col1\" >0</td> \n",
       "        <td id=\"T_b88c5376_64f4_11e8_a209_d46d6d337b28row7_col2\" class=\"data row7 col2\" >0.31</td> \n",
       "        <td id=\"T_b88c5376_64f4_11e8_a209_d46d6d337b28row7_col3\" class=\"data row7 col3\" >0</td> \n",
       "        <td id=\"T_b88c5376_64f4_11e8_a209_d46d6d337b28row7_col4\" class=\"data row7 col4\" >0.02</td> \n",
       "        <td id=\"T_b88c5376_64f4_11e8_a209_d46d6d337b28row7_col5\" class=\"data row7 col5\" >0</td> \n",
       "        <td id=\"T_b88c5376_64f4_11e8_a209_d46d6d337b28row7_col6\" class=\"data row7 col6\" >0</td> \n",
       "        <td id=\"T_b88c5376_64f4_11e8_a209_d46d6d337b28row7_col7\" class=\"data row7 col7\" >0.18</td> \n",
       "        <td id=\"T_b88c5376_64f4_11e8_a209_d46d6d337b28row7_col8\" class=\"data row7 col8\" >0</td> \n",
       "        <td id=\"T_b88c5376_64f4_11e8_a209_d46d6d337b28row7_col9\" class=\"data row7 col9\" >0.48</td> \n",
       "        <td id=\"T_b88c5376_64f4_11e8_a209_d46d6d337b28row7_col10\" class=\"data row7 col10\" >9</td> \n",
       "    </tr>    <tr> \n",
       "        <th id=\"T_b88c5376_64f4_11e8_a209_d46d6d337b28level0_row8\" class=\"row_heading level0 row8\" >Doc8</th> \n",
       "        <td id=\"T_b88c5376_64f4_11e8_a209_d46d6d337b28row8_col0\" class=\"data row8 col0\" >0.2</td> \n",
       "        <td id=\"T_b88c5376_64f4_11e8_a209_d46d6d337b28row8_col1\" class=\"data row8 col1\" >0.03</td> \n",
       "        <td id=\"T_b88c5376_64f4_11e8_a209_d46d6d337b28row8_col2\" class=\"data row8 col2\" >0</td> \n",
       "        <td id=\"T_b88c5376_64f4_11e8_a209_d46d6d337b28row8_col3\" class=\"data row8 col3\" >0</td> \n",
       "        <td id=\"T_b88c5376_64f4_11e8_a209_d46d6d337b28row8_col4\" class=\"data row8 col4\" >0</td> \n",
       "        <td id=\"T_b88c5376_64f4_11e8_a209_d46d6d337b28row8_col5\" class=\"data row8 col5\" >0.07</td> \n",
       "        <td id=\"T_b88c5376_64f4_11e8_a209_d46d6d337b28row8_col6\" class=\"data row8 col6\" >0.19</td> \n",
       "        <td id=\"T_b88c5376_64f4_11e8_a209_d46d6d337b28row8_col7\" class=\"data row8 col7\" >0.15</td> \n",
       "        <td id=\"T_b88c5376_64f4_11e8_a209_d46d6d337b28row8_col8\" class=\"data row8 col8\" >0.35</td> \n",
       "        <td id=\"T_b88c5376_64f4_11e8_a209_d46d6d337b28row8_col9\" class=\"data row8 col9\" >0</td> \n",
       "        <td id=\"T_b88c5376_64f4_11e8_a209_d46d6d337b28row8_col10\" class=\"data row8 col10\" >8</td> \n",
       "    </tr>    <tr> \n",
       "        <th id=\"T_b88c5376_64f4_11e8_a209_d46d6d337b28level0_row9\" class=\"row_heading level0 row9\" >Doc9</th> \n",
       "        <td id=\"T_b88c5376_64f4_11e8_a209_d46d6d337b28row9_col0\" class=\"data row9 col0\" >0.02</td> \n",
       "        <td id=\"T_b88c5376_64f4_11e8_a209_d46d6d337b28row9_col1\" class=\"data row9 col1\" >0</td> \n",
       "        <td id=\"T_b88c5376_64f4_11e8_a209_d46d6d337b28row9_col2\" class=\"data row9 col2\" >0</td> \n",
       "        <td id=\"T_b88c5376_64f4_11e8_a209_d46d6d337b28row9_col3\" class=\"data row9 col3\" >0</td> \n",
       "        <td id=\"T_b88c5376_64f4_11e8_a209_d46d6d337b28row9_col4\" class=\"data row9 col4\" >0</td> \n",
       "        <td id=\"T_b88c5376_64f4_11e8_a209_d46d6d337b28row9_col5\" class=\"data row9 col5\" >0</td> \n",
       "        <td id=\"T_b88c5376_64f4_11e8_a209_d46d6d337b28row9_col6\" class=\"data row9 col6\" >0</td> \n",
       "        <td id=\"T_b88c5376_64f4_11e8_a209_d46d6d337b28row9_col7\" class=\"data row9 col7\" >0.6</td> \n",
       "        <td id=\"T_b88c5376_64f4_11e8_a209_d46d6d337b28row9_col8\" class=\"data row9 col8\" >0.37</td> \n",
       "        <td id=\"T_b88c5376_64f4_11e8_a209_d46d6d337b28row9_col9\" class=\"data row9 col9\" >0</td> \n",
       "        <td id=\"T_b88c5376_64f4_11e8_a209_d46d6d337b28row9_col10\" class=\"data row9 col10\" >7</td> \n",
       "    </tr>    <tr> \n",
       "        <th id=\"T_b88c5376_64f4_11e8_a209_d46d6d337b28level0_row10\" class=\"row_heading level0 row10\" >Doc10</th> \n",
       "        <td id=\"T_b88c5376_64f4_11e8_a209_d46d6d337b28row10_col0\" class=\"data row10 col0\" >0.04</td> \n",
       "        <td id=\"T_b88c5376_64f4_11e8_a209_d46d6d337b28row10_col1\" class=\"data row10 col1\" >0.22</td> \n",
       "        <td id=\"T_b88c5376_64f4_11e8_a209_d46d6d337b28row10_col2\" class=\"data row10 col2\" >0.14</td> \n",
       "        <td id=\"T_b88c5376_64f4_11e8_a209_d46d6d337b28row10_col3\" class=\"data row10 col3\" >0.1</td> \n",
       "        <td id=\"T_b88c5376_64f4_11e8_a209_d46d6d337b28row10_col4\" class=\"data row10 col4\" >0</td> \n",
       "        <td id=\"T_b88c5376_64f4_11e8_a209_d46d6d337b28row10_col5\" class=\"data row10 col5\" >0.12</td> \n",
       "        <td id=\"T_b88c5376_64f4_11e8_a209_d46d6d337b28row10_col6\" class=\"data row10 col6\" >0</td> \n",
       "        <td id=\"T_b88c5376_64f4_11e8_a209_d46d6d337b28row10_col7\" class=\"data row10 col7\" >0.28</td> \n",
       "        <td id=\"T_b88c5376_64f4_11e8_a209_d46d6d337b28row10_col8\" class=\"data row10 col8\" >0</td> \n",
       "        <td id=\"T_b88c5376_64f4_11e8_a209_d46d6d337b28row10_col9\" class=\"data row10 col9\" >0.08</td> \n",
       "        <td id=\"T_b88c5376_64f4_11e8_a209_d46d6d337b28row10_col10\" class=\"data row10 col10\" >7</td> \n",
       "    </tr>    <tr> \n",
       "        <th id=\"T_b88c5376_64f4_11e8_a209_d46d6d337b28level0_row11\" class=\"row_heading level0 row11\" >Doc11</th> \n",
       "        <td id=\"T_b88c5376_64f4_11e8_a209_d46d6d337b28row11_col0\" class=\"data row11 col0\" >0</td> \n",
       "        <td id=\"T_b88c5376_64f4_11e8_a209_d46d6d337b28row11_col1\" class=\"data row11 col1\" >0.14</td> \n",
       "        <td id=\"T_b88c5376_64f4_11e8_a209_d46d6d337b28row11_col2\" class=\"data row11 col2\" >0</td> \n",
       "        <td id=\"T_b88c5376_64f4_11e8_a209_d46d6d337b28row11_col3\" class=\"data row11 col3\" >0</td> \n",
       "        <td id=\"T_b88c5376_64f4_11e8_a209_d46d6d337b28row11_col4\" class=\"data row11 col4\" >0.79</td> \n",
       "        <td id=\"T_b88c5376_64f4_11e8_a209_d46d6d337b28row11_col5\" class=\"data row11 col5\" >0</td> \n",
       "        <td id=\"T_b88c5376_64f4_11e8_a209_d46d6d337b28row11_col6\" class=\"data row11 col6\" >0</td> \n",
       "        <td id=\"T_b88c5376_64f4_11e8_a209_d46d6d337b28row11_col7\" class=\"data row11 col7\" >0</td> \n",
       "        <td id=\"T_b88c5376_64f4_11e8_a209_d46d6d337b28row11_col8\" class=\"data row11 col8\" >0</td> \n",
       "        <td id=\"T_b88c5376_64f4_11e8_a209_d46d6d337b28row11_col9\" class=\"data row11 col9\" >0.05</td> \n",
       "        <td id=\"T_b88c5376_64f4_11e8_a209_d46d6d337b28row11_col10\" class=\"data row11 col10\" >4</td> \n",
       "    </tr>    <tr> \n",
       "        <th id=\"T_b88c5376_64f4_11e8_a209_d46d6d337b28level0_row12\" class=\"row_heading level0 row12\" >Doc12</th> \n",
       "        <td id=\"T_b88c5376_64f4_11e8_a209_d46d6d337b28row12_col0\" class=\"data row12 col0\" >0</td> \n",
       "        <td id=\"T_b88c5376_64f4_11e8_a209_d46d6d337b28row12_col1\" class=\"data row12 col1\" >0</td> \n",
       "        <td id=\"T_b88c5376_64f4_11e8_a209_d46d6d337b28row12_col2\" class=\"data row12 col2\" >0.18</td> \n",
       "        <td id=\"T_b88c5376_64f4_11e8_a209_d46d6d337b28row12_col3\" class=\"data row12 col3\" >0</td> \n",
       "        <td id=\"T_b88c5376_64f4_11e8_a209_d46d6d337b28row12_col4\" class=\"data row12 col4\" >0.05</td> \n",
       "        <td id=\"T_b88c5376_64f4_11e8_a209_d46d6d337b28row12_col5\" class=\"data row12 col5\" >0.3</td> \n",
       "        <td id=\"T_b88c5376_64f4_11e8_a209_d46d6d337b28row12_col6\" class=\"data row12 col6\" >0.25</td> \n",
       "        <td id=\"T_b88c5376_64f4_11e8_a209_d46d6d337b28row12_col7\" class=\"data row12 col7\" >0.22</td> \n",
       "        <td id=\"T_b88c5376_64f4_11e8_a209_d46d6d337b28row12_col8\" class=\"data row12 col8\" >0</td> \n",
       "        <td id=\"T_b88c5376_64f4_11e8_a209_d46d6d337b28row12_col9\" class=\"data row12 col9\" >0</td> \n",
       "        <td id=\"T_b88c5376_64f4_11e8_a209_d46d6d337b28row12_col10\" class=\"data row12 col10\" >5</td> \n",
       "    </tr>    <tr> \n",
       "        <th id=\"T_b88c5376_64f4_11e8_a209_d46d6d337b28level0_row13\" class=\"row_heading level0 row13\" >Doc13</th> \n",
       "        <td id=\"T_b88c5376_64f4_11e8_a209_d46d6d337b28row13_col0\" class=\"data row13 col0\" >0</td> \n",
       "        <td id=\"T_b88c5376_64f4_11e8_a209_d46d6d337b28row13_col1\" class=\"data row13 col1\" >0</td> \n",
       "        <td id=\"T_b88c5376_64f4_11e8_a209_d46d6d337b28row13_col2\" class=\"data row13 col2\" >0.38</td> \n",
       "        <td id=\"T_b88c5376_64f4_11e8_a209_d46d6d337b28row13_col3\" class=\"data row13 col3\" >0</td> \n",
       "        <td id=\"T_b88c5376_64f4_11e8_a209_d46d6d337b28row13_col4\" class=\"data row13 col4\" >0.3</td> \n",
       "        <td id=\"T_b88c5376_64f4_11e8_a209_d46d6d337b28row13_col5\" class=\"data row13 col5\" >0</td> \n",
       "        <td id=\"T_b88c5376_64f4_11e8_a209_d46d6d337b28row13_col6\" class=\"data row13 col6\" >0</td> \n",
       "        <td id=\"T_b88c5376_64f4_11e8_a209_d46d6d337b28row13_col7\" class=\"data row13 col7\" >0.31</td> \n",
       "        <td id=\"T_b88c5376_64f4_11e8_a209_d46d6d337b28row13_col8\" class=\"data row13 col8\" >0</td> \n",
       "        <td id=\"T_b88c5376_64f4_11e8_a209_d46d6d337b28row13_col9\" class=\"data row13 col9\" >0</td> \n",
       "        <td id=\"T_b88c5376_64f4_11e8_a209_d46d6d337b28row13_col10\" class=\"data row13 col10\" >2</td> \n",
       "    </tr>    <tr> \n",
       "        <th id=\"T_b88c5376_64f4_11e8_a209_d46d6d337b28level0_row14\" class=\"row_heading level0 row14\" >Doc14</th> \n",
       "        <td id=\"T_b88c5376_64f4_11e8_a209_d46d6d337b28row14_col0\" class=\"data row14 col0\" >0</td> \n",
       "        <td id=\"T_b88c5376_64f4_11e8_a209_d46d6d337b28row14_col1\" class=\"data row14 col1\" >0.33</td> \n",
       "        <td id=\"T_b88c5376_64f4_11e8_a209_d46d6d337b28row14_col2\" class=\"data row14 col2\" >0</td> \n",
       "        <td id=\"T_b88c5376_64f4_11e8_a209_d46d6d337b28row14_col3\" class=\"data row14 col3\" >0</td> \n",
       "        <td id=\"T_b88c5376_64f4_11e8_a209_d46d6d337b28row14_col4\" class=\"data row14 col4\" >0</td> \n",
       "        <td id=\"T_b88c5376_64f4_11e8_a209_d46d6d337b28row14_col5\" class=\"data row14 col5\" >0.43</td> \n",
       "        <td id=\"T_b88c5376_64f4_11e8_a209_d46d6d337b28row14_col6\" class=\"data row14 col6\" >0</td> \n",
       "        <td id=\"T_b88c5376_64f4_11e8_a209_d46d6d337b28row14_col7\" class=\"data row14 col7\" >0.16</td> \n",
       "        <td id=\"T_b88c5376_64f4_11e8_a209_d46d6d337b28row14_col8\" class=\"data row14 col8\" >0</td> \n",
       "        <td id=\"T_b88c5376_64f4_11e8_a209_d46d6d337b28row14_col9\" class=\"data row14 col9\" >0.08</td> \n",
       "        <td id=\"T_b88c5376_64f4_11e8_a209_d46d6d337b28row14_col10\" class=\"data row14 col10\" >5</td> \n",
       "    </tr></tbody> \n",
       "</table> "
      ],
      "text/plain": [
       "<style  type=\"text/css\" >\n",
       "    #T_b88c5376_64f4_11e8_a209_d46d6d337b28row0_col0 {\n",
       "            color:  black;\n",
       "            font-weight:  400;\n",
       "        }    #T_b88c5376_64f4_11e8_a209_d46d6d337b28row0_col1 {\n",
       "            color:  black;\n",
       "            font-weight:  400;\n",
       "        }    #T_b88c5376_64f4_11e8_a209_d46d6d337b28row0_col2 {\n",
       "            color:  black;\n",
       "            font-weight:  400;\n",
       "        }    #T_b88c5376_64f4_11e8_a209_d46d6d337b28row0_col3 {\n",
       "            color:  black;\n",
       "            font-weight:  400;\n",
       "        }    #T_b88c5376_64f4_11e8_a209_d46d6d337b28row0_col4 {\n",
       "            color:  black;\n",
       "            font-weight:  400;\n",
       "        }    #T_b88c5376_64f4_11e8_a209_d46d6d337b28row0_col5 {\n",
       "            color:  green;\n",
       "            font-weight:  700;\n",
       "        }    #T_b88c5376_64f4_11e8_a209_d46d6d337b28row0_col6 {\n",
       "            color:  black;\n",
       "            font-weight:  400;\n",
       "        }    #T_b88c5376_64f4_11e8_a209_d46d6d337b28row0_col7 {\n",
       "            color:  green;\n",
       "            font-weight:  700;\n",
       "        }    #T_b88c5376_64f4_11e8_a209_d46d6d337b28row0_col8 {\n",
       "            color:  black;\n",
       "            font-weight:  400;\n",
       "        }    #T_b88c5376_64f4_11e8_a209_d46d6d337b28row0_col9 {\n",
       "            color:  black;\n",
       "            font-weight:  400;\n",
       "        }    #T_b88c5376_64f4_11e8_a209_d46d6d337b28row0_col10 {\n",
       "            color:  green;\n",
       "            font-weight:  700;\n",
       "        }    #T_b88c5376_64f4_11e8_a209_d46d6d337b28row1_col0 {\n",
       "            color:  black;\n",
       "            font-weight:  400;\n",
       "        }    #T_b88c5376_64f4_11e8_a209_d46d6d337b28row1_col1 {\n",
       "            color:  black;\n",
       "            font-weight:  400;\n",
       "        }    #T_b88c5376_64f4_11e8_a209_d46d6d337b28row1_col2 {\n",
       "            color:  green;\n",
       "            font-weight:  700;\n",
       "        }    #T_b88c5376_64f4_11e8_a209_d46d6d337b28row1_col3 {\n",
       "            color:  green;\n",
       "            font-weight:  700;\n",
       "        }    #T_b88c5376_64f4_11e8_a209_d46d6d337b28row1_col4 {\n",
       "            color:  black;\n",
       "            font-weight:  400;\n",
       "        }    #T_b88c5376_64f4_11e8_a209_d46d6d337b28row1_col5 {\n",
       "            color:  black;\n",
       "            font-weight:  400;\n",
       "        }    #T_b88c5376_64f4_11e8_a209_d46d6d337b28row1_col6 {\n",
       "            color:  black;\n",
       "            font-weight:  400;\n",
       "        }    #T_b88c5376_64f4_11e8_a209_d46d6d337b28row1_col7 {\n",
       "            color:  black;\n",
       "            font-weight:  400;\n",
       "        }    #T_b88c5376_64f4_11e8_a209_d46d6d337b28row1_col8 {\n",
       "            color:  black;\n",
       "            font-weight:  400;\n",
       "        }    #T_b88c5376_64f4_11e8_a209_d46d6d337b28row1_col9 {\n",
       "            color:  black;\n",
       "            font-weight:  400;\n",
       "        }    #T_b88c5376_64f4_11e8_a209_d46d6d337b28row1_col10 {\n",
       "            color:  green;\n",
       "            font-weight:  700;\n",
       "        }    #T_b88c5376_64f4_11e8_a209_d46d6d337b28row2_col0 {\n",
       "            color:  black;\n",
       "            font-weight:  400;\n",
       "        }    #T_b88c5376_64f4_11e8_a209_d46d6d337b28row2_col1 {\n",
       "            color:  black;\n",
       "            font-weight:  400;\n",
       "        }    #T_b88c5376_64f4_11e8_a209_d46d6d337b28row2_col2 {\n",
       "            color:  green;\n",
       "            font-weight:  700;\n",
       "        }    #T_b88c5376_64f4_11e8_a209_d46d6d337b28row2_col3 {\n",
       "            color:  black;\n",
       "            font-weight:  400;\n",
       "        }    #T_b88c5376_64f4_11e8_a209_d46d6d337b28row2_col4 {\n",
       "            color:  black;\n",
       "            font-weight:  400;\n",
       "        }    #T_b88c5376_64f4_11e8_a209_d46d6d337b28row2_col5 {\n",
       "            color:  black;\n",
       "            font-weight:  400;\n",
       "        }    #T_b88c5376_64f4_11e8_a209_d46d6d337b28row2_col6 {\n",
       "            color:  black;\n",
       "            font-weight:  400;\n",
       "        }    #T_b88c5376_64f4_11e8_a209_d46d6d337b28row2_col7 {\n",
       "            color:  black;\n",
       "            font-weight:  400;\n",
       "        }    #T_b88c5376_64f4_11e8_a209_d46d6d337b28row2_col8 {\n",
       "            color:  black;\n",
       "            font-weight:  400;\n",
       "        }    #T_b88c5376_64f4_11e8_a209_d46d6d337b28row2_col9 {\n",
       "            color:  black;\n",
       "            font-weight:  400;\n",
       "        }    #T_b88c5376_64f4_11e8_a209_d46d6d337b28row2_col10 {\n",
       "            color:  green;\n",
       "            font-weight:  700;\n",
       "        }    #T_b88c5376_64f4_11e8_a209_d46d6d337b28row3_col0 {\n",
       "            color:  black;\n",
       "            font-weight:  400;\n",
       "        }    #T_b88c5376_64f4_11e8_a209_d46d6d337b28row3_col1 {\n",
       "            color:  black;\n",
       "            font-weight:  400;\n",
       "        }    #T_b88c5376_64f4_11e8_a209_d46d6d337b28row3_col2 {\n",
       "            color:  green;\n",
       "            font-weight:  700;\n",
       "        }    #T_b88c5376_64f4_11e8_a209_d46d6d337b28row3_col3 {\n",
       "            color:  black;\n",
       "            font-weight:  400;\n",
       "        }    #T_b88c5376_64f4_11e8_a209_d46d6d337b28row3_col4 {\n",
       "            color:  black;\n",
       "            font-weight:  400;\n",
       "        }    #T_b88c5376_64f4_11e8_a209_d46d6d337b28row3_col5 {\n",
       "            color:  black;\n",
       "            font-weight:  400;\n",
       "        }    #T_b88c5376_64f4_11e8_a209_d46d6d337b28row3_col6 {\n",
       "            color:  black;\n",
       "            font-weight:  400;\n",
       "        }    #T_b88c5376_64f4_11e8_a209_d46d6d337b28row3_col7 {\n",
       "            color:  black;\n",
       "            font-weight:  400;\n",
       "        }    #T_b88c5376_64f4_11e8_a209_d46d6d337b28row3_col8 {\n",
       "            color:  black;\n",
       "            font-weight:  400;\n",
       "        }    #T_b88c5376_64f4_11e8_a209_d46d6d337b28row3_col9 {\n",
       "            color:  green;\n",
       "            font-weight:  700;\n",
       "        }    #T_b88c5376_64f4_11e8_a209_d46d6d337b28row3_col10 {\n",
       "            color:  green;\n",
       "            font-weight:  700;\n",
       "        }    #T_b88c5376_64f4_11e8_a209_d46d6d337b28row4_col0 {\n",
       "            color:  black;\n",
       "            font-weight:  400;\n",
       "        }    #T_b88c5376_64f4_11e8_a209_d46d6d337b28row4_col1 {\n",
       "            color:  black;\n",
       "            font-weight:  400;\n",
       "        }    #T_b88c5376_64f4_11e8_a209_d46d6d337b28row4_col2 {\n",
       "            color:  green;\n",
       "            font-weight:  700;\n",
       "        }    #T_b88c5376_64f4_11e8_a209_d46d6d337b28row4_col3 {\n",
       "            color:  black;\n",
       "            font-weight:  400;\n",
       "        }    #T_b88c5376_64f4_11e8_a209_d46d6d337b28row4_col4 {\n",
       "            color:  black;\n",
       "            font-weight:  400;\n",
       "        }    #T_b88c5376_64f4_11e8_a209_d46d6d337b28row4_col5 {\n",
       "            color:  black;\n",
       "            font-weight:  400;\n",
       "        }    #T_b88c5376_64f4_11e8_a209_d46d6d337b28row4_col6 {\n",
       "            color:  black;\n",
       "            font-weight:  400;\n",
       "        }    #T_b88c5376_64f4_11e8_a209_d46d6d337b28row4_col7 {\n",
       "            color:  black;\n",
       "            font-weight:  400;\n",
       "        }    #T_b88c5376_64f4_11e8_a209_d46d6d337b28row4_col8 {\n",
       "            color:  black;\n",
       "            font-weight:  400;\n",
       "        }    #T_b88c5376_64f4_11e8_a209_d46d6d337b28row4_col9 {\n",
       "            color:  black;\n",
       "            font-weight:  400;\n",
       "        }    #T_b88c5376_64f4_11e8_a209_d46d6d337b28row4_col10 {\n",
       "            color:  green;\n",
       "            font-weight:  700;\n",
       "        }    #T_b88c5376_64f4_11e8_a209_d46d6d337b28row5_col0 {\n",
       "            color:  black;\n",
       "            font-weight:  400;\n",
       "        }    #T_b88c5376_64f4_11e8_a209_d46d6d337b28row5_col1 {\n",
       "            color:  black;\n",
       "            font-weight:  400;\n",
       "        }    #T_b88c5376_64f4_11e8_a209_d46d6d337b28row5_col2 {\n",
       "            color:  green;\n",
       "            font-weight:  700;\n",
       "        }    #T_b88c5376_64f4_11e8_a209_d46d6d337b28row5_col3 {\n",
       "            color:  black;\n",
       "            font-weight:  400;\n",
       "        }    #T_b88c5376_64f4_11e8_a209_d46d6d337b28row5_col4 {\n",
       "            color:  black;\n",
       "            font-weight:  400;\n",
       "        }    #T_b88c5376_64f4_11e8_a209_d46d6d337b28row5_col5 {\n",
       "            color:  green;\n",
       "            font-weight:  700;\n",
       "        }    #T_b88c5376_64f4_11e8_a209_d46d6d337b28row5_col6 {\n",
       "            color:  black;\n",
       "            font-weight:  400;\n",
       "        }    #T_b88c5376_64f4_11e8_a209_d46d6d337b28row5_col7 {\n",
       "            color:  green;\n",
       "            font-weight:  700;\n",
       "        }    #T_b88c5376_64f4_11e8_a209_d46d6d337b28row5_col8 {\n",
       "            color:  black;\n",
       "            font-weight:  400;\n",
       "        }    #T_b88c5376_64f4_11e8_a209_d46d6d337b28row5_col9 {\n",
       "            color:  black;\n",
       "            font-weight:  400;\n",
       "        }    #T_b88c5376_64f4_11e8_a209_d46d6d337b28row5_col10 {\n",
       "            color:  green;\n",
       "            font-weight:  700;\n",
       "        }    #T_b88c5376_64f4_11e8_a209_d46d6d337b28row6_col0 {\n",
       "            color:  black;\n",
       "            font-weight:  400;\n",
       "        }    #T_b88c5376_64f4_11e8_a209_d46d6d337b28row6_col1 {\n",
       "            color:  black;\n",
       "            font-weight:  400;\n",
       "        }    #T_b88c5376_64f4_11e8_a209_d46d6d337b28row6_col2 {\n",
       "            color:  green;\n",
       "            font-weight:  700;\n",
       "        }    #T_b88c5376_64f4_11e8_a209_d46d6d337b28row6_col3 {\n",
       "            color:  black;\n",
       "            font-weight:  400;\n",
       "        }    #T_b88c5376_64f4_11e8_a209_d46d6d337b28row6_col4 {\n",
       "            color:  black;\n",
       "            font-weight:  400;\n",
       "        }    #T_b88c5376_64f4_11e8_a209_d46d6d337b28row6_col5 {\n",
       "            color:  black;\n",
       "            font-weight:  400;\n",
       "        }    #T_b88c5376_64f4_11e8_a209_d46d6d337b28row6_col6 {\n",
       "            color:  black;\n",
       "            font-weight:  400;\n",
       "        }    #T_b88c5376_64f4_11e8_a209_d46d6d337b28row6_col7 {\n",
       "            color:  black;\n",
       "            font-weight:  400;\n",
       "        }    #T_b88c5376_64f4_11e8_a209_d46d6d337b28row6_col8 {\n",
       "            color:  black;\n",
       "            font-weight:  400;\n",
       "        }    #T_b88c5376_64f4_11e8_a209_d46d6d337b28row6_col9 {\n",
       "            color:  black;\n",
       "            font-weight:  400;\n",
       "        }    #T_b88c5376_64f4_11e8_a209_d46d6d337b28row6_col10 {\n",
       "            color:  green;\n",
       "            font-weight:  700;\n",
       "        }    #T_b88c5376_64f4_11e8_a209_d46d6d337b28row7_col0 {\n",
       "            color:  black;\n",
       "            font-weight:  400;\n",
       "        }    #T_b88c5376_64f4_11e8_a209_d46d6d337b28row7_col1 {\n",
       "            color:  black;\n",
       "            font-weight:  400;\n",
       "        }    #T_b88c5376_64f4_11e8_a209_d46d6d337b28row7_col2 {\n",
       "            color:  green;\n",
       "            font-weight:  700;\n",
       "        }    #T_b88c5376_64f4_11e8_a209_d46d6d337b28row7_col3 {\n",
       "            color:  black;\n",
       "            font-weight:  400;\n",
       "        }    #T_b88c5376_64f4_11e8_a209_d46d6d337b28row7_col4 {\n",
       "            color:  black;\n",
       "            font-weight:  400;\n",
       "        }    #T_b88c5376_64f4_11e8_a209_d46d6d337b28row7_col5 {\n",
       "            color:  black;\n",
       "            font-weight:  400;\n",
       "        }    #T_b88c5376_64f4_11e8_a209_d46d6d337b28row7_col6 {\n",
       "            color:  black;\n",
       "            font-weight:  400;\n",
       "        }    #T_b88c5376_64f4_11e8_a209_d46d6d337b28row7_col7 {\n",
       "            color:  green;\n",
       "            font-weight:  700;\n",
       "        }    #T_b88c5376_64f4_11e8_a209_d46d6d337b28row7_col8 {\n",
       "            color:  black;\n",
       "            font-weight:  400;\n",
       "        }    #T_b88c5376_64f4_11e8_a209_d46d6d337b28row7_col9 {\n",
       "            color:  green;\n",
       "            font-weight:  700;\n",
       "        }    #T_b88c5376_64f4_11e8_a209_d46d6d337b28row7_col10 {\n",
       "            color:  green;\n",
       "            font-weight:  700;\n",
       "        }    #T_b88c5376_64f4_11e8_a209_d46d6d337b28row8_col0 {\n",
       "            color:  green;\n",
       "            font-weight:  700;\n",
       "        }    #T_b88c5376_64f4_11e8_a209_d46d6d337b28row8_col1 {\n",
       "            color:  black;\n",
       "            font-weight:  400;\n",
       "        }    #T_b88c5376_64f4_11e8_a209_d46d6d337b28row8_col2 {\n",
       "            color:  black;\n",
       "            font-weight:  400;\n",
       "        }    #T_b88c5376_64f4_11e8_a209_d46d6d337b28row8_col3 {\n",
       "            color:  black;\n",
       "            font-weight:  400;\n",
       "        }    #T_b88c5376_64f4_11e8_a209_d46d6d337b28row8_col4 {\n",
       "            color:  black;\n",
       "            font-weight:  400;\n",
       "        }    #T_b88c5376_64f4_11e8_a209_d46d6d337b28row8_col5 {\n",
       "            color:  black;\n",
       "            font-weight:  400;\n",
       "        }    #T_b88c5376_64f4_11e8_a209_d46d6d337b28row8_col6 {\n",
       "            color:  green;\n",
       "            font-weight:  700;\n",
       "        }    #T_b88c5376_64f4_11e8_a209_d46d6d337b28row8_col7 {\n",
       "            color:  green;\n",
       "            font-weight:  700;\n",
       "        }    #T_b88c5376_64f4_11e8_a209_d46d6d337b28row8_col8 {\n",
       "            color:  green;\n",
       "            font-weight:  700;\n",
       "        }    #T_b88c5376_64f4_11e8_a209_d46d6d337b28row8_col9 {\n",
       "            color:  black;\n",
       "            font-weight:  400;\n",
       "        }    #T_b88c5376_64f4_11e8_a209_d46d6d337b28row8_col10 {\n",
       "            color:  green;\n",
       "            font-weight:  700;\n",
       "        }    #T_b88c5376_64f4_11e8_a209_d46d6d337b28row9_col0 {\n",
       "            color:  black;\n",
       "            font-weight:  400;\n",
       "        }    #T_b88c5376_64f4_11e8_a209_d46d6d337b28row9_col1 {\n",
       "            color:  black;\n",
       "            font-weight:  400;\n",
       "        }    #T_b88c5376_64f4_11e8_a209_d46d6d337b28row9_col2 {\n",
       "            color:  black;\n",
       "            font-weight:  400;\n",
       "        }    #T_b88c5376_64f4_11e8_a209_d46d6d337b28row9_col3 {\n",
       "            color:  black;\n",
       "            font-weight:  400;\n",
       "        }    #T_b88c5376_64f4_11e8_a209_d46d6d337b28row9_col4 {\n",
       "            color:  black;\n",
       "            font-weight:  400;\n",
       "        }    #T_b88c5376_64f4_11e8_a209_d46d6d337b28row9_col5 {\n",
       "            color:  black;\n",
       "            font-weight:  400;\n",
       "        }    #T_b88c5376_64f4_11e8_a209_d46d6d337b28row9_col6 {\n",
       "            color:  black;\n",
       "            font-weight:  400;\n",
       "        }    #T_b88c5376_64f4_11e8_a209_d46d6d337b28row9_col7 {\n",
       "            color:  green;\n",
       "            font-weight:  700;\n",
       "        }    #T_b88c5376_64f4_11e8_a209_d46d6d337b28row9_col8 {\n",
       "            color:  green;\n",
       "            font-weight:  700;\n",
       "        }    #T_b88c5376_64f4_11e8_a209_d46d6d337b28row9_col9 {\n",
       "            color:  black;\n",
       "            font-weight:  400;\n",
       "        }    #T_b88c5376_64f4_11e8_a209_d46d6d337b28row9_col10 {\n",
       "            color:  green;\n",
       "            font-weight:  700;\n",
       "        }    #T_b88c5376_64f4_11e8_a209_d46d6d337b28row10_col0 {\n",
       "            color:  black;\n",
       "            font-weight:  400;\n",
       "        }    #T_b88c5376_64f4_11e8_a209_d46d6d337b28row10_col1 {\n",
       "            color:  green;\n",
       "            font-weight:  700;\n",
       "        }    #T_b88c5376_64f4_11e8_a209_d46d6d337b28row10_col2 {\n",
       "            color:  green;\n",
       "            font-weight:  700;\n",
       "        }    #T_b88c5376_64f4_11e8_a209_d46d6d337b28row10_col3 {\n",
       "            color:  black;\n",
       "            font-weight:  400;\n",
       "        }    #T_b88c5376_64f4_11e8_a209_d46d6d337b28row10_col4 {\n",
       "            color:  black;\n",
       "            font-weight:  400;\n",
       "        }    #T_b88c5376_64f4_11e8_a209_d46d6d337b28row10_col5 {\n",
       "            color:  green;\n",
       "            font-weight:  700;\n",
       "        }    #T_b88c5376_64f4_11e8_a209_d46d6d337b28row10_col6 {\n",
       "            color:  black;\n",
       "            font-weight:  400;\n",
       "        }    #T_b88c5376_64f4_11e8_a209_d46d6d337b28row10_col7 {\n",
       "            color:  green;\n",
       "            font-weight:  700;\n",
       "        }    #T_b88c5376_64f4_11e8_a209_d46d6d337b28row10_col8 {\n",
       "            color:  black;\n",
       "            font-weight:  400;\n",
       "        }    #T_b88c5376_64f4_11e8_a209_d46d6d337b28row10_col9 {\n",
       "            color:  black;\n",
       "            font-weight:  400;\n",
       "        }    #T_b88c5376_64f4_11e8_a209_d46d6d337b28row10_col10 {\n",
       "            color:  green;\n",
       "            font-weight:  700;\n",
       "        }    #T_b88c5376_64f4_11e8_a209_d46d6d337b28row11_col0 {\n",
       "            color:  black;\n",
       "            font-weight:  400;\n",
       "        }    #T_b88c5376_64f4_11e8_a209_d46d6d337b28row11_col1 {\n",
       "            color:  green;\n",
       "            font-weight:  700;\n",
       "        }    #T_b88c5376_64f4_11e8_a209_d46d6d337b28row11_col2 {\n",
       "            color:  black;\n",
       "            font-weight:  400;\n",
       "        }    #T_b88c5376_64f4_11e8_a209_d46d6d337b28row11_col3 {\n",
       "            color:  black;\n",
       "            font-weight:  400;\n",
       "        }    #T_b88c5376_64f4_11e8_a209_d46d6d337b28row11_col4 {\n",
       "            color:  green;\n",
       "            font-weight:  700;\n",
       "        }    #T_b88c5376_64f4_11e8_a209_d46d6d337b28row11_col5 {\n",
       "            color:  black;\n",
       "            font-weight:  400;\n",
       "        }    #T_b88c5376_64f4_11e8_a209_d46d6d337b28row11_col6 {\n",
       "            color:  black;\n",
       "            font-weight:  400;\n",
       "        }    #T_b88c5376_64f4_11e8_a209_d46d6d337b28row11_col7 {\n",
       "            color:  black;\n",
       "            font-weight:  400;\n",
       "        }    #T_b88c5376_64f4_11e8_a209_d46d6d337b28row11_col8 {\n",
       "            color:  black;\n",
       "            font-weight:  400;\n",
       "        }    #T_b88c5376_64f4_11e8_a209_d46d6d337b28row11_col9 {\n",
       "            color:  black;\n",
       "            font-weight:  400;\n",
       "        }    #T_b88c5376_64f4_11e8_a209_d46d6d337b28row11_col10 {\n",
       "            color:  green;\n",
       "            font-weight:  700;\n",
       "        }    #T_b88c5376_64f4_11e8_a209_d46d6d337b28row12_col0 {\n",
       "            color:  black;\n",
       "            font-weight:  400;\n",
       "        }    #T_b88c5376_64f4_11e8_a209_d46d6d337b28row12_col1 {\n",
       "            color:  black;\n",
       "            font-weight:  400;\n",
       "        }    #T_b88c5376_64f4_11e8_a209_d46d6d337b28row12_col2 {\n",
       "            color:  green;\n",
       "            font-weight:  700;\n",
       "        }    #T_b88c5376_64f4_11e8_a209_d46d6d337b28row12_col3 {\n",
       "            color:  black;\n",
       "            font-weight:  400;\n",
       "        }    #T_b88c5376_64f4_11e8_a209_d46d6d337b28row12_col4 {\n",
       "            color:  black;\n",
       "            font-weight:  400;\n",
       "        }    #T_b88c5376_64f4_11e8_a209_d46d6d337b28row12_col5 {\n",
       "            color:  green;\n",
       "            font-weight:  700;\n",
       "        }    #T_b88c5376_64f4_11e8_a209_d46d6d337b28row12_col6 {\n",
       "            color:  green;\n",
       "            font-weight:  700;\n",
       "        }    #T_b88c5376_64f4_11e8_a209_d46d6d337b28row12_col7 {\n",
       "            color:  green;\n",
       "            font-weight:  700;\n",
       "        }    #T_b88c5376_64f4_11e8_a209_d46d6d337b28row12_col8 {\n",
       "            color:  black;\n",
       "            font-weight:  400;\n",
       "        }    #T_b88c5376_64f4_11e8_a209_d46d6d337b28row12_col9 {\n",
       "            color:  black;\n",
       "            font-weight:  400;\n",
       "        }    #T_b88c5376_64f4_11e8_a209_d46d6d337b28row12_col10 {\n",
       "            color:  green;\n",
       "            font-weight:  700;\n",
       "        }    #T_b88c5376_64f4_11e8_a209_d46d6d337b28row13_col0 {\n",
       "            color:  black;\n",
       "            font-weight:  400;\n",
       "        }    #T_b88c5376_64f4_11e8_a209_d46d6d337b28row13_col1 {\n",
       "            color:  black;\n",
       "            font-weight:  400;\n",
       "        }    #T_b88c5376_64f4_11e8_a209_d46d6d337b28row13_col2 {\n",
       "            color:  green;\n",
       "            font-weight:  700;\n",
       "        }    #T_b88c5376_64f4_11e8_a209_d46d6d337b28row13_col3 {\n",
       "            color:  black;\n",
       "            font-weight:  400;\n",
       "        }    #T_b88c5376_64f4_11e8_a209_d46d6d337b28row13_col4 {\n",
       "            color:  green;\n",
       "            font-weight:  700;\n",
       "        }    #T_b88c5376_64f4_11e8_a209_d46d6d337b28row13_col5 {\n",
       "            color:  black;\n",
       "            font-weight:  400;\n",
       "        }    #T_b88c5376_64f4_11e8_a209_d46d6d337b28row13_col6 {\n",
       "            color:  black;\n",
       "            font-weight:  400;\n",
       "        }    #T_b88c5376_64f4_11e8_a209_d46d6d337b28row13_col7 {\n",
       "            color:  green;\n",
       "            font-weight:  700;\n",
       "        }    #T_b88c5376_64f4_11e8_a209_d46d6d337b28row13_col8 {\n",
       "            color:  black;\n",
       "            font-weight:  400;\n",
       "        }    #T_b88c5376_64f4_11e8_a209_d46d6d337b28row13_col9 {\n",
       "            color:  black;\n",
       "            font-weight:  400;\n",
       "        }    #T_b88c5376_64f4_11e8_a209_d46d6d337b28row13_col10 {\n",
       "            color:  green;\n",
       "            font-weight:  700;\n",
       "        }    #T_b88c5376_64f4_11e8_a209_d46d6d337b28row14_col0 {\n",
       "            color:  black;\n",
       "            font-weight:  400;\n",
       "        }    #T_b88c5376_64f4_11e8_a209_d46d6d337b28row14_col1 {\n",
       "            color:  green;\n",
       "            font-weight:  700;\n",
       "        }    #T_b88c5376_64f4_11e8_a209_d46d6d337b28row14_col2 {\n",
       "            color:  black;\n",
       "            font-weight:  400;\n",
       "        }    #T_b88c5376_64f4_11e8_a209_d46d6d337b28row14_col3 {\n",
       "            color:  black;\n",
       "            font-weight:  400;\n",
       "        }    #T_b88c5376_64f4_11e8_a209_d46d6d337b28row14_col4 {\n",
       "            color:  black;\n",
       "            font-weight:  400;\n",
       "        }    #T_b88c5376_64f4_11e8_a209_d46d6d337b28row14_col5 {\n",
       "            color:  green;\n",
       "            font-weight:  700;\n",
       "        }    #T_b88c5376_64f4_11e8_a209_d46d6d337b28row14_col6 {\n",
       "            color:  black;\n",
       "            font-weight:  400;\n",
       "        }    #T_b88c5376_64f4_11e8_a209_d46d6d337b28row14_col7 {\n",
       "            color:  green;\n",
       "            font-weight:  700;\n",
       "        }    #T_b88c5376_64f4_11e8_a209_d46d6d337b28row14_col8 {\n",
       "            color:  black;\n",
       "            font-weight:  400;\n",
       "        }    #T_b88c5376_64f4_11e8_a209_d46d6d337b28row14_col9 {\n",
       "            color:  black;\n",
       "            font-weight:  400;\n",
       "        }    #T_b88c5376_64f4_11e8_a209_d46d6d337b28row14_col10 {\n",
       "            color:  green;\n",
       "            font-weight:  700;\n",
       "        }</style>  \n",
       "<table id=\"T_b88c5376_64f4_11e8_a209_d46d6d337b28\" > \n",
       "<thead>    <tr> \n",
       "        <th class=\"blank level0\" ></th> \n",
       "        <th class=\"col_heading level0 col0\" >Topic0</th> \n",
       "        <th class=\"col_heading level0 col1\" >Topic1</th> \n",
       "        <th class=\"col_heading level0 col2\" >Topic2</th> \n",
       "        <th class=\"col_heading level0 col3\" >Topic3</th> \n",
       "        <th class=\"col_heading level0 col4\" >Topic4</th> \n",
       "        <th class=\"col_heading level0 col5\" >Topic5</th> \n",
       "        <th class=\"col_heading level0 col6\" >Topic6</th> \n",
       "        <th class=\"col_heading level0 col7\" >Topic7</th> \n",
       "        <th class=\"col_heading level0 col8\" >Topic8</th> \n",
       "        <th class=\"col_heading level0 col9\" >Topic9</th> \n",
       "        <th class=\"col_heading level0 col10\" >dominant_topic</th> \n",
       "    </tr></thead> \n",
       "<tbody>    <tr> \n",
       "        <th id=\"T_b88c5376_64f4_11e8_a209_d46d6d337b28level0_row0\" class=\"row_heading level0 row0\" >Doc0</th> \n",
       "        <td id=\"T_b88c5376_64f4_11e8_a209_d46d6d337b28row0_col0\" class=\"data row0 col0\" >0</td> \n",
       "        <td id=\"T_b88c5376_64f4_11e8_a209_d46d6d337b28row0_col1\" class=\"data row0 col1\" >0</td> \n",
       "        <td id=\"T_b88c5376_64f4_11e8_a209_d46d6d337b28row0_col2\" class=\"data row0 col2\" >0.09</td> \n",
       "        <td id=\"T_b88c5376_64f4_11e8_a209_d46d6d337b28row0_col3\" class=\"data row0 col3\" >0</td> \n",
       "        <td id=\"T_b88c5376_64f4_11e8_a209_d46d6d337b28row0_col4\" class=\"data row0 col4\" >0</td> \n",
       "        <td id=\"T_b88c5376_64f4_11e8_a209_d46d6d337b28row0_col5\" class=\"data row0 col5\" >0.16</td> \n",
       "        <td id=\"T_b88c5376_64f4_11e8_a209_d46d6d337b28row0_col6\" class=\"data row0 col6\" >0</td> \n",
       "        <td id=\"T_b88c5376_64f4_11e8_a209_d46d6d337b28row0_col7\" class=\"data row0 col7\" >0.74</td> \n",
       "        <td id=\"T_b88c5376_64f4_11e8_a209_d46d6d337b28row0_col8\" class=\"data row0 col8\" >0</td> \n",
       "        <td id=\"T_b88c5376_64f4_11e8_a209_d46d6d337b28row0_col9\" class=\"data row0 col9\" >0</td> \n",
       "        <td id=\"T_b88c5376_64f4_11e8_a209_d46d6d337b28row0_col10\" class=\"data row0 col10\" >7</td> \n",
       "    </tr>    <tr> \n",
       "        <th id=\"T_b88c5376_64f4_11e8_a209_d46d6d337b28level0_row1\" class=\"row_heading level0 row1\" >Doc1</th> \n",
       "        <td id=\"T_b88c5376_64f4_11e8_a209_d46d6d337b28row1_col0\" class=\"data row1 col0\" >0.02</td> \n",
       "        <td id=\"T_b88c5376_64f4_11e8_a209_d46d6d337b28row1_col1\" class=\"data row1 col1\" >0</td> \n",
       "        <td id=\"T_b88c5376_64f4_11e8_a209_d46d6d337b28row1_col2\" class=\"data row1 col2\" >0.52</td> \n",
       "        <td id=\"T_b88c5376_64f4_11e8_a209_d46d6d337b28row1_col3\" class=\"data row1 col3\" >0.32</td> \n",
       "        <td id=\"T_b88c5376_64f4_11e8_a209_d46d6d337b28row1_col4\" class=\"data row1 col4\" >0</td> \n",
       "        <td id=\"T_b88c5376_64f4_11e8_a209_d46d6d337b28row1_col5\" class=\"data row1 col5\" >0.03</td> \n",
       "        <td id=\"T_b88c5376_64f4_11e8_a209_d46d6d337b28row1_col6\" class=\"data row1 col6\" >0</td> \n",
       "        <td id=\"T_b88c5376_64f4_11e8_a209_d46d6d337b28row1_col7\" class=\"data row1 col7\" >0</td> \n",
       "        <td id=\"T_b88c5376_64f4_11e8_a209_d46d6d337b28row1_col8\" class=\"data row1 col8\" >0</td> \n",
       "        <td id=\"T_b88c5376_64f4_11e8_a209_d46d6d337b28row1_col9\" class=\"data row1 col9\" >0.1</td> \n",
       "        <td id=\"T_b88c5376_64f4_11e8_a209_d46d6d337b28row1_col10\" class=\"data row1 col10\" >2</td> \n",
       "    </tr>    <tr> \n",
       "        <th id=\"T_b88c5376_64f4_11e8_a209_d46d6d337b28level0_row2\" class=\"row_heading level0 row2\" >Doc2</th> \n",
       "        <td id=\"T_b88c5376_64f4_11e8_a209_d46d6d337b28row2_col0\" class=\"data row2 col0\" >0</td> \n",
       "        <td id=\"T_b88c5376_64f4_11e8_a209_d46d6d337b28row2_col1\" class=\"data row2 col1\" >0</td> \n",
       "        <td id=\"T_b88c5376_64f4_11e8_a209_d46d6d337b28row2_col2\" class=\"data row2 col2\" >0.8</td> \n",
       "        <td id=\"T_b88c5376_64f4_11e8_a209_d46d6d337b28row2_col3\" class=\"data row2 col3\" >0</td> \n",
       "        <td id=\"T_b88c5376_64f4_11e8_a209_d46d6d337b28row2_col4\" class=\"data row2 col4\" >0</td> \n",
       "        <td id=\"T_b88c5376_64f4_11e8_a209_d46d6d337b28row2_col5\" class=\"data row2 col5\" >0.08</td> \n",
       "        <td id=\"T_b88c5376_64f4_11e8_a209_d46d6d337b28row2_col6\" class=\"data row2 col6\" >0</td> \n",
       "        <td id=\"T_b88c5376_64f4_11e8_a209_d46d6d337b28row2_col7\" class=\"data row2 col7\" >0.1</td> \n",
       "        <td id=\"T_b88c5376_64f4_11e8_a209_d46d6d337b28row2_col8\" class=\"data row2 col8\" >0</td> \n",
       "        <td id=\"T_b88c5376_64f4_11e8_a209_d46d6d337b28row2_col9\" class=\"data row2 col9\" >0</td> \n",
       "        <td id=\"T_b88c5376_64f4_11e8_a209_d46d6d337b28row2_col10\" class=\"data row2 col10\" >2</td> \n",
       "    </tr>    <tr> \n",
       "        <th id=\"T_b88c5376_64f4_11e8_a209_d46d6d337b28level0_row3\" class=\"row_heading level0 row3\" >Doc3</th> \n",
       "        <td id=\"T_b88c5376_64f4_11e8_a209_d46d6d337b28row3_col0\" class=\"data row3 col0\" >0</td> \n",
       "        <td id=\"T_b88c5376_64f4_11e8_a209_d46d6d337b28row3_col1\" class=\"data row3 col1\" >0</td> \n",
       "        <td id=\"T_b88c5376_64f4_11e8_a209_d46d6d337b28row3_col2\" class=\"data row3 col2\" >0.28</td> \n",
       "        <td id=\"T_b88c5376_64f4_11e8_a209_d46d6d337b28row3_col3\" class=\"data row3 col3\" >0</td> \n",
       "        <td id=\"T_b88c5376_64f4_11e8_a209_d46d6d337b28row3_col4\" class=\"data row3 col4\" >0</td> \n",
       "        <td id=\"T_b88c5376_64f4_11e8_a209_d46d6d337b28row3_col5\" class=\"data row3 col5\" >0</td> \n",
       "        <td id=\"T_b88c5376_64f4_11e8_a209_d46d6d337b28row3_col6\" class=\"data row3 col6\" >0</td> \n",
       "        <td id=\"T_b88c5376_64f4_11e8_a209_d46d6d337b28row3_col7\" class=\"data row3 col7\" >0</td> \n",
       "        <td id=\"T_b88c5376_64f4_11e8_a209_d46d6d337b28row3_col8\" class=\"data row3 col8\" >0</td> \n",
       "        <td id=\"T_b88c5376_64f4_11e8_a209_d46d6d337b28row3_col9\" class=\"data row3 col9\" >0.71</td> \n",
       "        <td id=\"T_b88c5376_64f4_11e8_a209_d46d6d337b28row3_col10\" class=\"data row3 col10\" >9</td> \n",
       "    </tr>    <tr> \n",
       "        <th id=\"T_b88c5376_64f4_11e8_a209_d46d6d337b28level0_row4\" class=\"row_heading level0 row4\" >Doc4</th> \n",
       "        <td id=\"T_b88c5376_64f4_11e8_a209_d46d6d337b28row4_col0\" class=\"data row4 col0\" >0</td> \n",
       "        <td id=\"T_b88c5376_64f4_11e8_a209_d46d6d337b28row4_col1\" class=\"data row4 col1\" >0</td> \n",
       "        <td id=\"T_b88c5376_64f4_11e8_a209_d46d6d337b28row4_col2\" class=\"data row4 col2\" >0.93</td> \n",
       "        <td id=\"T_b88c5376_64f4_11e8_a209_d46d6d337b28row4_col3\" class=\"data row4 col3\" >0</td> \n",
       "        <td id=\"T_b88c5376_64f4_11e8_a209_d46d6d337b28row4_col4\" class=\"data row4 col4\" >0</td> \n",
       "        <td id=\"T_b88c5376_64f4_11e8_a209_d46d6d337b28row4_col5\" class=\"data row4 col5\" >0</td> \n",
       "        <td id=\"T_b88c5376_64f4_11e8_a209_d46d6d337b28row4_col6\" class=\"data row4 col6\" >0</td> \n",
       "        <td id=\"T_b88c5376_64f4_11e8_a209_d46d6d337b28row4_col7\" class=\"data row4 col7\" >0</td> \n",
       "        <td id=\"T_b88c5376_64f4_11e8_a209_d46d6d337b28row4_col8\" class=\"data row4 col8\" >0</td> \n",
       "        <td id=\"T_b88c5376_64f4_11e8_a209_d46d6d337b28row4_col9\" class=\"data row4 col9\" >0.05</td> \n",
       "        <td id=\"T_b88c5376_64f4_11e8_a209_d46d6d337b28row4_col10\" class=\"data row4 col10\" >2</td> \n",
       "    </tr>    <tr> \n",
       "        <th id=\"T_b88c5376_64f4_11e8_a209_d46d6d337b28level0_row5\" class=\"row_heading level0 row5\" >Doc5</th> \n",
       "        <td id=\"T_b88c5376_64f4_11e8_a209_d46d6d337b28row5_col0\" class=\"data row5 col0\" >0</td> \n",
       "        <td id=\"T_b88c5376_64f4_11e8_a209_d46d6d337b28row5_col1\" class=\"data row5 col1\" >0</td> \n",
       "        <td id=\"T_b88c5376_64f4_11e8_a209_d46d6d337b28row5_col2\" class=\"data row5 col2\" >0.12</td> \n",
       "        <td id=\"T_b88c5376_64f4_11e8_a209_d46d6d337b28row5_col3\" class=\"data row5 col3\" >0</td> \n",
       "        <td id=\"T_b88c5376_64f4_11e8_a209_d46d6d337b28row5_col4\" class=\"data row5 col4\" >0</td> \n",
       "        <td id=\"T_b88c5376_64f4_11e8_a209_d46d6d337b28row5_col5\" class=\"data row5 col5\" >0.17</td> \n",
       "        <td id=\"T_b88c5376_64f4_11e8_a209_d46d6d337b28row5_col6\" class=\"data row5 col6\" >0</td> \n",
       "        <td id=\"T_b88c5376_64f4_11e8_a209_d46d6d337b28row5_col7\" class=\"data row5 col7\" >0.71</td> \n",
       "        <td id=\"T_b88c5376_64f4_11e8_a209_d46d6d337b28row5_col8\" class=\"data row5 col8\" >0</td> \n",
       "        <td id=\"T_b88c5376_64f4_11e8_a209_d46d6d337b28row5_col9\" class=\"data row5 col9\" >0</td> \n",
       "        <td id=\"T_b88c5376_64f4_11e8_a209_d46d6d337b28row5_col10\" class=\"data row5 col10\" >7</td> \n",
       "    </tr>    <tr> \n",
       "        <th id=\"T_b88c5376_64f4_11e8_a209_d46d6d337b28level0_row6\" class=\"row_heading level0 row6\" >Doc6</th> \n",
       "        <td id=\"T_b88c5376_64f4_11e8_a209_d46d6d337b28row6_col0\" class=\"data row6 col0\" >0</td> \n",
       "        <td id=\"T_b88c5376_64f4_11e8_a209_d46d6d337b28row6_col1\" class=\"data row6 col1\" >0</td> \n",
       "        <td id=\"T_b88c5376_64f4_11e8_a209_d46d6d337b28row6_col2\" class=\"data row6 col2\" >0.79</td> \n",
       "        <td id=\"T_b88c5376_64f4_11e8_a209_d46d6d337b28row6_col3\" class=\"data row6 col3\" >0</td> \n",
       "        <td id=\"T_b88c5376_64f4_11e8_a209_d46d6d337b28row6_col4\" class=\"data row6 col4\" >0</td> \n",
       "        <td id=\"T_b88c5376_64f4_11e8_a209_d46d6d337b28row6_col5\" class=\"data row6 col5\" >0.07</td> \n",
       "        <td id=\"T_b88c5376_64f4_11e8_a209_d46d6d337b28row6_col6\" class=\"data row6 col6\" >0</td> \n",
       "        <td id=\"T_b88c5376_64f4_11e8_a209_d46d6d337b28row6_col7\" class=\"data row6 col7\" >0.07</td> \n",
       "        <td id=\"T_b88c5376_64f4_11e8_a209_d46d6d337b28row6_col8\" class=\"data row6 col8\" >0</td> \n",
       "        <td id=\"T_b88c5376_64f4_11e8_a209_d46d6d337b28row6_col9\" class=\"data row6 col9\" >0.05</td> \n",
       "        <td id=\"T_b88c5376_64f4_11e8_a209_d46d6d337b28row6_col10\" class=\"data row6 col10\" >2</td> \n",
       "    </tr>    <tr> \n",
       "        <th id=\"T_b88c5376_64f4_11e8_a209_d46d6d337b28level0_row7\" class=\"row_heading level0 row7\" >Doc7</th> \n",
       "        <td id=\"T_b88c5376_64f4_11e8_a209_d46d6d337b28row7_col0\" class=\"data row7 col0\" >0</td> \n",
       "        <td id=\"T_b88c5376_64f4_11e8_a209_d46d6d337b28row7_col1\" class=\"data row7 col1\" >0</td> \n",
       "        <td id=\"T_b88c5376_64f4_11e8_a209_d46d6d337b28row7_col2\" class=\"data row7 col2\" >0.31</td> \n",
       "        <td id=\"T_b88c5376_64f4_11e8_a209_d46d6d337b28row7_col3\" class=\"data row7 col3\" >0</td> \n",
       "        <td id=\"T_b88c5376_64f4_11e8_a209_d46d6d337b28row7_col4\" class=\"data row7 col4\" >0.02</td> \n",
       "        <td id=\"T_b88c5376_64f4_11e8_a209_d46d6d337b28row7_col5\" class=\"data row7 col5\" >0</td> \n",
       "        <td id=\"T_b88c5376_64f4_11e8_a209_d46d6d337b28row7_col6\" class=\"data row7 col6\" >0</td> \n",
       "        <td id=\"T_b88c5376_64f4_11e8_a209_d46d6d337b28row7_col7\" class=\"data row7 col7\" >0.18</td> \n",
       "        <td id=\"T_b88c5376_64f4_11e8_a209_d46d6d337b28row7_col8\" class=\"data row7 col8\" >0</td> \n",
       "        <td id=\"T_b88c5376_64f4_11e8_a209_d46d6d337b28row7_col9\" class=\"data row7 col9\" >0.48</td> \n",
       "        <td id=\"T_b88c5376_64f4_11e8_a209_d46d6d337b28row7_col10\" class=\"data row7 col10\" >9</td> \n",
       "    </tr>    <tr> \n",
       "        <th id=\"T_b88c5376_64f4_11e8_a209_d46d6d337b28level0_row8\" class=\"row_heading level0 row8\" >Doc8</th> \n",
       "        <td id=\"T_b88c5376_64f4_11e8_a209_d46d6d337b28row8_col0\" class=\"data row8 col0\" >0.2</td> \n",
       "        <td id=\"T_b88c5376_64f4_11e8_a209_d46d6d337b28row8_col1\" class=\"data row8 col1\" >0.03</td> \n",
       "        <td id=\"T_b88c5376_64f4_11e8_a209_d46d6d337b28row8_col2\" class=\"data row8 col2\" >0</td> \n",
       "        <td id=\"T_b88c5376_64f4_11e8_a209_d46d6d337b28row8_col3\" class=\"data row8 col3\" >0</td> \n",
       "        <td id=\"T_b88c5376_64f4_11e8_a209_d46d6d337b28row8_col4\" class=\"data row8 col4\" >0</td> \n",
       "        <td id=\"T_b88c5376_64f4_11e8_a209_d46d6d337b28row8_col5\" class=\"data row8 col5\" >0.07</td> \n",
       "        <td id=\"T_b88c5376_64f4_11e8_a209_d46d6d337b28row8_col6\" class=\"data row8 col6\" >0.19</td> \n",
       "        <td id=\"T_b88c5376_64f4_11e8_a209_d46d6d337b28row8_col7\" class=\"data row8 col7\" >0.15</td> \n",
       "        <td id=\"T_b88c5376_64f4_11e8_a209_d46d6d337b28row8_col8\" class=\"data row8 col8\" >0.35</td> \n",
       "        <td id=\"T_b88c5376_64f4_11e8_a209_d46d6d337b28row8_col9\" class=\"data row8 col9\" >0</td> \n",
       "        <td id=\"T_b88c5376_64f4_11e8_a209_d46d6d337b28row8_col10\" class=\"data row8 col10\" >8</td> \n",
       "    </tr>    <tr> \n",
       "        <th id=\"T_b88c5376_64f4_11e8_a209_d46d6d337b28level0_row9\" class=\"row_heading level0 row9\" >Doc9</th> \n",
       "        <td id=\"T_b88c5376_64f4_11e8_a209_d46d6d337b28row9_col0\" class=\"data row9 col0\" >0.02</td> \n",
       "        <td id=\"T_b88c5376_64f4_11e8_a209_d46d6d337b28row9_col1\" class=\"data row9 col1\" >0</td> \n",
       "        <td id=\"T_b88c5376_64f4_11e8_a209_d46d6d337b28row9_col2\" class=\"data row9 col2\" >0</td> \n",
       "        <td id=\"T_b88c5376_64f4_11e8_a209_d46d6d337b28row9_col3\" class=\"data row9 col3\" >0</td> \n",
       "        <td id=\"T_b88c5376_64f4_11e8_a209_d46d6d337b28row9_col4\" class=\"data row9 col4\" >0</td> \n",
       "        <td id=\"T_b88c5376_64f4_11e8_a209_d46d6d337b28row9_col5\" class=\"data row9 col5\" >0</td> \n",
       "        <td id=\"T_b88c5376_64f4_11e8_a209_d46d6d337b28row9_col6\" class=\"data row9 col6\" >0</td> \n",
       "        <td id=\"T_b88c5376_64f4_11e8_a209_d46d6d337b28row9_col7\" class=\"data row9 col7\" >0.6</td> \n",
       "        <td id=\"T_b88c5376_64f4_11e8_a209_d46d6d337b28row9_col8\" class=\"data row9 col8\" >0.37</td> \n",
       "        <td id=\"T_b88c5376_64f4_11e8_a209_d46d6d337b28row9_col9\" class=\"data row9 col9\" >0</td> \n",
       "        <td id=\"T_b88c5376_64f4_11e8_a209_d46d6d337b28row9_col10\" class=\"data row9 col10\" >7</td> \n",
       "    </tr>    <tr> \n",
       "        <th id=\"T_b88c5376_64f4_11e8_a209_d46d6d337b28level0_row10\" class=\"row_heading level0 row10\" >Doc10</th> \n",
       "        <td id=\"T_b88c5376_64f4_11e8_a209_d46d6d337b28row10_col0\" class=\"data row10 col0\" >0.04</td> \n",
       "        <td id=\"T_b88c5376_64f4_11e8_a209_d46d6d337b28row10_col1\" class=\"data row10 col1\" >0.22</td> \n",
       "        <td id=\"T_b88c5376_64f4_11e8_a209_d46d6d337b28row10_col2\" class=\"data row10 col2\" >0.14</td> \n",
       "        <td id=\"T_b88c5376_64f4_11e8_a209_d46d6d337b28row10_col3\" class=\"data row10 col3\" >0.1</td> \n",
       "        <td id=\"T_b88c5376_64f4_11e8_a209_d46d6d337b28row10_col4\" class=\"data row10 col4\" >0</td> \n",
       "        <td id=\"T_b88c5376_64f4_11e8_a209_d46d6d337b28row10_col5\" class=\"data row10 col5\" >0.12</td> \n",
       "        <td id=\"T_b88c5376_64f4_11e8_a209_d46d6d337b28row10_col6\" class=\"data row10 col6\" >0</td> \n",
       "        <td id=\"T_b88c5376_64f4_11e8_a209_d46d6d337b28row10_col7\" class=\"data row10 col7\" >0.28</td> \n",
       "        <td id=\"T_b88c5376_64f4_11e8_a209_d46d6d337b28row10_col8\" class=\"data row10 col8\" >0</td> \n",
       "        <td id=\"T_b88c5376_64f4_11e8_a209_d46d6d337b28row10_col9\" class=\"data row10 col9\" >0.08</td> \n",
       "        <td id=\"T_b88c5376_64f4_11e8_a209_d46d6d337b28row10_col10\" class=\"data row10 col10\" >7</td> \n",
       "    </tr>    <tr> \n",
       "        <th id=\"T_b88c5376_64f4_11e8_a209_d46d6d337b28level0_row11\" class=\"row_heading level0 row11\" >Doc11</th> \n",
       "        <td id=\"T_b88c5376_64f4_11e8_a209_d46d6d337b28row11_col0\" class=\"data row11 col0\" >0</td> \n",
       "        <td id=\"T_b88c5376_64f4_11e8_a209_d46d6d337b28row11_col1\" class=\"data row11 col1\" >0.14</td> \n",
       "        <td id=\"T_b88c5376_64f4_11e8_a209_d46d6d337b28row11_col2\" class=\"data row11 col2\" >0</td> \n",
       "        <td id=\"T_b88c5376_64f4_11e8_a209_d46d6d337b28row11_col3\" class=\"data row11 col3\" >0</td> \n",
       "        <td id=\"T_b88c5376_64f4_11e8_a209_d46d6d337b28row11_col4\" class=\"data row11 col4\" >0.79</td> \n",
       "        <td id=\"T_b88c5376_64f4_11e8_a209_d46d6d337b28row11_col5\" class=\"data row11 col5\" >0</td> \n",
       "        <td id=\"T_b88c5376_64f4_11e8_a209_d46d6d337b28row11_col6\" class=\"data row11 col6\" >0</td> \n",
       "        <td id=\"T_b88c5376_64f4_11e8_a209_d46d6d337b28row11_col7\" class=\"data row11 col7\" >0</td> \n",
       "        <td id=\"T_b88c5376_64f4_11e8_a209_d46d6d337b28row11_col8\" class=\"data row11 col8\" >0</td> \n",
       "        <td id=\"T_b88c5376_64f4_11e8_a209_d46d6d337b28row11_col9\" class=\"data row11 col9\" >0.05</td> \n",
       "        <td id=\"T_b88c5376_64f4_11e8_a209_d46d6d337b28row11_col10\" class=\"data row11 col10\" >4</td> \n",
       "    </tr>    <tr> \n",
       "        <th id=\"T_b88c5376_64f4_11e8_a209_d46d6d337b28level0_row12\" class=\"row_heading level0 row12\" >Doc12</th> \n",
       "        <td id=\"T_b88c5376_64f4_11e8_a209_d46d6d337b28row12_col0\" class=\"data row12 col0\" >0</td> \n",
       "        <td id=\"T_b88c5376_64f4_11e8_a209_d46d6d337b28row12_col1\" class=\"data row12 col1\" >0</td> \n",
       "        <td id=\"T_b88c5376_64f4_11e8_a209_d46d6d337b28row12_col2\" class=\"data row12 col2\" >0.18</td> \n",
       "        <td id=\"T_b88c5376_64f4_11e8_a209_d46d6d337b28row12_col3\" class=\"data row12 col3\" >0</td> \n",
       "        <td id=\"T_b88c5376_64f4_11e8_a209_d46d6d337b28row12_col4\" class=\"data row12 col4\" >0.05</td> \n",
       "        <td id=\"T_b88c5376_64f4_11e8_a209_d46d6d337b28row12_col5\" class=\"data row12 col5\" >0.3</td> \n",
       "        <td id=\"T_b88c5376_64f4_11e8_a209_d46d6d337b28row12_col6\" class=\"data row12 col6\" >0.25</td> \n",
       "        <td id=\"T_b88c5376_64f4_11e8_a209_d46d6d337b28row12_col7\" class=\"data row12 col7\" >0.22</td> \n",
       "        <td id=\"T_b88c5376_64f4_11e8_a209_d46d6d337b28row12_col8\" class=\"data row12 col8\" >0</td> \n",
       "        <td id=\"T_b88c5376_64f4_11e8_a209_d46d6d337b28row12_col9\" class=\"data row12 col9\" >0</td> \n",
       "        <td id=\"T_b88c5376_64f4_11e8_a209_d46d6d337b28row12_col10\" class=\"data row12 col10\" >5</td> \n",
       "    </tr>    <tr> \n",
       "        <th id=\"T_b88c5376_64f4_11e8_a209_d46d6d337b28level0_row13\" class=\"row_heading level0 row13\" >Doc13</th> \n",
       "        <td id=\"T_b88c5376_64f4_11e8_a209_d46d6d337b28row13_col0\" class=\"data row13 col0\" >0</td> \n",
       "        <td id=\"T_b88c5376_64f4_11e8_a209_d46d6d337b28row13_col1\" class=\"data row13 col1\" >0</td> \n",
       "        <td id=\"T_b88c5376_64f4_11e8_a209_d46d6d337b28row13_col2\" class=\"data row13 col2\" >0.38</td> \n",
       "        <td id=\"T_b88c5376_64f4_11e8_a209_d46d6d337b28row13_col3\" class=\"data row13 col3\" >0</td> \n",
       "        <td id=\"T_b88c5376_64f4_11e8_a209_d46d6d337b28row13_col4\" class=\"data row13 col4\" >0.3</td> \n",
       "        <td id=\"T_b88c5376_64f4_11e8_a209_d46d6d337b28row13_col5\" class=\"data row13 col5\" >0</td> \n",
       "        <td id=\"T_b88c5376_64f4_11e8_a209_d46d6d337b28row13_col6\" class=\"data row13 col6\" >0</td> \n",
       "        <td id=\"T_b88c5376_64f4_11e8_a209_d46d6d337b28row13_col7\" class=\"data row13 col7\" >0.31</td> \n",
       "        <td id=\"T_b88c5376_64f4_11e8_a209_d46d6d337b28row13_col8\" class=\"data row13 col8\" >0</td> \n",
       "        <td id=\"T_b88c5376_64f4_11e8_a209_d46d6d337b28row13_col9\" class=\"data row13 col9\" >0</td> \n",
       "        <td id=\"T_b88c5376_64f4_11e8_a209_d46d6d337b28row13_col10\" class=\"data row13 col10\" >2</td> \n",
       "    </tr>    <tr> \n",
       "        <th id=\"T_b88c5376_64f4_11e8_a209_d46d6d337b28level0_row14\" class=\"row_heading level0 row14\" >Doc14</th> \n",
       "        <td id=\"T_b88c5376_64f4_11e8_a209_d46d6d337b28row14_col0\" class=\"data row14 col0\" >0</td> \n",
       "        <td id=\"T_b88c5376_64f4_11e8_a209_d46d6d337b28row14_col1\" class=\"data row14 col1\" >0.33</td> \n",
       "        <td id=\"T_b88c5376_64f4_11e8_a209_d46d6d337b28row14_col2\" class=\"data row14 col2\" >0</td> \n",
       "        <td id=\"T_b88c5376_64f4_11e8_a209_d46d6d337b28row14_col3\" class=\"data row14 col3\" >0</td> \n",
       "        <td id=\"T_b88c5376_64f4_11e8_a209_d46d6d337b28row14_col4\" class=\"data row14 col4\" >0</td> \n",
       "        <td id=\"T_b88c5376_64f4_11e8_a209_d46d6d337b28row14_col5\" class=\"data row14 col5\" >0.43</td> \n",
       "        <td id=\"T_b88c5376_64f4_11e8_a209_d46d6d337b28row14_col6\" class=\"data row14 col6\" >0</td> \n",
       "        <td id=\"T_b88c5376_64f4_11e8_a209_d46d6d337b28row14_col7\" class=\"data row14 col7\" >0.16</td> \n",
       "        <td id=\"T_b88c5376_64f4_11e8_a209_d46d6d337b28row14_col8\" class=\"data row14 col8\" >0</td> \n",
       "        <td id=\"T_b88c5376_64f4_11e8_a209_d46d6d337b28row14_col9\" class=\"data row14 col9\" >0.08</td> \n",
       "        <td id=\"T_b88c5376_64f4_11e8_a209_d46d6d337b28row14_col10\" class=\"data row14 col10\" >5</td> \n",
       "    </tr></tbody> \n",
       "</table> "
      ]
     },
     "execution_count": 24,
     "metadata": {},
     "output_type": "execute_result"
    }
   ],
   "source": [
    "# Create Document - Topic Matrix\n",
    "lda_output = best_lda_model.transform(data_vectorized)\n",
    "\n",
    "# column names\n",
    "topicnames = [\"Topic\" + str(i) for i in range(10)]\n",
    "\n",
    "# index names\n",
    "docnames = [\"Doc\" + str(i) for i in range(len(data))]\n",
    "\n",
    "# Make the pandas dataframe\n",
    "df_document_topic = pd.DataFrame(np.round(lda_output, 2), columns=topicnames, index=docnames)\n",
    "\n",
    "# Get dominant topic for each document\n",
    "dominant_topic = np.argmax(df_document_topic.values, axis=1)\n",
    "df_document_topic['dominant_topic'] = dominant_topic\n",
    "\n",
    "# Styling\n",
    "def color_green(val):\n",
    "    color = 'green' if val > .1 else 'black'\n",
    "    return 'color: {col}'.format(col=color)\n",
    "\n",
    "def make_bold(val):\n",
    "    weight = 700 if val > .1 else 400\n",
    "    return 'font-weight: {weight}'.format(weight=weight)\n",
    "\n",
    "# Apply Style\n",
    "df_document_topics = df_document_topic.head(15).style.applymap(color_green).applymap(make_bold)\n",
    "df_document_topics"
   ]
  },
  {
   "cell_type": "code",
   "execution_count": 39,
   "metadata": {},
   "outputs": [
    {
     "data": {
      "text/html": [
       "<div>\n",
       "<style scoped>\n",
       "    .dataframe tbody tr th:only-of-type {\n",
       "        vertical-align: middle;\n",
       "    }\n",
       "\n",
       "    .dataframe tbody tr th {\n",
       "        vertical-align: top;\n",
       "    }\n",
       "\n",
       "    .dataframe thead th {\n",
       "        text-align: right;\n",
       "    }\n",
       "</style>\n",
       "<table border=\"1\" class=\"dataframe\">\n",
       "  <thead>\n",
       "    <tr style=\"text-align: right;\">\n",
       "      <th></th>\n",
       "      <th>Topic Num</th>\n",
       "      <th>Num Documents</th>\n",
       "    </tr>\n",
       "  </thead>\n",
       "  <tbody>\n",
       "    <tr>\n",
       "      <th>0</th>\n",
       "      <td>2</td>\n",
       "      <td>3268</td>\n",
       "    </tr>\n",
       "    <tr>\n",
       "      <th>1</th>\n",
       "      <td>7</td>\n",
       "      <td>2496</td>\n",
       "    </tr>\n",
       "    <tr>\n",
       "      <th>2</th>\n",
       "      <td>4</td>\n",
       "      <td>1071</td>\n",
       "    </tr>\n",
       "    <tr>\n",
       "      <th>3</th>\n",
       "      <td>8</td>\n",
       "      <td>1070</td>\n",
       "    </tr>\n",
       "    <tr>\n",
       "      <th>4</th>\n",
       "      <td>9</td>\n",
       "      <td>898</td>\n",
       "    </tr>\n",
       "    <tr>\n",
       "      <th>5</th>\n",
       "      <td>5</td>\n",
       "      <td>815</td>\n",
       "    </tr>\n",
       "    <tr>\n",
       "      <th>6</th>\n",
       "      <td>6</td>\n",
       "      <td>523</td>\n",
       "    </tr>\n",
       "    <tr>\n",
       "      <th>7</th>\n",
       "      <td>1</td>\n",
       "      <td>484</td>\n",
       "    </tr>\n",
       "    <tr>\n",
       "      <th>8</th>\n",
       "      <td>3</td>\n",
       "      <td>425</td>\n",
       "    </tr>\n",
       "    <tr>\n",
       "      <th>9</th>\n",
       "      <td>0</td>\n",
       "      <td>264</td>\n",
       "    </tr>\n",
       "  </tbody>\n",
       "</table>\n",
       "</div>"
      ],
      "text/plain": [
       "<div>\n",
       "<style scoped>\n",
       "    .dataframe tbody tr th:only-of-type {\n",
       "        vertical-align: middle;\n",
       "    }\n",
       "\n",
       "    .dataframe tbody tr th {\n",
       "        vertical-align: top;\n",
       "    }\n",
       "\n",
       "    .dataframe thead th {\n",
       "        text-align: right;\n",
       "    }\n",
       "</style>\n",
       "<table border=\"1\" class=\"dataframe\">\n",
       "  <thead>\n",
       "    <tr style=\"text-align: right;\">\n",
       "      <th></th>\n",
       "      <th>Topic Num</th>\n",
       "      <th>Num Documents</th>\n",
       "    </tr>\n",
       "  </thead>\n",
       "  <tbody>\n",
       "    <tr>\n",
       "      <th>0</th>\n",
       "      <td>2</td>\n",
       "      <td>3268</td>\n",
       "    </tr>\n",
       "    <tr>\n",
       "      <th>1</th>\n",
       "      <td>7</td>\n",
       "      <td>2496</td>\n",
       "    </tr>\n",
       "    <tr>\n",
       "      <th>2</th>\n",
       "      <td>4</td>\n",
       "      <td>1071</td>\n",
       "    </tr>\n",
       "    <tr>\n",
       "      <th>3</th>\n",
       "      <td>8</td>\n",
       "      <td>1070</td>\n",
       "    </tr>\n",
       "    <tr>\n",
       "      <th>4</th>\n",
       "      <td>9</td>\n",
       "      <td>898</td>\n",
       "    </tr>\n",
       "    <tr>\n",
       "      <th>5</th>\n",
       "      <td>5</td>\n",
       "      <td>815</td>\n",
       "    </tr>\n",
       "    <tr>\n",
       "      <th>6</th>\n",
       "      <td>6</td>\n",
       "      <td>523</td>\n",
       "    </tr>\n",
       "    <tr>\n",
       "      <th>7</th>\n",
       "      <td>1</td>\n",
       "      <td>484</td>\n",
       "    </tr>\n",
       "    <tr>\n",
       "      <th>8</th>\n",
       "      <td>3</td>\n",
       "      <td>425</td>\n",
       "    </tr>\n",
       "    <tr>\n",
       "      <th>9</th>\n",
       "      <td>0</td>\n",
       "      <td>264</td>\n",
       "    </tr>\n",
       "  </tbody>\n",
       "</table>\n",
       "</div>"
      ]
     },
     "execution_count": 39,
     "metadata": {},
     "output_type": "execute_result"
    }
   ],
   "source": [
    "df_topic_distribution = df_document_topic['dominant_topic'].value_counts().reset_index(name=\"Num Documents\")\n",
    "df_topic_distribution.columns = ['Topic Num', 'Num Documents']\n",
    "df_topic_distribution"
   ]
  },
  {
   "cell_type": "code",
   "execution_count": 40,
   "metadata": {},
   "outputs": [],
   "source": [
    "pyLDAvis.enable_notebook()\n",
    "panel = pyLDAvis.sklearn.prepare(best_lda_model, data_vectorized, vectorizer, mds='tsne')\n",
    "panel"
   ]
  },
  {
   "cell_type": "code",
   "execution_count": 41,
   "metadata": {},
   "outputs": [
    {
     "data": {
      "text/html": [
       "<div>\n",
       "<style scoped>\n",
       "    .dataframe tbody tr th:only-of-type {\n",
       "        vertical-align: middle;\n",
       "    }\n",
       "\n",
       "    .dataframe tbody tr th {\n",
       "        vertical-align: top;\n",
       "    }\n",
       "\n",
       "    .dataframe thead th {\n",
       "        text-align: right;\n",
       "    }\n",
       "</style>\n",
       "<table border=\"1\" class=\"dataframe\">\n",
       "  <thead>\n",
       "    <tr style=\"text-align: right;\">\n",
       "      <th></th>\n",
       "      <th>aaa</th>\n",
       "      <th>aaron</th>\n",
       "      <th>abandon</th>\n",
       "      <th>abbreviation</th>\n",
       "      <th>abc</th>\n",
       "      <th>abide</th>\n",
       "      <th>ability</th>\n",
       "      <th>able</th>\n",
       "      <th>abolish</th>\n",
       "      <th>abomination</th>\n",
       "      <th>...</th>\n",
       "      <th>zion</th>\n",
       "      <th>zionism</th>\n",
       "      <th>zionist</th>\n",
       "      <th>zip</th>\n",
       "      <th>zisfein</th>\n",
       "      <th>zone</th>\n",
       "      <th>zoology</th>\n",
       "      <th>zoom</th>\n",
       "      <th>zubov</th>\n",
       "      <th>zurich</th>\n",
       "    </tr>\n",
       "  </thead>\n",
       "  <tbody>\n",
       "    <tr>\n",
       "      <th>Topic0</th>\n",
       "      <td>0.100002</td>\n",
       "      <td>0.100015</td>\n",
       "      <td>14.754765</td>\n",
       "      <td>0.100020</td>\n",
       "      <td>34.708590</td>\n",
       "      <td>0.100011</td>\n",
       "      <td>0.100033</td>\n",
       "      <td>52.109009</td>\n",
       "      <td>0.100007</td>\n",
       "      <td>6.905695</td>\n",
       "      <td>...</td>\n",
       "      <td>0.100070</td>\n",
       "      <td>0.100006</td>\n",
       "      <td>0.100026</td>\n",
       "      <td>0.100015</td>\n",
       "      <td>0.100002</td>\n",
       "      <td>0.100041</td>\n",
       "      <td>0.100001</td>\n",
       "      <td>0.100005</td>\n",
       "      <td>0.100001</td>\n",
       "      <td>0.100059</td>\n",
       "    </tr>\n",
       "    <tr>\n",
       "      <th>Topic1</th>\n",
       "      <td>0.100006</td>\n",
       "      <td>0.100022</td>\n",
       "      <td>0.100011</td>\n",
       "      <td>0.100008</td>\n",
       "      <td>0.100007</td>\n",
       "      <td>21.602289</td>\n",
       "      <td>72.773407</td>\n",
       "      <td>98.374116</td>\n",
       "      <td>0.100012</td>\n",
       "      <td>0.100003</td>\n",
       "      <td>...</td>\n",
       "      <td>0.100010</td>\n",
       "      <td>0.100002</td>\n",
       "      <td>0.100004</td>\n",
       "      <td>0.100007</td>\n",
       "      <td>0.100008</td>\n",
       "      <td>0.100023</td>\n",
       "      <td>82.649642</td>\n",
       "      <td>0.100003</td>\n",
       "      <td>0.100000</td>\n",
       "      <td>5.803779</td>\n",
       "    </tr>\n",
       "    <tr>\n",
       "      <th>Topic2</th>\n",
       "      <td>0.100009</td>\n",
       "      <td>43.477379</td>\n",
       "      <td>0.100039</td>\n",
       "      <td>8.123930</td>\n",
       "      <td>49.078227</td>\n",
       "      <td>0.100003</td>\n",
       "      <td>28.340801</td>\n",
       "      <td>249.347841</td>\n",
       "      <td>0.100002</td>\n",
       "      <td>0.100010</td>\n",
       "      <td>...</td>\n",
       "      <td>0.100109</td>\n",
       "      <td>0.100001</td>\n",
       "      <td>0.100000</td>\n",
       "      <td>8.563903</td>\n",
       "      <td>0.100009</td>\n",
       "      <td>0.100091</td>\n",
       "      <td>0.100003</td>\n",
       "      <td>29.579308</td>\n",
       "      <td>0.100001</td>\n",
       "      <td>11.498509</td>\n",
       "    </tr>\n",
       "    <tr>\n",
       "      <th>Topic3</th>\n",
       "      <td>0.100006</td>\n",
       "      <td>0.100398</td>\n",
       "      <td>0.100121</td>\n",
       "      <td>0.100058</td>\n",
       "      <td>0.100041</td>\n",
       "      <td>0.100003</td>\n",
       "      <td>0.100027</td>\n",
       "      <td>0.100033</td>\n",
       "      <td>0.100009</td>\n",
       "      <td>0.100001</td>\n",
       "      <td>...</td>\n",
       "      <td>0.100077</td>\n",
       "      <td>70.704723</td>\n",
       "      <td>79.193521</td>\n",
       "      <td>0.100010</td>\n",
       "      <td>0.100002</td>\n",
       "      <td>92.153262</td>\n",
       "      <td>0.100023</td>\n",
       "      <td>0.100010</td>\n",
       "      <td>0.100002</td>\n",
       "      <td>0.100133</td>\n",
       "    </tr>\n",
       "    <tr>\n",
       "      <th>Topic4</th>\n",
       "      <td>64.303436</td>\n",
       "      <td>9.729042</td>\n",
       "      <td>0.100020</td>\n",
       "      <td>0.100220</td>\n",
       "      <td>0.100206</td>\n",
       "      <td>0.100002</td>\n",
       "      <td>49.206055</td>\n",
       "      <td>39.630761</td>\n",
       "      <td>0.100003</td>\n",
       "      <td>0.100003</td>\n",
       "      <td>...</td>\n",
       "      <td>0.100009</td>\n",
       "      <td>0.100000</td>\n",
       "      <td>0.100000</td>\n",
       "      <td>0.100007</td>\n",
       "      <td>0.100017</td>\n",
       "      <td>77.757735</td>\n",
       "      <td>0.100001</td>\n",
       "      <td>0.100014</td>\n",
       "      <td>16.379636</td>\n",
       "      <td>0.100224</td>\n",
       "    </tr>\n",
       "  </tbody>\n",
       "</table>\n",
       "<p>5 rows × 9751 columns</p>\n",
       "</div>"
      ],
      "text/plain": [
       "<div>\n",
       "<style scoped>\n",
       "    .dataframe tbody tr th:only-of-type {\n",
       "        vertical-align: middle;\n",
       "    }\n",
       "\n",
       "    .dataframe tbody tr th {\n",
       "        vertical-align: top;\n",
       "    }\n",
       "\n",
       "    .dataframe thead th {\n",
       "        text-align: right;\n",
       "    }\n",
       "</style>\n",
       "<table border=\"1\" class=\"dataframe\">\n",
       "  <thead>\n",
       "    <tr style=\"text-align: right;\">\n",
       "      <th></th>\n",
       "      <th>aaa</th>\n",
       "      <th>aaron</th>\n",
       "      <th>abandon</th>\n",
       "      <th>abbreviation</th>\n",
       "      <th>abc</th>\n",
       "      <th>abide</th>\n",
       "      <th>ability</th>\n",
       "      <th>able</th>\n",
       "      <th>abolish</th>\n",
       "      <th>abomination</th>\n",
       "      <th>...</th>\n",
       "      <th>zion</th>\n",
       "      <th>zionism</th>\n",
       "      <th>zionist</th>\n",
       "      <th>zip</th>\n",
       "      <th>zisfein</th>\n",
       "      <th>zone</th>\n",
       "      <th>zoology</th>\n",
       "      <th>zoom</th>\n",
       "      <th>zubov</th>\n",
       "      <th>zurich</th>\n",
       "    </tr>\n",
       "  </thead>\n",
       "  <tbody>\n",
       "    <tr>\n",
       "      <th>Topic0</th>\n",
       "      <td>0.100002</td>\n",
       "      <td>0.100015</td>\n",
       "      <td>14.754765</td>\n",
       "      <td>0.100020</td>\n",
       "      <td>34.708590</td>\n",
       "      <td>0.100011</td>\n",
       "      <td>0.100033</td>\n",
       "      <td>52.109009</td>\n",
       "      <td>0.100007</td>\n",
       "      <td>6.905695</td>\n",
       "      <td>...</td>\n",
       "      <td>0.100070</td>\n",
       "      <td>0.100006</td>\n",
       "      <td>0.100026</td>\n",
       "      <td>0.100015</td>\n",
       "      <td>0.100002</td>\n",
       "      <td>0.100041</td>\n",
       "      <td>0.100001</td>\n",
       "      <td>0.100005</td>\n",
       "      <td>0.100001</td>\n",
       "      <td>0.100059</td>\n",
       "    </tr>\n",
       "    <tr>\n",
       "      <th>Topic1</th>\n",
       "      <td>0.100006</td>\n",
       "      <td>0.100022</td>\n",
       "      <td>0.100011</td>\n",
       "      <td>0.100008</td>\n",
       "      <td>0.100007</td>\n",
       "      <td>21.602289</td>\n",
       "      <td>72.773407</td>\n",
       "      <td>98.374116</td>\n",
       "      <td>0.100012</td>\n",
       "      <td>0.100003</td>\n",
       "      <td>...</td>\n",
       "      <td>0.100010</td>\n",
       "      <td>0.100002</td>\n",
       "      <td>0.100004</td>\n",
       "      <td>0.100007</td>\n",
       "      <td>0.100008</td>\n",
       "      <td>0.100023</td>\n",
       "      <td>82.649642</td>\n",
       "      <td>0.100003</td>\n",
       "      <td>0.100000</td>\n",
       "      <td>5.803779</td>\n",
       "    </tr>\n",
       "    <tr>\n",
       "      <th>Topic2</th>\n",
       "      <td>0.100009</td>\n",
       "      <td>43.477379</td>\n",
       "      <td>0.100039</td>\n",
       "      <td>8.123930</td>\n",
       "      <td>49.078227</td>\n",
       "      <td>0.100003</td>\n",
       "      <td>28.340801</td>\n",
       "      <td>249.347841</td>\n",
       "      <td>0.100002</td>\n",
       "      <td>0.100010</td>\n",
       "      <td>...</td>\n",
       "      <td>0.100109</td>\n",
       "      <td>0.100001</td>\n",
       "      <td>0.100000</td>\n",
       "      <td>8.563903</td>\n",
       "      <td>0.100009</td>\n",
       "      <td>0.100091</td>\n",
       "      <td>0.100003</td>\n",
       "      <td>29.579308</td>\n",
       "      <td>0.100001</td>\n",
       "      <td>11.498509</td>\n",
       "    </tr>\n",
       "    <tr>\n",
       "      <th>Topic3</th>\n",
       "      <td>0.100006</td>\n",
       "      <td>0.100398</td>\n",
       "      <td>0.100121</td>\n",
       "      <td>0.100058</td>\n",
       "      <td>0.100041</td>\n",
       "      <td>0.100003</td>\n",
       "      <td>0.100027</td>\n",
       "      <td>0.100033</td>\n",
       "      <td>0.100009</td>\n",
       "      <td>0.100001</td>\n",
       "      <td>...</td>\n",
       "      <td>0.100077</td>\n",
       "      <td>70.704723</td>\n",
       "      <td>79.193521</td>\n",
       "      <td>0.100010</td>\n",
       "      <td>0.100002</td>\n",
       "      <td>92.153262</td>\n",
       "      <td>0.100023</td>\n",
       "      <td>0.100010</td>\n",
       "      <td>0.100002</td>\n",
       "      <td>0.100133</td>\n",
       "    </tr>\n",
       "    <tr>\n",
       "      <th>Topic4</th>\n",
       "      <td>64.303436</td>\n",
       "      <td>9.729042</td>\n",
       "      <td>0.100020</td>\n",
       "      <td>0.100220</td>\n",
       "      <td>0.100206</td>\n",
       "      <td>0.100002</td>\n",
       "      <td>49.206055</td>\n",
       "      <td>39.630761</td>\n",
       "      <td>0.100003</td>\n",
       "      <td>0.100003</td>\n",
       "      <td>...</td>\n",
       "      <td>0.100009</td>\n",
       "      <td>0.100000</td>\n",
       "      <td>0.100000</td>\n",
       "      <td>0.100007</td>\n",
       "      <td>0.100017</td>\n",
       "      <td>77.757735</td>\n",
       "      <td>0.100001</td>\n",
       "      <td>0.100014</td>\n",
       "      <td>16.379636</td>\n",
       "      <td>0.100224</td>\n",
       "    </tr>\n",
       "  </tbody>\n",
       "</table>\n",
       "<p>5 rows × 9751 columns</p>\n",
       "</div>"
      ]
     },
     "execution_count": 41,
     "metadata": {},
     "output_type": "execute_result"
    }
   ],
   "source": [
    "# Topic-Keyword Matrix\n",
    "df_topic_keywords = pd.DataFrame(best_lda_model.components_)\n",
    "\n",
    "# Assign Column and Index\n",
    "df_topic_keywords.columns = vectorizer.get_feature_names()\n",
    "df_topic_keywords.index = topicnames\n",
    "\n",
    "# View\n",
    "df_topic_keywords.head()"
   ]
  },
  {
   "cell_type": "code",
   "execution_count": 42,
   "metadata": {},
   "outputs": [
    {
     "data": {
      "text/html": [
       "<div>\n",
       "<style scoped>\n",
       "    .dataframe tbody tr th:only-of-type {\n",
       "        vertical-align: middle;\n",
       "    }\n",
       "\n",
       "    .dataframe tbody tr th {\n",
       "        vertical-align: top;\n",
       "    }\n",
       "\n",
       "    .dataframe thead th {\n",
       "        text-align: right;\n",
       "    }\n",
       "</style>\n",
       "<table border=\"1\" class=\"dataframe\">\n",
       "  <thead>\n",
       "    <tr style=\"text-align: right;\">\n",
       "      <th></th>\n",
       "      <th>aaa</th>\n",
       "      <th>aaron</th>\n",
       "      <th>abandon</th>\n",
       "      <th>abbreviation</th>\n",
       "      <th>abc</th>\n",
       "      <th>abide</th>\n",
       "      <th>ability</th>\n",
       "      <th>able</th>\n",
       "      <th>abolish</th>\n",
       "      <th>abomination</th>\n",
       "      <th>...</th>\n",
       "      <th>zion</th>\n",
       "      <th>zionism</th>\n",
       "      <th>zionist</th>\n",
       "      <th>zip</th>\n",
       "      <th>zisfein</th>\n",
       "      <th>zone</th>\n",
       "      <th>zoology</th>\n",
       "      <th>zoom</th>\n",
       "      <th>zubov</th>\n",
       "      <th>zurich</th>\n",
       "    </tr>\n",
       "  </thead>\n",
       "  <tbody>\n",
       "    <tr>\n",
       "      <th>Topic0</th>\n",
       "      <td>0.100002</td>\n",
       "      <td>0.100015</td>\n",
       "      <td>14.754765</td>\n",
       "      <td>0.100020</td>\n",
       "      <td>34.708590</td>\n",
       "      <td>0.100011</td>\n",
       "      <td>0.100033</td>\n",
       "      <td>52.109009</td>\n",
       "      <td>0.100007</td>\n",
       "      <td>6.905695</td>\n",
       "      <td>...</td>\n",
       "      <td>0.100070</td>\n",
       "      <td>0.100006</td>\n",
       "      <td>0.100026</td>\n",
       "      <td>0.100015</td>\n",
       "      <td>0.100002</td>\n",
       "      <td>0.100041</td>\n",
       "      <td>0.100001</td>\n",
       "      <td>0.100005</td>\n",
       "      <td>0.100001</td>\n",
       "      <td>0.100059</td>\n",
       "    </tr>\n",
       "    <tr>\n",
       "      <th>Topic1</th>\n",
       "      <td>0.100006</td>\n",
       "      <td>0.100022</td>\n",
       "      <td>0.100011</td>\n",
       "      <td>0.100008</td>\n",
       "      <td>0.100007</td>\n",
       "      <td>21.602289</td>\n",
       "      <td>72.773407</td>\n",
       "      <td>98.374116</td>\n",
       "      <td>0.100012</td>\n",
       "      <td>0.100003</td>\n",
       "      <td>...</td>\n",
       "      <td>0.100010</td>\n",
       "      <td>0.100002</td>\n",
       "      <td>0.100004</td>\n",
       "      <td>0.100007</td>\n",
       "      <td>0.100008</td>\n",
       "      <td>0.100023</td>\n",
       "      <td>82.649642</td>\n",
       "      <td>0.100003</td>\n",
       "      <td>0.100000</td>\n",
       "      <td>5.803779</td>\n",
       "    </tr>\n",
       "    <tr>\n",
       "      <th>Topic2</th>\n",
       "      <td>0.100009</td>\n",
       "      <td>43.477379</td>\n",
       "      <td>0.100039</td>\n",
       "      <td>8.123930</td>\n",
       "      <td>49.078227</td>\n",
       "      <td>0.100003</td>\n",
       "      <td>28.340801</td>\n",
       "      <td>249.347841</td>\n",
       "      <td>0.100002</td>\n",
       "      <td>0.100010</td>\n",
       "      <td>...</td>\n",
       "      <td>0.100109</td>\n",
       "      <td>0.100001</td>\n",
       "      <td>0.100000</td>\n",
       "      <td>8.563903</td>\n",
       "      <td>0.100009</td>\n",
       "      <td>0.100091</td>\n",
       "      <td>0.100003</td>\n",
       "      <td>29.579308</td>\n",
       "      <td>0.100001</td>\n",
       "      <td>11.498509</td>\n",
       "    </tr>\n",
       "    <tr>\n",
       "      <th>Topic3</th>\n",
       "      <td>0.100006</td>\n",
       "      <td>0.100398</td>\n",
       "      <td>0.100121</td>\n",
       "      <td>0.100058</td>\n",
       "      <td>0.100041</td>\n",
       "      <td>0.100003</td>\n",
       "      <td>0.100027</td>\n",
       "      <td>0.100033</td>\n",
       "      <td>0.100009</td>\n",
       "      <td>0.100001</td>\n",
       "      <td>...</td>\n",
       "      <td>0.100077</td>\n",
       "      <td>70.704723</td>\n",
       "      <td>79.193521</td>\n",
       "      <td>0.100010</td>\n",
       "      <td>0.100002</td>\n",
       "      <td>92.153262</td>\n",
       "      <td>0.100023</td>\n",
       "      <td>0.100010</td>\n",
       "      <td>0.100002</td>\n",
       "      <td>0.100133</td>\n",
       "    </tr>\n",
       "    <tr>\n",
       "      <th>Topic4</th>\n",
       "      <td>64.303436</td>\n",
       "      <td>9.729042</td>\n",
       "      <td>0.100020</td>\n",
       "      <td>0.100220</td>\n",
       "      <td>0.100206</td>\n",
       "      <td>0.100002</td>\n",
       "      <td>49.206055</td>\n",
       "      <td>39.630761</td>\n",
       "      <td>0.100003</td>\n",
       "      <td>0.100003</td>\n",
       "      <td>...</td>\n",
       "      <td>0.100009</td>\n",
       "      <td>0.100000</td>\n",
       "      <td>0.100000</td>\n",
       "      <td>0.100007</td>\n",
       "      <td>0.100017</td>\n",
       "      <td>77.757735</td>\n",
       "      <td>0.100001</td>\n",
       "      <td>0.100014</td>\n",
       "      <td>16.379636</td>\n",
       "      <td>0.100224</td>\n",
       "    </tr>\n",
       "  </tbody>\n",
       "</table>\n",
       "<p>5 rows × 9751 columns</p>\n",
       "</div>"
      ],
      "text/plain": [
       "<div>\n",
       "<style scoped>\n",
       "    .dataframe tbody tr th:only-of-type {\n",
       "        vertical-align: middle;\n",
       "    }\n",
       "\n",
       "    .dataframe tbody tr th {\n",
       "        vertical-align: top;\n",
       "    }\n",
       "\n",
       "    .dataframe thead th {\n",
       "        text-align: right;\n",
       "    }\n",
       "</style>\n",
       "<table border=\"1\" class=\"dataframe\">\n",
       "  <thead>\n",
       "    <tr style=\"text-align: right;\">\n",
       "      <th></th>\n",
       "      <th>aaa</th>\n",
       "      <th>aaron</th>\n",
       "      <th>abandon</th>\n",
       "      <th>abbreviation</th>\n",
       "      <th>abc</th>\n",
       "      <th>abide</th>\n",
       "      <th>ability</th>\n",
       "      <th>able</th>\n",
       "      <th>abolish</th>\n",
       "      <th>abomination</th>\n",
       "      <th>...</th>\n",
       "      <th>zion</th>\n",
       "      <th>zionism</th>\n",
       "      <th>zionist</th>\n",
       "      <th>zip</th>\n",
       "      <th>zisfein</th>\n",
       "      <th>zone</th>\n",
       "      <th>zoology</th>\n",
       "      <th>zoom</th>\n",
       "      <th>zubov</th>\n",
       "      <th>zurich</th>\n",
       "    </tr>\n",
       "  </thead>\n",
       "  <tbody>\n",
       "    <tr>\n",
       "      <th>Topic0</th>\n",
       "      <td>0.100002</td>\n",
       "      <td>0.100015</td>\n",
       "      <td>14.754765</td>\n",
       "      <td>0.100020</td>\n",
       "      <td>34.708590</td>\n",
       "      <td>0.100011</td>\n",
       "      <td>0.100033</td>\n",
       "      <td>52.109009</td>\n",
       "      <td>0.100007</td>\n",
       "      <td>6.905695</td>\n",
       "      <td>...</td>\n",
       "      <td>0.100070</td>\n",
       "      <td>0.100006</td>\n",
       "      <td>0.100026</td>\n",
       "      <td>0.100015</td>\n",
       "      <td>0.100002</td>\n",
       "      <td>0.100041</td>\n",
       "      <td>0.100001</td>\n",
       "      <td>0.100005</td>\n",
       "      <td>0.100001</td>\n",
       "      <td>0.100059</td>\n",
       "    </tr>\n",
       "    <tr>\n",
       "      <th>Topic1</th>\n",
       "      <td>0.100006</td>\n",
       "      <td>0.100022</td>\n",
       "      <td>0.100011</td>\n",
       "      <td>0.100008</td>\n",
       "      <td>0.100007</td>\n",
       "      <td>21.602289</td>\n",
       "      <td>72.773407</td>\n",
       "      <td>98.374116</td>\n",
       "      <td>0.100012</td>\n",
       "      <td>0.100003</td>\n",
       "      <td>...</td>\n",
       "      <td>0.100010</td>\n",
       "      <td>0.100002</td>\n",
       "      <td>0.100004</td>\n",
       "      <td>0.100007</td>\n",
       "      <td>0.100008</td>\n",
       "      <td>0.100023</td>\n",
       "      <td>82.649642</td>\n",
       "      <td>0.100003</td>\n",
       "      <td>0.100000</td>\n",
       "      <td>5.803779</td>\n",
       "    </tr>\n",
       "    <tr>\n",
       "      <th>Topic2</th>\n",
       "      <td>0.100009</td>\n",
       "      <td>43.477379</td>\n",
       "      <td>0.100039</td>\n",
       "      <td>8.123930</td>\n",
       "      <td>49.078227</td>\n",
       "      <td>0.100003</td>\n",
       "      <td>28.340801</td>\n",
       "      <td>249.347841</td>\n",
       "      <td>0.100002</td>\n",
       "      <td>0.100010</td>\n",
       "      <td>...</td>\n",
       "      <td>0.100109</td>\n",
       "      <td>0.100001</td>\n",
       "      <td>0.100000</td>\n",
       "      <td>8.563903</td>\n",
       "      <td>0.100009</td>\n",
       "      <td>0.100091</td>\n",
       "      <td>0.100003</td>\n",
       "      <td>29.579308</td>\n",
       "      <td>0.100001</td>\n",
       "      <td>11.498509</td>\n",
       "    </tr>\n",
       "    <tr>\n",
       "      <th>Topic3</th>\n",
       "      <td>0.100006</td>\n",
       "      <td>0.100398</td>\n",
       "      <td>0.100121</td>\n",
       "      <td>0.100058</td>\n",
       "      <td>0.100041</td>\n",
       "      <td>0.100003</td>\n",
       "      <td>0.100027</td>\n",
       "      <td>0.100033</td>\n",
       "      <td>0.100009</td>\n",
       "      <td>0.100001</td>\n",
       "      <td>...</td>\n",
       "      <td>0.100077</td>\n",
       "      <td>70.704723</td>\n",
       "      <td>79.193521</td>\n",
       "      <td>0.100010</td>\n",
       "      <td>0.100002</td>\n",
       "      <td>92.153262</td>\n",
       "      <td>0.100023</td>\n",
       "      <td>0.100010</td>\n",
       "      <td>0.100002</td>\n",
       "      <td>0.100133</td>\n",
       "    </tr>\n",
       "    <tr>\n",
       "      <th>Topic4</th>\n",
       "      <td>64.303436</td>\n",
       "      <td>9.729042</td>\n",
       "      <td>0.100020</td>\n",
       "      <td>0.100220</td>\n",
       "      <td>0.100206</td>\n",
       "      <td>0.100002</td>\n",
       "      <td>49.206055</td>\n",
       "      <td>39.630761</td>\n",
       "      <td>0.100003</td>\n",
       "      <td>0.100003</td>\n",
       "      <td>...</td>\n",
       "      <td>0.100009</td>\n",
       "      <td>0.100000</td>\n",
       "      <td>0.100000</td>\n",
       "      <td>0.100007</td>\n",
       "      <td>0.100017</td>\n",
       "      <td>77.757735</td>\n",
       "      <td>0.100001</td>\n",
       "      <td>0.100014</td>\n",
       "      <td>16.379636</td>\n",
       "      <td>0.100224</td>\n",
       "    </tr>\n",
       "  </tbody>\n",
       "</table>\n",
       "<p>5 rows × 9751 columns</p>\n",
       "</div>"
      ]
     },
     "execution_count": 42,
     "metadata": {},
     "output_type": "execute_result"
    }
   ],
   "source": [
    "# Topic-Keyword Matrix\n",
    "df_topic_keywords = pd.DataFrame(best_lda_model.components_)\n",
    "\n",
    "# Assign Column and Index\n",
    "df_topic_keywords.columns = vectorizer.get_feature_names()\n",
    "df_topic_keywords.index = topicnames\n",
    "\n",
    "# View\n",
    "df_topic_keywords.head()"
   ]
  },
  {
   "cell_type": "code",
   "execution_count": 43,
   "metadata": {},
   "outputs": [
    {
     "name": "stdout",
     "output_type": "stream",
     "text": [
      "Component's weights: \n"
     ]
    },
    {
     "name": "stdout",
     "output_type": "stream",
     "text": [
      " "
     ]
    },
    {
     "name": "stdout",
     "output_type": "stream",
     "text": [
      "[[ 0.05  0.07  0.79  0.09  0.16  0.21  0.09  0.46  0.14  0.22]\n [ 0.08  0.06 -0.55  0.09  0.17  0.11  0.17  0.71  0.31 -0.09]]"
     ]
    },
    {
     "name": "stdout",
     "output_type": "stream",
     "text": [
      "\n"
     ]
    },
    {
     "name": "stdout",
     "output_type": "stream",
     "text": [
      "Perc of Variance Explained: \n"
     ]
    },
    {
     "name": "stdout",
     "output_type": "stream",
     "text": [
      " "
     ]
    },
    {
     "name": "stdout",
     "output_type": "stream",
     "text": [
      "[0.09 0.28]"
     ]
    },
    {
     "name": "stdout",
     "output_type": "stream",
     "text": [
      "\n"
     ]
    }
   ],
   "source": [
    "# Construct the k-means clusters\n",
    "from sklearn.cluster import KMeans\n",
    "clusters = KMeans(n_clusters=15, random_state=100).fit_predict(lda_output)\n",
    "\n",
    "# Build the Singular Value Decomposition(SVD) model\n",
    "svd_model = TruncatedSVD(n_components=2)  # 2 components\n",
    "lda_output_svd = svd_model.fit_transform(lda_output)\n",
    "\n",
    "# X and Y axes of the plot using SVD decomposition\n",
    "x = lda_output_svd[:, 0]\n",
    "y = lda_output_svd[:, 1]\n",
    "\n",
    "# Weights for the 15 columns of lda_output, for each component\n",
    "print(\"Component's weights: \\n\", np.round(svd_model.components_, 2))\n",
    "\n",
    "# Percentage of total information in 'lda_output' explained by the two components\n",
    "print(\"Perc of Variance Explained: \\n\", np.round(svd_model.explained_variance_ratio_, 2))"
   ]
  },
  {
   "cell_type": "code",
   "execution_count": 47,
   "metadata": {},
   "outputs": [
    {
     "data": {
      "text/plain": [
       "Text(0.5,1,'Segregation of Topic Clusters')"
      ]
     },
     "execution_count": 47,
     "metadata": {},
     "output_type": "execute_result"
    }
   ],
   "source": [
    "# Plot\n",
    "plt.figure(figsize=(12, 12))\n",
    "plt.scatter(x, y, c=clusters)\n",
    "plt.xlabel('Component 2')\n",
    "plt.xlabel('Component 1')\n",
    "plt.title(\"Segregation of Topic Clusters\", )"
   ]
  },
  {
   "cell_type": "code",
   "execution_count": 45,
   "metadata": {},
   "outputs": [],
   "source": [
    ""
   ]
  },
  {
   "cell_type": "code",
   "execution_count": null,
   "metadata": {},
   "outputs": [],
   "source": []
  }
 ],
 "metadata": {
  "kernelspec": {
   "display_name": "Python 2",
   "language": "python",
   "name": "python2"
  },
  "language_info": {
   "codemirror_mode": {
    "name": "ipython",
    "version": 2
   },
   "file_extension": ".py",
   "mimetype": "text/x-python",
   "name": "python",
   "nbconvert_exporter": "python",
   "pygments_lexer": "ipython2",
   "version": "2.7.6"
  }
 },
 "nbformat": 4,
 "nbformat_minor": 0
}
